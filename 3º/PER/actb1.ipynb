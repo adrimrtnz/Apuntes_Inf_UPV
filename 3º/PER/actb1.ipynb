{
 "cells": [
  {
   "cell_type": "code",
   "execution_count": null,
   "metadata": {},
   "outputs": [],
   "source": [
    "import numpy as np\n",
    "\n",
    "X=np.array([[0,0],[2,4],[2,2],[1,2],[3,6]])\n",
    "\n",
    "print(X.shape)\n",
    "print(X)\n",
    "\n"
   ]
  },
  {
   "cell_type": "code",
   "execution_count": null,
   "metadata": {},
   "outputs": [],
   "source": [
    "from matplotlib import pyplot as plt\n",
    "\n",
    "plt.figure(figsize=(5,5))\n",
    "plt.xlim(0, 7)\n",
    "plt.ylim(0, 7)\n",
    "\n",
    "plt.grid(color='black', linestyle='-', linewidth=1)\n",
    "plt.plot(X[:,0],X[:,1],'ro')\n"
   ]
  },
  {
   "cell_type": "code",
   "execution_count": null,
   "metadata": {},
   "outputs": [],
   "source": [
    "meanX=np.mean(X,axis=0)\n",
    "C=np.matmul(np.transpose(X-meanX),X-meanX)\n",
    "print(C)\n"
   ]
  },
  {
   "cell_type": "code",
   "execution_count": null,
   "metadata": {},
   "outputs": [],
   "source": [
    "\n",
    "l, U = np.linalg.eig(C)\n",
    "print(U)\n",
    "print(l)\n",
    "\n",
    "print(np.linalg.norm(U[0,:]))\n",
    "print(np.linalg.norm(U[1,:]))\n",
    "print(np.dot(U[0,:],U[1,:]))"
   ]
  },
  {
   "cell_type": "code",
   "execution_count": null,
   "metadata": {},
   "outputs": [],
   "source": [
    "plt.figure(figsize=(5,5))\n",
    "plt.xlim(0, 7)\n",
    "plt.ylim(0, 7)\n",
    "\n",
    "origin = np.array([[1.5, 1.5],[3, 3]]) # origin point\n",
    "plt.grid(color='black', linestyle='-', linewidth=1)\n",
    "plt.plot(X[:,0],X[:,1],'ro')\n",
    "plt.quiver(*origin, U[0,:], U[1,:], color=['g','b'], scale=np.array([10,5]))\n",
    "plt.show()\n",
    "\n"
   ]
  },
  {
   "cell_type": "code",
   "execution_count": null,
   "metadata": {},
   "outputs": [],
   "source": [
    "XT=np.matmul(X-meanX,U)\n",
    "\n",
    "\n",
    "plt.grid(color='black', linestyle='-', linewidth=1)\n",
    "plt.plot(XT[:,0],XT[:,1],'ro')\n",
    "\n",
    "meanXT=np.mean(XT,axis=0)\n",
    "print(meanXT)\n",
    "\n",
    "\n",
    "CT=np.matmul(np.transpose(XT-meanXT),XT-meanXT)\n",
    "print(CT)\n",
    "\n",
    "\n"
   ]
  }
 ],
 "metadata": {
  "kernelspec": {
   "display_name": "Python 3",
   "language": "python",
   "name": "python3"
  },
  "language_info": {
   "codemirror_mode": {
    "name": "ipython",
    "version": 3
   },
   "file_extension": ".py",
   "mimetype": "text/x-python",
   "name": "python",
   "nbconvert_exporter": "python",
   "pygments_lexer": "ipython3",
   "version": "3.10.6"
  },
  "orig_nbformat": 4,
  "vscode": {
   "interpreter": {
    "hash": "aee8b7b246df8f9039afb4144a1f6fd8d2ca17a180786b69acc140d282b71a49"
   }
  }
 },
 "nbformat": 4,
 "nbformat_minor": 2
}
