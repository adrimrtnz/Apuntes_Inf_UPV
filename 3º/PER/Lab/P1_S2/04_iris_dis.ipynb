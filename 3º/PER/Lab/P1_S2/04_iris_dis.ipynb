{
 "cells": [
  {
   "attachments": {},
   "cell_type": "markdown",
   "metadata": {},
   "source": [
    "# Iris con clasificadores discriminativos"
   ]
  },
  {
   "attachments": {},
   "cell_type": "markdown",
   "metadata": {},
   "source": [
    "Al igual que árboles y clasificadores generativos, es muy fácil aprender y evaluar clasificadores discriminativos con sklearn."
   ]
  },
  {
   "cell_type": "code",
   "execution_count": 1,
   "metadata": {},
   "outputs": [],
   "source": [
    "import numpy as np\n",
    "from sklearn.datasets import load_iris\n",
    "from sklearn.model_selection import train_test_split\n",
    "from sklearn.linear_model import Perceptron, LogisticRegression\n",
    "from sklearn.metrics import accuracy_score\n",
    "from sklearn.preprocessing import PolynomialFeatures\n",
    "from sklearn.pipeline import make_pipeline"
   ]
  },
  {
   "cell_type": "markdown",
   "metadata": {},
   "source": [
    "Lectura del corpus iris:"
   ]
  },
  {
   "cell_type": "code",
   "execution_count": 2,
   "metadata": {},
   "outputs": [],
   "source": [
    "iris = load_iris()\n",
    "X = iris.data\n",
    "y = iris.target\n",
    "X_train, X_test, y_train, y_test = train_test_split(\n",
    "    iris.data, iris.target, test_size=0.4, shuffle=True, random_state=23)"
   ]
  },
  {
   "attachments": {},
   "cell_type": "markdown",
   "metadata": {},
   "source": [
    "El algoritmo Perceptrón es una técnica pionera del ML, ampliamente conocida. En la actualidad se tiende a ver como un caso particular de descenso por gradiente estocástico para aprendizaje de clasificadores lineales. Éste es, precisamente, el punto de vista en sklearn. Destacaremos aquí que el algoritmo baraja los datos tras cada iteración a no ser que se indique lo contrario (shuffle=False); también que puede añadirse una penalización (penalty={'l2','l1','elasticnet'}, default=None) cuya fuerza se regula mediante un parámetro alpha (0.0001 por omisión)."
   ]
  },
  {
   "cell_type": "code",
   "execution_count": 9,
   "metadata": {},
   "outputs": [
    {
     "name": "stdout",
     "output_type": "stream",
     "text": [
      "La precisión de Perceptron(penalty='l2') es 36.7%\n"
     ]
    }
   ],
   "source": [
    "clf = Perceptron(random_state=0, alpha=0.0001, penalty='l2').fit(X_train, y_train)\n",
    "acc = accuracy_score(y_test, clf.predict(X_test))\n",
    "print('La precisión de {0!s} es {1:.1%}'.format(clf, acc))"
   ]
  },
  {
   "attachments": {},
   "cell_type": "markdown",
   "metadata": {},
   "source": [
    "**Ejercicio:** Estudia el efecto de alpha sobre la precisión de Perceptrón con penalización 'l2'."
   ]
  },
  {
   "cell_type": "code",
   "execution_count": 4,
   "metadata": {},
   "outputs": [
    {
     "name": "stdout",
     "output_type": "stream",
     "text": [
      "La precisión de Perceptron(alpha=1e-09, penalty='l2') es 76.7%\n",
      "La precisión de Perceptron(alpha=1e-08, penalty='l2') es 76.7%\n",
      "La precisión de Perceptron(alpha=1e-07, penalty='l2') es 76.7%\n",
      "La precisión de Perceptron(alpha=1e-06, penalty='l2') es 76.7%\n",
      "La precisión de Perceptron(alpha=1e-05, penalty='l2') es 95.0%\n",
      "La precisión de Perceptron(penalty='l2') es 36.7%\n",
      "La precisión de Perceptron(alpha=0.001, penalty='l2') es 65.0%\n",
      "La precisión de Perceptron(alpha=0.01, penalty='l2') es 70.0%\n",
      "La precisión de Perceptron(alpha=0.1, penalty='l2') es 30.0%\n",
      "La precisión de Perceptron(alpha=1.0, penalty='l2') es 30.0%\n"
     ]
    }
   ],
   "source": [
    "for alpha in np.logspace(-9,0,10):\n",
    "    clf = Perceptron(random_state=0, alpha=alpha, penalty='l2').fit(X_train, y_train)\n",
    "    acc = accuracy_score(y_test, clf.predict(X_test))\n",
    "    print('La precisión de {0!s} es {1:.1%}'.format(clf, acc))"
   ]
  },
  {
   "attachments": {},
   "cell_type": "markdown",
   "metadata": {},
   "source": [
    "Regresión logística es un modelo de clasificación lineal muy importante pues puede verse como el primer paso en la construcción de redes neuronales multi-capa para clasificación. Además, si nuestro objetivo es entrenar un clasificador lineal tan preciso como sea posible, regresión logística es el primer camino a explorar. La función LogisticRegression de sklearn incluye diferentes solvers (algoritmos de optimización) con recomendaciones sobre cómo escoger el más adecuado para la tarea concreta que nos ocupa. Por ejemplo, para conjuntos de datos pequeños se recomienda usar 'liblinear'. Todos los solvers pueden aplicarse con regularización L2 (opción por omisión) o sin ella (penalty='None')."
   ]
  },
  {
   "cell_type": "code",
   "execution_count": 10,
   "metadata": {},
   "outputs": [
    {
     "name": "stdout",
     "output_type": "stream",
     "text": [
      "La precisión de LogisticRegression(solver='liblinear') es 96.7%\n"
     ]
    }
   ],
   "source": [
    "clf = LogisticRegression(solver='liblinear').fit(X_train, y_train)\n",
    "acc = accuracy_score(y_test, clf.predict(X_test))\n",
    "print('La precisión de {0!s} es {1:.1%}'.format(clf, acc))"
   ]
  },
  {
   "attachments": {},
   "cell_type": "markdown",
   "metadata": {},
   "source": [
    "**Ejercicio:** Estudia el efecto del solver escogido (con max_iter=10000) sobre la precisión de regresión logística."
   ]
  },
  {
   "cell_type": "code",
   "execution_count": 15,
   "metadata": {},
   "outputs": [
    {
     "name": "stdout",
     "output_type": "stream",
     "text": [
      "-------- lbfgs --------\n",
      "La precisión de LogisticRegression() es 95.0%\n",
      "La precisión de LogisticRegression(max_iter=1000) es 95.0%\n",
      "La precisión de LogisticRegression(max_iter=10000) es 95.0%\n",
      "\n",
      "-------- liblinear --------\n",
      "La precisión de LogisticRegression(solver='liblinear') es 96.7%\n",
      "La precisión de LogisticRegression(max_iter=1000, solver='liblinear') es 96.7%\n",
      "La precisión de LogisticRegression(max_iter=10000, solver='liblinear') es 96.7%\n",
      "\n",
      "-------- newton-cg --------\n",
      "La precisión de LogisticRegression(solver='newton-cg') es 95.0%\n",
      "La precisión de LogisticRegression(max_iter=1000, solver='newton-cg') es 95.0%\n",
      "La precisión de LogisticRegression(max_iter=10000, solver='newton-cg') es 95.0%\n",
      "\n",
      "-------- newton-cholesky --------\n",
      "La precisión de LogisticRegression(solver='newton-cholesky') es 95.0%\n",
      "La precisión de LogisticRegression(max_iter=1000, solver='newton-cholesky') es 95.0%\n",
      "La precisión de LogisticRegression(max_iter=10000, solver='newton-cholesky') es 95.0%\n",
      "\n",
      "-------- sag --------\n",
      "La precisión de LogisticRegression(solver='sag') es 98.3%\n",
      "La precisión de LogisticRegression(max_iter=1000, solver='sag') es 96.7%\n",
      "La precisión de LogisticRegression(max_iter=10000, solver='sag') es 96.7%\n",
      "\n",
      "-------- saga --------\n",
      "La precisión de LogisticRegression(solver='saga') es 98.3%\n",
      "La precisión de LogisticRegression(max_iter=1000, solver='saga') es 98.3%\n",
      "La precisión de LogisticRegression(max_iter=10000, solver='saga') es 96.7%\n",
      "\n"
     ]
    },
    {
     "name": "stderr",
     "output_type": "stream",
     "text": [
      "c:\\Users\\adri_\\AppData\\Local\\Programs\\Python\\Python311\\Lib\\site-packages\\sklearn\\linear_model\\_sag.py:350: ConvergenceWarning: The max_iter was reached which means the coef_ did not converge\n",
      "  warnings.warn(\n",
      "c:\\Users\\adri_\\AppData\\Local\\Programs\\Python\\Python311\\Lib\\site-packages\\sklearn\\linear_model\\_sag.py:350: ConvergenceWarning: The max_iter was reached which means the coef_ did not converge\n",
      "  warnings.warn(\n",
      "c:\\Users\\adri_\\AppData\\Local\\Programs\\Python\\Python311\\Lib\\site-packages\\sklearn\\linear_model\\_sag.py:350: ConvergenceWarning: The max_iter was reached which means the coef_ did not converge\n",
      "  warnings.warn(\n",
      "c:\\Users\\adri_\\AppData\\Local\\Programs\\Python\\Python311\\Lib\\site-packages\\sklearn\\linear_model\\_sag.py:350: ConvergenceWarning: The max_iter was reached which means the coef_ did not converge\n",
      "  warnings.warn(\n"
     ]
    }
   ],
   "source": [
    "for s in ['lbfgs', 'liblinear', 'newton-cg', 'newton-cholesky', 'sag', 'saga']:\n",
    "    print(f'-------- {s} --------')\n",
    "    for m in [100, 1000, 10000]:\n",
    "        clf = LogisticRegression(solver=s, max_iter=m).fit(X_train, y_train)\n",
    "        acc = accuracy_score(y_test, clf.predict(X_test))\n",
    "        print('La precisión de {0!s} es {1:.1%}'.format(clf, acc))\n",
    "    print()"
   ]
  },
  {
   "cell_type": "code",
   "execution_count": 17,
   "metadata": {},
   "outputs": [
    {
     "name": "stdout",
     "output_type": "stream",
     "text": [
      "La precisión de LogisticRegression(C=100, solver='saga') es 98.3%\n",
      "La precisión de LogisticRegression(C=10, solver='saga') es 98.3%\n",
      "La precisión de LogisticRegression(C=1, solver='saga') es 98.3%\n",
      "La precisión de LogisticRegression(C=0.1, solver='saga') es 100.0%\n",
      "La precisión de LogisticRegression(C=0.01, solver='saga') es 95.0%\n",
      "La precisión de LogisticRegression(C=0.001, solver='saga') es 73.3%\n"
     ]
    },
    {
     "name": "stderr",
     "output_type": "stream",
     "text": [
      "c:\\Users\\adri_\\AppData\\Local\\Programs\\Python\\Python311\\Lib\\site-packages\\sklearn\\linear_model\\_sag.py:350: ConvergenceWarning: The max_iter was reached which means the coef_ did not converge\n",
      "  warnings.warn(\n",
      "c:\\Users\\adri_\\AppData\\Local\\Programs\\Python\\Python311\\Lib\\site-packages\\sklearn\\linear_model\\_sag.py:350: ConvergenceWarning: The max_iter was reached which means the coef_ did not converge\n",
      "  warnings.warn(\n",
      "c:\\Users\\adri_\\AppData\\Local\\Programs\\Python\\Python311\\Lib\\site-packages\\sklearn\\linear_model\\_sag.py:350: ConvergenceWarning: The max_iter was reached which means the coef_ did not converge\n",
      "  warnings.warn(\n",
      "c:\\Users\\adri_\\AppData\\Local\\Programs\\Python\\Python311\\Lib\\site-packages\\sklearn\\linear_model\\_sag.py:350: ConvergenceWarning: The max_iter was reached which means the coef_ did not converge\n",
      "  warnings.warn(\n",
      "c:\\Users\\adri_\\AppData\\Local\\Programs\\Python\\Python311\\Lib\\site-packages\\sklearn\\linear_model\\_sag.py:350: ConvergenceWarning: The max_iter was reached which means the coef_ did not converge\n",
      "  warnings.warn(\n"
     ]
    }
   ],
   "source": [
    "for C in [100, 10, 1, 0.1, 1e-2, 1e-3]:\n",
    "    clf = LogisticRegression(solver='saga', C=C).fit(X_train, y_train)\n",
    "    acc = accuracy_score(y_test, clf.predict(X_test))\n",
    "    print('La precisión de {0!s} es {1:.1%}'.format(clf, acc))\n"
   ]
  },
  {
   "attachments": {},
   "cell_type": "markdown",
   "metadata": {},
   "source": [
    "Al igual que los clasificadores discriminativos en general, regresión logística es flexible en preproceso de características. Por ejemplo, aparte de las $4$ características originales, $5$ en notación homogénea, podemos añadir $4*5/2=10$ características cuadráticas y obtener $D=10+5=15$ características en total. Una manera sencilla de implementar este preproceso en sklearn consiste en crear un pipeline que preceda el clasificador con los pasos de preproceso que consideremos oportunos."
   ]
  },
  {
   "cell_type": "code",
   "execution_count": 19,
   "metadata": {},
   "outputs": [
    {
     "name": "stdout",
     "output_type": "stream",
     "text": [
      "La precisión de Pipeline(steps=[('polynomialfeatures', PolynomialFeatures()),\n",
      "                ('logisticregression', LogisticRegression(max_iter=10000))]) es 98.3%\n"
     ]
    }
   ],
   "source": [
    "# print(y_train.shape)\n",
    "clf = make_pipeline(PolynomialFeatures(degree=2),\n",
    "    LogisticRegression(max_iter=10000)).fit(X_train, y_train)\n",
    "y_pred = clf.predict(X_test)\n",
    "acc = accuracy_score(y_test, y_pred)\n",
    "print('La precisión de {0!s} es {1:.1%}'.format(clf, acc))"
   ]
  }
 ],
 "metadata": {
  "kernelspec": {
   "display_name": "Python 3",
   "language": "python",
   "name": "python3"
  },
  "language_info": {
   "codemirror_mode": {
    "name": "ipython",
    "version": 3
   },
   "file_extension": ".py",
   "mimetype": "text/x-python",
   "name": "python",
   "nbconvert_exporter": "python",
   "pygments_lexer": "ipython3",
   "version": "3.11.2"
  },
  "vscode": {
   "interpreter": {
    "hash": "e7370f93d1d0cde622a1f8e1c04877d8463912d04d973331ad4851f04de6915a"
   }
  }
 },
 "nbformat": 4,
 "nbformat_minor": 4
}
