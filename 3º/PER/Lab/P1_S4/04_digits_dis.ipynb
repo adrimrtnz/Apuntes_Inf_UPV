{
 "cells": [
  {
   "attachments": {},
   "cell_type": "markdown",
   "metadata": {},
   "source": [
    "# digits con clasificadores discriminativos"
   ]
  },
  {
   "attachments": {},
   "cell_type": "markdown",
   "metadata": {},
   "source": [
    "Al igual que en iris, sklearn facilita el aprendizaje y evaluación de clasificadores discriminativos en digits."
   ]
  },
  {
   "cell_type": "code",
   "execution_count": 51,
   "metadata": {},
   "outputs": [],
   "source": [
    "import numpy as np\n",
    "import matplotlib.pyplot as plt\n",
    "from scipy.stats import multivariate_normal\n",
    "from sklearn.datasets import load_digits\n",
    "from sklearn.model_selection import train_test_split\n",
    "from sklearn.linear_model import Perceptron, LogisticRegression\n",
    "from sklearn.metrics import accuracy_score\n",
    "from sklearn.decomposition import PCA\n",
    "from sklearn.preprocessing import StandardScaler, PolynomialFeatures\n",
    "from sklearn.pipeline import make_pipeline"
   ]
  },
  {
   "cell_type": "markdown",
   "metadata": {},
   "source": [
    "Lectura del corpus digits:"
   ]
  },
  {
   "cell_type": "code",
   "execution_count": 52,
   "metadata": {},
   "outputs": [],
   "source": [
    "digits = load_digits()\n",
    "X = digits.data\n",
    "y = digits.target\n",
    "X_train, X_test, y_train, y_test = train_test_split(\n",
    "    digits.data, digits.target, test_size=0.3, shuffle=True, random_state=23)\n",
    "# print(digits.DESCR)\n",
    "# print(digits.feature_names)"
   ]
  },
  {
   "attachments": {},
   "cell_type": "markdown",
   "metadata": {},
   "source": [
    "Veamos Perceptrón con penalización L2 en función de alpha:"
   ]
  },
  {
   "cell_type": "code",
   "execution_count": 53,
   "metadata": {},
   "outputs": [
    {
     "name": "stdout",
     "output_type": "stream",
     "text": [
      "La precisión de Perceptron(alpha=1e-08, penalty='l2') es 93.0%\n",
      "La precisión de Perceptron(alpha=1e-07, penalty='l2') es 93.5%\n",
      "La precisión de Perceptron(alpha=1e-06, penalty='l2') es 86.9%\n",
      "La precisión de Perceptron(alpha=1e-05, penalty='l2') es 85.9%\n",
      "La precisión de Perceptron(penalty='l2') es 92.8%\n",
      "La precisión de Perceptron(alpha=0.001, penalty='l2') es 87.2%\n"
     ]
    }
   ],
   "source": [
    "for a in np.logspace(-8,-3,6):\n",
    "    clf = Perceptron(penalty='l2', alpha=a, random_state=0).fit(X_train, y_train)\n",
    "    acc = accuracy_score(y_test, clf.predict(X_test))\n",
    "    print('La precisión de {0!s} es {1:.1%}'.format(clf, acc))"
   ]
  },
  {
   "cell_type": "code",
   "execution_count": 54,
   "metadata": {},
   "outputs": [
    {
     "name": "stdout",
     "output_type": "stream",
     "text": [
      "La precisión de Perceptron(alpha=1e-08, l1_ratio=0.608, penalty='elasticnet') es 93.0%\n",
      "La precisión de Perceptron(alpha=1e-07, l1_ratio=0.608, penalty='elasticnet') es 93.0%\n",
      "La precisión de Perceptron(alpha=1e-06, l1_ratio=0.608, penalty='elasticnet') es 94.1%\n",
      "La precisión de Perceptron(alpha=1e-05, l1_ratio=0.608, penalty='elasticnet') es 95.9%\n",
      "La precisión de Perceptron(l1_ratio=0.608, penalty='elasticnet') es 93.7%\n",
      "La precisión de Perceptron(alpha=0.001, l1_ratio=0.608, penalty='elasticnet') es 84.8%\n"
     ]
    }
   ],
   "source": [
    "for a in np.logspace(-8,-3,6):\n",
    "    clf = Perceptron(penalty='elasticnet', l1_ratio=0.608, alpha=a, random_state=0).fit(X_train, y_train)\n",
    "    acc = accuracy_score(y_test, clf.predict(X_test))\n",
    "    print('La precisión de {0!s} es {1:.1%}'.format(clf, acc))"
   ]
  },
  {
   "attachments": {},
   "cell_type": "markdown",
   "metadata": {},
   "source": [
    "Veamos regresión logística con varios solvers (y max_iter=10000)."
   ]
  },
  {
   "cell_type": "code",
   "execution_count": 55,
   "metadata": {},
   "outputs": [
    {
     "name": "stdout",
     "output_type": "stream",
     "text": [
      "La precisión de LogisticRegression(max_iter=10000) es 95.9%\n",
      "La precisión de LogisticRegression(max_iter=10000, solver='liblinear') es 94.1%\n",
      "La precisión de LogisticRegression(max_iter=10000, solver='newton-cg') es 95.9%\n",
      "La precisión de LogisticRegression(max_iter=10000, solver='sag') es 96.3%\n",
      "La precisión de LogisticRegression(max_iter=10000, solver='saga') es 96.3%\n"
     ]
    }
   ],
   "source": [
    "for solver in ['lbfgs', 'liblinear', 'newton-cg', 'sag', 'saga']:\n",
    "    clf = LogisticRegression(solver=solver, max_iter=10000).fit(X_train, y_train)\n",
    "    acc = accuracy_score(y_test, clf.predict(X_test))\n",
    "    print('La precisión de {0!s} es {1:.1%}'.format(clf, acc))"
   ]
  },
  {
   "attachments": {},
   "cell_type": "markdown",
   "metadata": {},
   "source": [
    "**Ejercicio:** Aparte de características polinómicas, el preproceso de características puede incluir estandarización (StandardScaler) y reducción de la dimensión (PCA). Trata de mejorar la precisión de regresión logística mediante pipelines con\n",
    "**ingeniería de características**."
   ]
  },
  {
   "cell_type": "code",
   "execution_count": 56,
   "metadata": {},
   "outputs": [],
   "source": [
    "from sklearn.preprocessing import StandardScaler\n",
    "from sklearn.decomposition import PCA\n",
    "from sklearn.pipeline import make_pipeline"
   ]
  },
  {
   "cell_type": "code",
   "execution_count": 57,
   "metadata": {},
   "outputs": [
    {
     "name": "stdout",
     "output_type": "stream",
     "text": [
      "\u001b[92mEl dataset tiene originalmente 64 características\u001b[0m\n"
     ]
    },
    {
     "data": {
      "text/plain": [
       "[<matplotlib.lines.Line2D at 0x26f0d1c9ad0>]"
      ]
     },
     "execution_count": 57,
     "metadata": {},
     "output_type": "execute_result"
    },
    {
     "data": {
      "image/png": "[encoded data removed]",
      "text/plain": [
       "<Figure size 640x480 with 1 Axes>"
      ]
     },
     "metadata": {},
     "output_type": "display_data"
    }
   ],
   "source": [
    "n = len(digits.feature_names)\n",
    "print(f'\\033[92mEl dataset tiene originalmente {n} características\\033[0m')\n",
    "# print(f'X_train: {X_train.shape}, y_train: {y_train}')\n",
    "acc_array = []\n",
    "for c in range(1,n):\n",
    "    clf = make_pipeline(\n",
    "            StandardScaler(), \n",
    "            PCA(n_components=c), \n",
    "            LogisticRegression(max_iter=10000)\n",
    "        )\n",
    "    \n",
    "    clf.fit(X_train, y_train)\n",
    "    acc = accuracy_score(y_test, clf.predict(X_test))\n",
    "    # print('La precisión de {0!s} es {1:.1%}'.format(clf, acc))\n",
    "    acc_array.append(acc)\n",
    "\n",
    "x_val = np.arange(1,n)\n",
    "plt.plot(x_val, acc_array)"
   ]
  }
 ],
 "metadata": {
  "kernelspec": {
   "display_name": "Python 3",
   "language": "python",
   "name": "python3"
  },
  "language_info": {
   "codemirror_mode": {
    "name": "ipython",
    "version": 3
   },
   "file_extension": ".py",
   "mimetype": "text/x-python",
   "name": "python",
   "nbconvert_exporter": "python",
   "pygments_lexer": "ipython3",
   "version": "3.11.2"
  },
  "vscode": {
   "interpreter": {
    "hash": "e7370f93d1d0cde622a1f8e1c04877d8463912d04d973331ad4851f04de6915a"
   }
  }
 },
 "nbformat": 4,
 "nbformat_minor": 4
}
