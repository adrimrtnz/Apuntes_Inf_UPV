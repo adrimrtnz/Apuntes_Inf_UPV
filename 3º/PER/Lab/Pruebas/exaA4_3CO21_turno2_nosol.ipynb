{
 "cells": [
  {
   "attachments": {},
   "cell_type": "markdown",
   "metadata": {},
   "source": [
    "# Percepción (PER): examen de prácticas del bloque 2, grupo 3CO21, turno 2, 30-5-2023, 18:15:19:00\n",
    "\n",
    "Lee este cuaderno y realiza las actividades y ejercicios propuestos."
   ]
  },
  {
   "attachments": {},
   "cell_type": "markdown",
   "metadata": {},
   "source": [
    "## Lectura de MNIST\n",
    "\n",
    "Ejecuta el código siguiente:"
   ]
  },
  {
   "cell_type": "code",
   "execution_count": 1,
   "metadata": {},
   "outputs": [
    {
     "name": "stderr",
     "output_type": "stream",
     "text": [
      "c:\\Users\\adri_\\AppData\\Local\\Programs\\Python\\Python311\\Lib\\site-packages\\sklearn\\datasets\\_openml.py:968: FutureWarning: The default value of `parser` will change from `'liac-arff'` to `'auto'` in 1.4. You can set `parser='auto'` to silence this warning. Therefore, an `ImportError` will be raised from 1.4 if the dataset is dense and pandas is not installed. Note that the pandas parser may return different data types. See the Notes Section in fetch_openml's API doc for details.\n",
      "  warn(\n"
     ]
    }
   ],
   "source": [
    "import numpy as np\n",
    "from sklearn.datasets import fetch_openml\n",
    "mnist = fetch_openml(\"mnist_784\")\n",
    "data = mnist.data\n",
    "targets = mnist.target \n",
    "\n",
    "# Comentar estas dos líneas si da error al ya ser datos numpy\n",
    "targets=targets.to_numpy()\n",
    "data=data.to_numpy()\n",
    "\n",
    "targets=np.int8(targets)\n",
    "data=np.float32(data)"
   ]
  },
  {
   "attachments": {},
   "cell_type": "markdown",
   "metadata": {},
   "source": [
    "## Partición de los datos\n",
    "\n",
    "El código siguiente particiona los datos en 3 subconjuntos; training, validación y test; con un 70%, 15% y 15% del total, respectivamente. Ejecuta el código siguiente con **random_state** igual a las tres últimas cifras de tu DNI/NIE:"
   ]
  },
  {
   "cell_type": "code",
   "execution_count": 2,
   "metadata": {},
   "outputs": [
    {
     "name": "stdout",
     "output_type": "stream",
     "text": [
      "(49000, 784) (10500, 784) (10500, 784)\n"
     ]
    }
   ],
   "source": [
    "from sklearn.model_selection import train_test_split\n",
    "x_train_val, x_test, y_train_val, y_test  = train_test_split(data, targets, test_size=0.15, random_state=921)\n",
    "x_train, x_val, y_train, y_val = train_test_split(x_train_val, y_train_val, test_size=0.15/0.85, random_state=921) \n",
    "print(x_train.shape, x_val.shape, x_test.shape)"
   ]
  },
  {
   "attachments": {},
   "cell_type": "markdown",
   "metadata": {},
   "source": [
    "## PCA y KNN: hiper-parámetros\n",
    "\n",
    "Estudia la precisión en validación del clasificador por el vecino más cercano entrenado con el 70% de datos reservados para entrenamiento. El número de componentes va a ser reducido con PCA. Una vez reducido prueba diferentes valores del hiper-parámetro **K** (k vecinos). Por brevedad, se recomienda probar los siguientes valores de PCA=[8,16,32] junto con los valores de K=[1,3,4,5]."
   ]
  },
  {
   "cell_type": "code",
   "execution_count": 10,
   "metadata": {},
   "outputs": [
    {
     "name": "stdout",
     "output_type": "stream",
     "text": [
      "La precisión MAX para el conjunto de entrenamiento es 97.91% con 3 Vecinos, y 32 Componentes\n"
     ]
    }
   ],
   "source": [
    "# Escribe aquí tu solución:\n",
    "from sklearn.decomposition import PCA\n",
    "from sklearn.pipeline import make_pipeline\n",
    "from sklearn.neighbors import KNeighborsClassifier\n",
    "from sklearn.metrics import accuracy_score\n",
    "\n",
    "max_acc = 0\n",
    "best_k = 0\n",
    "best_nc = 0\n",
    "\n",
    "for nc in [8,16,32]:\n",
    "    for k in [1,3,4,5]:\n",
    "        kn = make_pipeline(\n",
    "            PCA(n_components=nc),\n",
    "            KNeighborsClassifier(n_neighbors=k, n_jobs=-1)\n",
    "        ) \n",
    "\n",
    "        kn.fit(x_train, y_train)\n",
    "        y_pred = kn.predict(x_val)\n",
    "        acc = accuracy_score(y_val, y_pred)\n",
    "\n",
    "        if acc > max_acc:\n",
    "            max_acc = acc\n",
    "            best_k = k\n",
    "            best_nc = nc\n",
    "print(f'La precisión MAX para el conjunto de entrenamiento es {max_acc:.2%} con {best_k} Vecinos, y {best_nc} Componentes')"
   ]
  },
  {
   "attachments": {},
   "cell_type": "markdown",
   "metadata": {},
   "source": [
    "## PCA y KNN: precisión en test\n",
    "\n",
    "Entrena ahora el KNN con el 85% de datos reservado para entrenamiento y validación, así como con la combinación de valores de **numero de componentes** de PCA y **K** que mayor precisión en validación haya obtenido en el estudio anterior. Obtén la precisión en test del mismo."
   ]
  },
  {
   "cell_type": "code",
   "execution_count": 11,
   "metadata": {},
   "outputs": [
    {
     "name": "stdout",
     "output_type": "stream",
     "text": [
      "La precisión de Pipeline(steps=[('pca', PCA(n_components=32)),\n",
      "                ('kneighborsclassifier',\n",
      "                 KNeighborsClassifier(n_jobs=-1, n_neighbors=3))]) para el conjunto de train_val / test es 97.48%\n"
     ]
    }
   ],
   "source": [
    "# Escribe aquí tu solución:\n",
    "kn = make_pipeline(\n",
    "            PCA(n_components=best_nc),\n",
    "            KNeighborsClassifier(n_neighbors=best_k, n_jobs=-1)\n",
    "        ) \n",
    "\n",
    "kn.fit(x_train_val, y_train_val)\n",
    "y_pred = kn.predict(x_test)\n",
    "acc = accuracy_score(y_test, y_pred)\n",
    "print(f'La precisión de {kn} para el conjunto de train_val / test es {acc:.2%}')"
   ]
  },
  {
   "cell_type": "code",
   "execution_count": 12,
   "metadata": {},
   "outputs": [
    {
     "name": "stdout",
     "output_type": "stream",
     "text": [
      "32\n"
     ]
    }
   ],
   "source": [
    "print(best_nc)"
   ]
  },
  {
   "cell_type": "code",
   "execution_count": 13,
   "metadata": {},
   "outputs": [
    {
     "name": "stdout",
     "output_type": "stream",
     "text": [
      "3\n"
     ]
    }
   ],
   "source": [
    "print(best_k)"
   ]
  }
 ],
 "metadata": {
  "kernelspec": {
   "display_name": "Python 3.7.4",
   "language": "python",
   "name": "python3"
  },
  "language_info": {
   "codemirror_mode": {
    "name": "ipython",
    "version": 3
   },
   "file_extension": ".py",
   "mimetype": "text/x-python",
   "name": "python",
   "nbconvert_exporter": "python",
   "pygments_lexer": "ipython3",
   "version": "3.11.2"
  },
  "orig_nbformat": 4,
  "vscode": {
   "interpreter": {
    "hash": "3067ead486e059ec00ffe7555bdb889e6e264a24dc711bf108106cc7baee8d5d"
   }
  }
 },
 "nbformat": 4,
 "nbformat_minor": 2
}
