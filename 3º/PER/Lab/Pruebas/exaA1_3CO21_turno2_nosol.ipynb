{
 "cells": [
  {
   "attachments": {},
   "cell_type": "markdown",
   "metadata": {},
   "source": [
    "# Percepción (PER): examen de prácticas del bloque 1, grupo 3CO21, turno 2, 25-4-2023, 18:15-19:00\n",
    "\n",
    "Lee este cuaderno y realiza las actividades y ejercicios propuestos."
   ]
  },
  {
   "attachments": {},
   "cell_type": "markdown",
   "metadata": {},
   "source": [
    "## Importación de librerías relevantes\n",
    "\n",
    "Como sabes, sklearn facilita el aprendizaje y evaluación de clasificadores generativos y discriminativos en digits. \n",
    "\n",
    "Ejecuta el código siguiente para importar librerías relevantes. Es posible que tengas que añadir alguna importación."
   ]
  },
  {
   "cell_type": "code",
   "execution_count": 6,
   "metadata": {},
   "outputs": [],
   "source": [
    "import numpy as np\n",
    "import matplotlib.pyplot as plt\n",
    "from scipy.stats import multivariate_normal\n",
    "from sklearn.datasets import load_digits\n",
    "from sklearn.model_selection import train_test_split\n",
    "from sklearn.naive_bayes import GaussianNB\n",
    "from sklearn.metrics import accuracy_score\n",
    "from sklearn.linear_model import LogisticRegression"
   ]
  },
  {
   "attachments": {},
   "cell_type": "markdown",
   "metadata": {},
   "source": [
    "## Lectura del corpus digits\n",
    "\n",
    "Ejecuta el código siguiente con **random_state igual a las tres últimas cifras de tu DNI/NIE:**"
   ]
  },
  {
   "cell_type": "code",
   "execution_count": 2,
   "metadata": {},
   "outputs": [],
   "source": [
    "digits = load_digits()\n",
    "X = digits.data\n",
    "y = digits.target\n",
    "X_train, X_test, y_train, y_test = train_test_split(\n",
    "    digits.data, digits.target, test_size=0.75, shuffle=True, random_state=921)"
   ]
  },
  {
   "attachments": {},
   "cell_type": "markdown",
   "metadata": {},
   "source": [
    "# Naive Bayes Gaussiano\n",
    "\n",
    "Ejecuta el código siguiente para estudiar la precisión de naive Bayes Gaussiano en función de var_smoothing:"
   ]
  },
  {
   "cell_type": "code",
   "execution_count": 5,
   "metadata": {},
   "outputs": [
    {
     "name": "stdout",
     "output_type": "stream",
     "text": [
      "La precisión de GaussianNB() es 85.1%\n",
      "La precisión de GaussianNB(var_smoothing=1e-05) es 87.7%\n",
      "La precisión de GaussianNB(var_smoothing=0.1) es 91.2%\n",
      "La precisión de GaussianNB(var_smoothing=0.2) es 90.1%\n",
      "La precisión de GaussianNB(var_smoothing=0.5) es 89.5%\n",
      "La precisión de GaussianNB(var_smoothing=1) es 88.9%\n"
     ]
    }
   ],
   "source": [
    "for v in [1e-9, 1e-5, 1e-1, .2, .5, 1]:\n",
    "    clf = GaussianNB(var_smoothing=v).fit(X_train, y_train)\n",
    "    acc = accuracy_score(y_test, clf.predict(X_test))\n",
    "    print('La precisión de {0!s} es {1:.1%}'.format(clf, acc))"
   ]
  },
  {
   "attachments": {},
   "cell_type": "markdown",
   "metadata": {},
   "source": [
    "# Regresión logística\n",
    "\n",
    "Añade una celda de código para estudiar el comportamiento del clasificador discriminativo basado en regresión logística en función del \"solver\" empleado. Busca el solver que maximice el acierto sobre el conjunto de test. Asegúrate que el parámetro de número máximo de iteraciones es suficiente para dejar que el algoritmo converja adecuadamente."
   ]
  },
  {
   "cell_type": "code",
   "execution_count": 14,
   "metadata": {},
   "outputs": [
    {
     "name": "stdout",
     "output_type": "stream",
     "text": [
      "La precisión de LogisticRegression(max_iter=1000000) es 93.9%\n",
      "La precisión de LogisticRegression(max_iter=1000000, solver='liblinear') es 93.0%\n",
      "La precisión de LogisticRegression(max_iter=1000000, solver='newton-cg') es 94.0%\n",
      "La precisión de LogisticRegression(max_iter=1000000, solver='newton-cholesky') es 94.1%\n",
      "La precisión de LogisticRegression(max_iter=1000000, solver='sag') es 93.7%\n",
      "La precisión de LogisticRegression(max_iter=1000000, solver='saga') es 93.6%\n"
     ]
    }
   ],
   "source": [
    "for solver in ['lbfgs', 'liblinear', 'newton-cg', 'newton-cholesky', 'sag', 'saga']:\n",
    "    clf = LogisticRegression(solver=solver, max_iter=1000000).fit(X_train, y_train)\n",
    "    acc = accuracy_score(y_test, clf.predict(X_test))\n",
    "    print('La precisión de {0!s} es {1:.1%}'.format(clf, acc))"
   ]
  },
  {
   "attachments": {},
   "cell_type": "markdown",
   "metadata": {},
   "source": [
    "En este caso el solver que da mejores resultados es el **newton-cholesky** con un $94.1\\%$"
   ]
  }
 ],
 "metadata": {
  "kernelspec": {
   "display_name": "Python 3",
   "language": "python",
   "name": "python3"
  },
  "language_info": {
   "codemirror_mode": {
    "name": "ipython",
    "version": 3
   },
   "file_extension": ".py",
   "mimetype": "text/x-python",
   "name": "python",
   "nbconvert_exporter": "python",
   "pygments_lexer": "ipython3",
   "version": "3.11.2"
  },
  "vscode": {
   "interpreter": {
    "hash": "e7370f93d1d0cde622a1f8e1c04877d8463912d04d973331ad4851f04de6915a"
   }
  }
 },
 "nbformat": 4,
 "nbformat_minor": 4
}
