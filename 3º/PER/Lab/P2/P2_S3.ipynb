{
 "cells": [
  {
   "cell_type": "code",
   "execution_count": 1,
   "metadata": {},
   "outputs": [],
   "source": [
    "# imports necesarios\n",
    "from sklearn.datasets import fetch_openml\n",
    "from sklearn.metrics import accuracy_score\n",
    "import numpy as np\n",
    "from sklearn.model_selection import train_test_split\n",
    "from sklearn.neighbors import KNeighborsClassifier\n"
   ]
  },
  {
   "attachments": {},
   "cell_type": "markdown",
   "metadata": {},
   "source": [
    "### MNIST con K-vecinos más vercanos\n",
    "En esta segunda sesión práctica vamos a entrenar clasificadores basados en distancias.\n"
   ]
  },
  {
   "cell_type": "code",
   "execution_count": 2,
   "metadata": {},
   "outputs": [
    {
     "name": "stderr",
     "output_type": "stream",
     "text": [
      "c:\\Users\\adri_\\AppData\\Local\\Programs\\Python\\Python311\\Lib\\site-packages\\sklearn\\datasets\\_openml.py:968: FutureWarning: The default value of `parser` will change from `'liac-arff'` to `'auto'` in 1.4. You can set `parser='auto'` to silence this warning. Therefore, an `ImportError` will be raised from 1.4 if the dataset is dense and pandas is not installed. Note that the pandas parser may return different data types. See the Notes Section in fetch_openml's API doc for details.\n",
      "  warn(\n"
     ]
    },
    {
     "name": "stdout",
     "output_type": "stream",
     "text": [
      "(70000, 784)\n",
      "(70000,)\n"
     ]
    }
   ],
   "source": [
    "mnist = fetch_openml(\"mnist_784\")\n",
    "\n",
    "print(mnist.data.shape)\n",
    "print(mnist.target.shape)\n",
    "\n",
    "data = mnist.data\n",
    "targets = mnist.target \n",
    "\n",
    "targets=targets.to_numpy()\n",
    "targets=np.int8(targets)\n",
    "\n",
    "data=data.to_numpy()\n",
    "data=np.float32(data)\n",
    "\n"
   ]
  },
  {
   "cell_type": "markdown",
   "metadata": {},
   "source": [
    "### Partición de los datos\n",
    "\n",
    "Vamos a partir los datos en tres conjuntos: training, validation y test. Con un 80%, 10% y 10% respectivamente. \n",
    "\n",
    "Emplearemos el conjunto de training para aprender los parámetros del modelos, el conjunto de validation para escoger los mejores hiperparámetros. Finalmente reportaremos el resultado final sobre el conjunto de test."
   ]
  },
  {
   "attachments": {},
   "cell_type": "markdown",
   "metadata": {},
   "source": [
    "### **Ejercicio 1**    \n",
    "\n",
    "Realiza la partición de los datos en las particiones definidas (80%,10%,10%)"
   ]
  },
  {
   "cell_type": "code",
   "execution_count": 3,
   "metadata": {},
   "outputs": [],
   "source": [
    "# Partición de los datos\n",
    "X_train, X_aux, y_train, y_aux = train_test_split(data, targets, test_size=0.2, shuffle=True, random_state=23)\n",
    "X_test, X_val, y_test, y_val = train_test_split(X_aux, y_aux, test_size=0.5, shuffle=True, random_state=23)\n",
    "\n",
    "X_tv = np.concatenate((X_train, X_val), axis=0)\n",
    "y_tv = np.concatenate((y_train, y_val), axis=0)"
   ]
  },
  {
   "attachments": {},
   "cell_type": "markdown",
   "metadata": {},
   "source": [
    "### **Ejercicio 2**   \n",
    "\n",
    "Prueba un clasificador KNeighborsClassifier"
   ]
  },
  {
   "cell_type": "code",
   "execution_count": 4,
   "metadata": {},
   "outputs": [
    {
     "name": "stdout",
     "output_type": "stream",
     "text": [
      "La precisión de KNeighborsClassifier() es 97.34%\n"
     ]
    }
   ],
   "source": [
    "## Prueba el clasificador KNeighborsClassifier\n",
    "kn = KNeighborsClassifier()\n",
    "kn.fit(X_train, y_train)\n",
    "y_pred = kn.predict(X_val)\n",
    "acc = accuracy_score(y_val, y_pred)\n",
    "print(f'La precisión de {kn} es {acc:.2%}')"
   ]
  },
  {
   "attachments": {},
   "cell_type": "markdown",
   "metadata": {},
   "source": [
    "### **Ejercicio 3**   \n",
    "\n",
    "Encuentra el mejor valor de \"K\" con el conjunto de validación y obtén el resultados para test."
   ]
  },
  {
   "cell_type": "code",
   "execution_count": 6,
   "metadata": {},
   "outputs": [
    {
     "name": "stdout",
     "output_type": "stream",
     "text": [
      "La precisión de KNeighborsClassifier(n_neighbors=2) es 96.91%\n",
      "La precisión de KNeighborsClassifier(n_neighbors=4) es 97.40%\n",
      "La precisión de KNeighborsClassifier(n_neighbors=8) es 97.13%\n",
      "La precisión de KNeighborsClassifier(n_neighbors=16) es 96.67%\n",
      "La precisión de KNeighborsClassifier(n_neighbors=32) es 95.96%\n",
      "La precisión de KNeighborsClassifier(n_neighbors=64) es 95.14%\n",
      "Mejor n_neigbors=4\n"
     ]
    }
   ],
   "source": [
    "## Estimar el mejor parámetro K con el conjunto de validación\n",
    "max = -1\n",
    "best_k = 0\n",
    "\n",
    "for k in [2,4,8,16,32,64]:\n",
    "    kn = KNeighborsClassifier(n_neighbors=k)\n",
    "    kn.fit(X_train, y_train)\n",
    "    y_pred = kn.predict(X_val)\n",
    "    acc = accuracy_score(y_val, y_pred)\n",
    "    print(f'La precisión de {kn} es {acc:.2%}')\n",
    "\n",
    "    if acc > max:\n",
    "        max = acc\n",
    "        best_k = k\n",
    "\n",
    "print(f'Mejor n_neigbors={best_k}')"
   ]
  },
  {
   "cell_type": "code",
   "execution_count": 7,
   "metadata": {},
   "outputs": [
    {
     "name": "stdout",
     "output_type": "stream",
     "text": [
      "La precisión de KNeighborsClassifier(n_neighbors=2) es 96.91%\n",
      "La precisión de KNeighborsClassifier(n_neighbors=3) es 97.36%\n",
      "La precisión de KNeighborsClassifier(n_neighbors=4) es 97.40%\n",
      "La precisión de KNeighborsClassifier() es 97.34%\n",
      "La precisión de KNeighborsClassifier(n_neighbors=6) es 97.31%\n",
      "Mejor n_neigbors=4\n"
     ]
    }
   ],
   "source": [
    "max = -1\n",
    "for k in range(best_k-2, best_k+3):\n",
    "    kn = KNeighborsClassifier(n_neighbors=k)\n",
    "    kn.fit(X_train, y_train)\n",
    "    y_pred = kn.predict(X_val)\n",
    "    acc = accuracy_score(y_val, y_pred)\n",
    "    print(f'La precisión de {kn} es {acc:.2%}')\n",
    "\n",
    "    if acc > max:\n",
    "        max = acc\n",
    "        best_k = k\n",
    "\n",
    "print(f'Mejor n_neigbors={best_k}')"
   ]
  },
  {
   "cell_type": "code",
   "execution_count": 8,
   "metadata": {},
   "outputs": [
    {
     "name": "stdout",
     "output_type": "stream",
     "text": [
      "La precisión de KNeighborsClassifier(n_neighbors=4) para el conjunto de test es 97.21%\n"
     ]
    }
   ],
   "source": [
    "## Obtener tasa de acierto con el conjunto de test para el mejor K\n",
    "kn = KNeighborsClassifier(n_neighbors=best_k)\n",
    "kn.fit(X_tv, y_tv)\n",
    "y_pred = kn.predict(X_test)\n",
    "acc = accuracy_score(y_test, y_pred)\n",
    "print(f'La precisión de {kn} para el conjunto de test es {acc:.2%}')"
   ]
  },
  {
   "attachments": {},
   "cell_type": "markdown",
   "metadata": {},
   "source": [
    "## **Ejercicio 4**\n",
    "\n",
    "Cambia la distancia que se emplea (por defecto la L2) por la L1. Ver la documentación para ver cómo poder definir funciones de distancia y pasarlas como parámetro. Esto ralentiza bastante la clasificación pero se puede emplear el parámetro \"n_jobs\" para paralelizar el proceso. Aún así el resultado es muy lento. Podríamos concluir que sk-learn no es una librería adecuada para clasificar con KNN con métricas definidas por el usuario. Por ejemplo no permite definir un algoritmo rápido de tipo kd_tree."
   ]
  },
  {
   "cell_type": "code",
   "execution_count": 4,
   "metadata": {},
   "outputs": [
    {
     "name": "stdout",
     "output_type": "stream",
     "text": [
      "La precisión de KNeighborsClassifier(n_jobs=-1, n_neighbors=1, p=1) para el conjunto de test es 96.80%\n",
      "La precisión de KNeighborsClassifier(n_jobs=-1, n_neighbors=2, p=1) para el conjunto de test es 95.93%\n",
      "La precisión de KNeighborsClassifier(n_jobs=-1, n_neighbors=3, p=1) para el conjunto de test es 96.99%\n",
      "La precisión de KNeighborsClassifier(n_jobs=-1, n_neighbors=4, p=1) para el conjunto de test es 96.57%\n",
      "La precisión de KNeighborsClassifier(n_jobs=-1, p=1) para el conjunto de test es 96.79%\n",
      "La precisión de KNeighborsClassifier(n_jobs=-1, n_neighbors=6, p=1) para el conjunto de test es 96.50%\n",
      "La precisión de KNeighborsClassifier(n_jobs=-1, n_neighbors=7, p=1) para el conjunto de test es 96.59%\n",
      "La precisión de KNeighborsClassifier(n_jobs=-1, n_neighbors=8, p=1) para el conjunto de test es 96.63%\n",
      "La precisión de KNeighborsClassifier(n_jobs=-1, n_neighbors=9, p=1) para el conjunto de test es 96.56%\n",
      "La precisión de KNeighborsClassifier(n_jobs=-1, n_neighbors=10, p=1) para el conjunto de test es 96.49%\n"
     ]
    }
   ],
   "source": [
    "## Modifica la función de distancia\n",
    "\n",
    "#  p = 1, this is equivalent to using manhattan_distance (l1)\n",
    "for k in [1,2,3,4,5,6,7,8,9,10]:\n",
    "    kn = KNeighborsClassifier(n_neighbors=k, n_jobs=-1, p=1)\n",
    "    kn.fit(X_train, y_train)\n",
    "    y_pred = kn.predict(X_val)\n",
    "    acc = accuracy_score(y_val, y_pred)\n",
    "    print(f'La precisión de {kn} para el conjunto de test es {acc:.2%}')"
   ]
  },
  {
   "cell_type": "code",
   "execution_count": 12,
   "metadata": {},
   "outputs": [],
   "source": [
    "def my_dist(x, y):\n",
    "    return np.sum(np.abs(x-y))"
   ]
  },
  {
   "cell_type": "code",
   "execution_count": 9,
   "metadata": {},
   "outputs": [
    {
     "name": "stdout",
     "output_type": "stream",
     "text": [
      "La precisión de KNeighborsClassifier(metric=<function my_dist at 0x00000229576F3060>, n_jobs=4,\n",
      "                     n_neighbors=4) para el conjunto de test es 95.00%\n"
     ]
    }
   ],
   "source": [
    "kn = KNeighborsClassifier(n_neighbors=4, n_jobs=4, metric=my_dist)\n",
    "kn.fit(X_train, y_train)\n",
    "y_pred = kn.predict(X_val[:100,:])\n",
    "acc = accuracy_score(y_val[:100], y_pred[:100])\n",
    "print(f'La precisión de {kn} para el conjunto de test es {acc:.2%}')"
   ]
  },
  {
   "cell_type": "code",
   "execution_count": 15,
   "metadata": {},
   "outputs": [
    {
     "name": "stdout",
     "output_type": "stream",
     "text": [
      "La precisión MAX de Pipeline(steps=[('pca', PCA(n_components=32)),\n",
      "                ('kneighborsclassifier',\n",
      "                 KNeighborsClassifier(n_jobs=-1, n_neighbors=10, p=1))]) para el conjunto de train/val es 97.51%\n"
     ]
    }
   ],
   "source": [
    "from sklearn.decomposition import PCA\n",
    "from sklearn.pipeline import make_pipeline\n",
    "\n",
    "max_acc = 0\n",
    "best_k = 0\n",
    "best_nc = 0\n",
    "\n",
    "for nc in [2,4,8,16,32]:\n",
    "    for k in [1,2,3,4,5,6,7,8,9,10]:\n",
    "        kn = make_pipeline(\n",
    "            PCA(n_components=nc),\n",
    "            KNeighborsClassifier(n_neighbors=k, n_jobs=-1, p=1)\n",
    "        ) \n",
    "\n",
    "        kn.fit(X_train, y_train)\n",
    "        y_pred = kn.predict(X_val)\n",
    "        acc = accuracy_score(y_val, y_pred)\n",
    "\n",
    "        if acc > max_acc:\n",
    "            max_acc = acc\n",
    "            best_k = k\n",
    "            best_nc = nc\n",
    "print(f'La precisión MAX de {kn} para el conjunto de train/val es {max_acc:.2%}')"
   ]
  },
  {
   "cell_type": "code",
   "execution_count": 16,
   "metadata": {},
   "outputs": [
    {
     "name": "stdout",
     "output_type": "stream",
     "text": [
      "La precisión de Pipeline(steps=[('pca', PCA(n_components=32)),\n",
      "                ('kneighborsclassifier',\n",
      "                 KNeighborsClassifier(n_jobs=-1, n_neighbors=3, p=1))]) para el conjunto de test es 97.81%\n"
     ]
    }
   ],
   "source": [
    "kn = make_pipeline(\n",
    "            PCA(n_components=best_nc),\n",
    "            KNeighborsClassifier(n_neighbors=best_k, n_jobs=-1, p=1)\n",
    "        ) \n",
    "\n",
    "kn.fit(X_tv, y_tv)\n",
    "y_pred = kn.predict(X_test)\n",
    "acc = accuracy_score(y_test, y_pred)\n",
    "print(f'La precisión de {kn} para el conjunto de test es {acc:.2%}')"
   ]
  },
  {
   "cell_type": "code",
   "execution_count": 21,
   "metadata": {},
   "outputs": [
    {
     "name": "stdout",
     "output_type": "stream",
     "text": [
      "La precisión de Pipeline(steps=[('pca', PCA(n_components=2)),\n",
      "                ('votingclassifier',\n",
      "                 VotingClassifier(estimators=[('hg1',\n",
      "                                               HistGradientBoostingClassifier(max_bins=64,\n",
      "                                                                              max_depth=16,\n",
      "                                                                              min_samples_leaf=32)),\n",
      "                                              ('hg2',\n",
      "                                               HistGradientBoostingClassifier(max_bins=32,\n",
      "                                                                              max_depth=16,\n",
      "                                                                              min_samples_leaf=64)),\n",
      "                                              ('hg3',\n",
      "                                               HistGradientBoostingClassifier(random_state=22)),\n",
      "                                              ('kn',\n",
      "                                               KNeighborsClassifier(n_jobs=-1,\n",
      "                                                                    n_neighbors=3,\n",
      "                                                                    p=1)),\n",
      "                                              ('t1',\n",
      "                                               DecisionTreeClassifier(max_depth=14,\n",
      "                                                                      random_state=23)),\n",
      "                                              ('t2',\n",
      "                                               DecisionTreeClassifier(max_depth=14,\n",
      "                                                                      random_state=24)),\n",
      "                                              ('t3',\n",
      "                                               DecisionTreeClassifier(max_depth=14,\n",
      "                                                                      random_state=25))]))]) para el conjunto de train/val es 46.54%\n",
      "La precisión de Pipeline(steps=[('pca', PCA(n_components=4)),\n",
      "                ('votingclassifier',\n",
      "                 VotingClassifier(estimators=[('hg1',\n",
      "                                               HistGradientBoostingClassifier(max_bins=64,\n",
      "                                                                              max_depth=16,\n",
      "                                                                              min_samples_leaf=32)),\n",
      "                                              ('hg2',\n",
      "                                               HistGradientBoostingClassifier(max_bins=32,\n",
      "                                                                              max_depth=16,\n",
      "                                                                              min_samples_leaf=64)),\n",
      "                                              ('hg3',\n",
      "                                               HistGradientBoostingClassifier(random_state=22)),\n",
      "                                              ('kn',\n",
      "                                               KNeighborsClassifier(n_jobs=-1,\n",
      "                                                                    n_neighbors=3,\n",
      "                                                                    p=1)),\n",
      "                                              ('t1',\n",
      "                                               DecisionTreeClassifier(max_depth=14,\n",
      "                                                                      random_state=23)),\n",
      "                                              ('t2',\n",
      "                                               DecisionTreeClassifier(max_depth=14,\n",
      "                                                                      random_state=24)),\n",
      "                                              ('t3',\n",
      "                                               DecisionTreeClassifier(max_depth=14,\n",
      "                                                                      random_state=25))]))]) para el conjunto de train/val es 64.51%\n",
      "La precisión de Pipeline(steps=[('pca', PCA(n_components=8)),\n",
      "                ('votingclassifier',\n",
      "                 VotingClassifier(estimators=[('hg1',\n",
      "                                               HistGradientBoostingClassifier(max_bins=64,\n",
      "                                                                              max_depth=16,\n",
      "                                                                              min_samples_leaf=32)),\n",
      "                                              ('hg2',\n",
      "                                               HistGradientBoostingClassifier(max_bins=32,\n",
      "                                                                              max_depth=16,\n",
      "                                                                              min_samples_leaf=64)),\n",
      "                                              ('hg3',\n",
      "                                               HistGradientBoostingClassifier(random_state=22)),\n",
      "                                              ('kn',\n",
      "                                               KNeighborsClassifier(n_jobs=-1,\n",
      "                                                                    n_neighbors=3,\n",
      "                                                                    p=1)),\n",
      "                                              ('t1',\n",
      "                                               DecisionTreeClassifier(max_depth=14,\n",
      "                                                                      random_state=23)),\n",
      "                                              ('t2',\n",
      "                                               DecisionTreeClassifier(max_depth=14,\n",
      "                                                                      random_state=24)),\n",
      "                                              ('t3',\n",
      "                                               DecisionTreeClassifier(max_depth=14,\n",
      "                                                                      random_state=25))]))]) para el conjunto de train/val es 89.37%\n",
      "La precisión de Pipeline(steps=[('pca', PCA(n_components=16)),\n",
      "                ('votingclassifier',\n",
      "                 VotingClassifier(estimators=[('hg1',\n",
      "                                               HistGradientBoostingClassifier(max_bins=64,\n",
      "                                                                              max_depth=16,\n",
      "                                                                              min_samples_leaf=32)),\n",
      "                                              ('hg2',\n",
      "                                               HistGradientBoostingClassifier(max_bins=32,\n",
      "                                                                              max_depth=16,\n",
      "                                                                              min_samples_leaf=64)),\n",
      "                                              ('hg3',\n",
      "                                               HistGradientBoostingClassifier(random_state=22)),\n",
      "                                              ('kn',\n",
      "                                               KNeighborsClassifier(n_jobs=-1,\n",
      "                                                                    n_neighbors=3,\n",
      "                                                                    p=1)),\n",
      "                                              ('t1',\n",
      "                                               DecisionTreeClassifier(max_depth=14,\n",
      "                                                                      random_state=23)),\n",
      "                                              ('t2',\n",
      "                                               DecisionTreeClassifier(max_depth=14,\n",
      "                                                                      random_state=24)),\n",
      "                                              ('t3',\n",
      "                                               DecisionTreeClassifier(max_depth=14,\n",
      "                                                                      random_state=25))]))]) para el conjunto de train/val es 94.94%\n",
      "La precisión de Pipeline(steps=[('pca', PCA(n_components=32)),\n",
      "                ('votingclassifier',\n",
      "                 VotingClassifier(estimators=[('hg1',\n",
      "                                               HistGradientBoostingClassifier(max_bins=64,\n",
      "                                                                              max_depth=16,\n",
      "                                                                              min_samples_leaf=32)),\n",
      "                                              ('hg2',\n",
      "                                               HistGradientBoostingClassifier(max_bins=32,\n",
      "                                                                              max_depth=16,\n",
      "                                                                              min_samples_leaf=64)),\n",
      "                                              ('hg3',\n",
      "                                               HistGradientBoostingClassifier(random_state=22)),\n",
      "                                              ('kn',\n",
      "                                               KNeighborsClassifier(n_jobs=-1,\n",
      "                                                                    n_neighbors=3,\n",
      "                                                                    p=1)),\n",
      "                                              ('t1',\n",
      "                                               DecisionTreeClassifier(max_depth=14,\n",
      "                                                                      random_state=23)),\n",
      "                                              ('t2',\n",
      "                                               DecisionTreeClassifier(max_depth=14,\n",
      "                                                                      random_state=24)),\n",
      "                                              ('t3',\n",
      "                                               DecisionTreeClassifier(max_depth=14,\n",
      "                                                                      random_state=25))]))]) para el conjunto de train/val es 96.20%\n",
      "La precisión de Pipeline(steps=[('pca', PCA(n_components=64)),\n",
      "                ('votingclassifier',\n",
      "                 VotingClassifier(estimators=[('hg1',\n",
      "                                               HistGradientBoostingClassifier(max_bins=64,\n",
      "                                                                              max_depth=16,\n",
      "                                                                              min_samples_leaf=32)),\n",
      "                                              ('hg2',\n",
      "                                               HistGradientBoostingClassifier(max_bins=32,\n",
      "                                                                              max_depth=16,\n",
      "                                                                              min_samples_leaf=64)),\n",
      "                                              ('hg3',\n",
      "                                               HistGradientBoostingClassifier(random_state=22)),\n",
      "                                              ('kn',\n",
      "                                               KNeighborsClassifier(n_jobs=-1,\n",
      "                                                                    n_neighbors=3,\n",
      "                                                                    p=1)),\n",
      "                                              ('t1',\n",
      "                                               DecisionTreeClassifier(max_depth=14,\n",
      "                                                                      random_state=23)),\n",
      "                                              ('t2',\n",
      "                                               DecisionTreeClassifier(max_depth=14,\n",
      "                                                                      random_state=24)),\n",
      "                                              ('t3',\n",
      "                                               DecisionTreeClassifier(max_depth=14,\n",
      "                                                                      random_state=25))]))]) para el conjunto de train/val es 96.21%\n"
     ]
    }
   ],
   "source": [
    "from sklearn.ensemble  import VotingClassifier\n",
    "from sklearn.ensemble import HistGradientBoostingClassifier\n",
    "from sklearn.tree import DecisionTreeClassifier\n",
    "\n",
    "max_acc = -1\n",
    "for nc in [2,4,8,16,32,64]:\n",
    "\n",
    "    clf1 = HistGradientBoostingClassifier(max_bins=64, max_depth=16,min_samples_leaf=32)\n",
    "    clf2 = HistGradientBoostingClassifier(max_bins=32, max_depth=16,min_samples_leaf=64)\n",
    "    clf3 = HistGradientBoostingClassifier(random_state=22)\n",
    "    clf4 = KNeighborsClassifier(n_neighbors=best_k, n_jobs=-1, p=1)\n",
    "    t1 = DecisionTreeClassifier(max_depth=14, random_state=23)\n",
    "    t2 = DecisionTreeClassifier(max_depth=14, random_state=24)\n",
    "    t3 = DecisionTreeClassifier(max_depth=14, random_state=25)\n",
    "\n",
    "    kn = make_pipeline(\n",
    "                PCA(n_components=nc),\n",
    "                VotingClassifier([\n",
    "                    ('hg1',clf1),\n",
    "                    ('hg2',clf2),\n",
    "                    ('hg3',clf3),\n",
    "                    ('kn', clf4),\n",
    "                    ('t1',t1),\n",
    "                    ('t2',t2),\n",
    "                    ('t3',t3)\n",
    "                ])\n",
    "            ) \n",
    "    \n",
    "    kn.fit(X_train, y_train)\n",
    "    y_pred = kn.predict(X_val)\n",
    "    acc = accuracy_score(y_val, y_pred)\n",
    "    if acc > max_acc:\n",
    "        max_acc = acc\n",
    "        print(f'La precisión de {kn} para el conjunto de train/val es {acc:.2%}')\n",
    "    \n",
    "    "
   ]
  }
 ],
 "metadata": {
  "kernelspec": {
   "display_name": "Python 3.7.4",
   "language": "python",
   "name": "python3"
  },
  "language_info": {
   "codemirror_mode": {
    "name": "ipython",
    "version": 3
   },
   "file_extension": ".py",
   "mimetype": "text/x-python",
   "name": "python",
   "nbconvert_exporter": "python",
   "pygments_lexer": "ipython3",
   "version": "3.11.2"
  },
  "orig_nbformat": 4,
  "vscode": {
   "interpreter": {
    "hash": "3067ead486e059ec00ffe7555bdb889e6e264a24dc711bf108106cc7baee8d5d"
   }
  }
 },
 "nbformat": 4,
 "nbformat_minor": 2
}
