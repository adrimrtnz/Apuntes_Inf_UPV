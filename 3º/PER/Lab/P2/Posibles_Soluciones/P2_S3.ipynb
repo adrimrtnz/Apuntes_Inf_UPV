{
 "cells": [
  {
   "cell_type": "code",
   "execution_count": 1,
   "metadata": {},
   "outputs": [],
   "source": [
    "# imports necesarios\n",
    "from sklearn.datasets import fetch_openml\n",
    "from sklearn.metrics import accuracy_score\n",
    "import numpy as np\n",
    "from sklearn.model_selection import train_test_split\n",
    "from sklearn.neighbors import KNeighborsClassifier\n"
   ]
  },
  {
   "attachments": {},
   "cell_type": "markdown",
   "metadata": {},
   "source": [
    "### MNIST con K-vecinos más vercanos\n",
    "En esta segunda sesión práctica vamos a entrenar clasificadores basados en distancias.\n"
   ]
  },
  {
   "cell_type": "code",
   "execution_count": 2,
   "metadata": {},
   "outputs": [
    {
     "name": "stdout",
     "output_type": "stream",
     "text": [
      "(70000, 784)\n",
      "(70000,)\n"
     ]
    }
   ],
   "source": [
    "mnist = fetch_openml(\"mnist_784\")\n",
    "\n",
    "print(mnist.data.shape)\n",
    "print(mnist.target.shape)\n",
    "\n",
    "data = mnist.data\n",
    "targets = mnist.target \n",
    "\n",
    "targets=targets.to_numpy()\n",
    "targets=np.int8(targets)\n",
    "\n",
    "data=data.to_numpy()\n",
    "data=np.float32(data)\n",
    "\n"
   ]
  },
  {
   "attachments": {},
   "cell_type": "markdown",
   "metadata": {},
   "source": [
    "### Partición de los datos\n",
    "\n",
    "Vamos a partir los datos en tres conjuntos: training, validation y test. Con un 80%, 10% y 10% respectivamente. \n",
    "\n",
    "Emplearemos el conjunto de training para aprender los parámetros del modelos, el conjunto de validation para escoger los mejores hiperparámetros. Finalmente reportaremos el resultado final sobre el conjunto de test."
   ]
  },
  {
   "attachments": {},
   "cell_type": "markdown",
   "metadata": {},
   "source": [
    "### **Ejercicio 1**    \n",
    "\n",
    "Realiza la partición de los datos en las particiones definidas (80%,10%,10%)"
   ]
  },
  {
   "cell_type": "code",
   "execution_count": 3,
   "metadata": {},
   "outputs": [
    {
     "name": "stdout",
     "output_type": "stream",
     "text": [
      "(56000, 784)\n",
      "(7000, 784)\n",
      "(7000, 784)\n"
     ]
    }
   ],
   "source": [
    "# Solución\n",
    "\n",
    "x_train, x_test, y_train, y_test  = train_test_split(data, targets, test_size=0.1, random_state=1)\n",
    "\n",
    "part=(7000.0)/(70000.0-7000)\n",
    "x_train, x_val, y_train, y_val = train_test_split(x_train, y_train, test_size=part, random_state=1) \n",
    "\n",
    "print(x_train.shape)\n",
    "print(x_val.shape)\n",
    "print(x_test.shape)"
   ]
  },
  {
   "attachments": {},
   "cell_type": "markdown",
   "metadata": {},
   "source": [
    "### **Ejercicio 2**   \n",
    "\n",
    "Prueba un clasificador KNeighborsClassifier"
   ]
  },
  {
   "cell_type": "code",
   "execution_count": 4,
   "metadata": {},
   "outputs": [
    {
     "name": "stdout",
     "output_type": "stream",
     "text": [
      "0.9732857142857143\n"
     ]
    }
   ],
   "source": [
    "## Solución\n",
    "kv = KNeighborsClassifier()\n",
    "kv.fit(x_train,y_train)\n",
    "    \n",
    "ypred = kv.predict(x_val)\n",
    "acc = accuracy_score(y_val, ypred)\n",
    "print(acc)"
   ]
  },
  {
   "attachments": {},
   "cell_type": "markdown",
   "metadata": {},
   "source": [
    "### **Ejercicio 3**   \n",
    "\n",
    "Encuentra el mejor valor de \"K\" con el conjunto de validación y obtén el resultados para test."
   ]
  },
  {
   "cell_type": "code",
   "execution_count": 5,
   "metadata": {},
   "outputs": [
    {
     "name": "stdout",
     "output_type": "stream",
     "text": [
      "1 0.9738571428571429\n",
      "3 0.976\n",
      "4 0.9744285714285714\n",
      "5 0.9732857142857143\n",
      "6 0.973\n",
      "7 0.9725714285714285\n",
      "8 0.9718571428571429\n",
      "9 0.9717142857142858\n",
      "10 0.9712857142857143\n",
      "15 0.9677142857142857\n",
      "20 0.9674285714285714\n",
      "25 0.9654285714285714\n",
      "30 0.9632857142857143\n",
      "=================\n",
      "BEST 3 0.976\n"
     ]
    }
   ],
   "source": [
    "## Solución\n",
    "\n",
    "max=-1\n",
    "for k in [1,3,4,5,6,7,8,9,10,15,20,25,30]:\n",
    "    kv = KNeighborsClassifier(n_neighbors=k)\n",
    "    kv.fit(x_train,y_train)\n",
    "    \n",
    "    ypred = kv.predict(x_val)\n",
    "    acc = accuracy_score(y_val, ypred)\n",
    "    print(k,acc)\n",
    "    if acc>max: \n",
    "        max=acc\n",
    "        best=k\n",
    "\n",
    "print(\"=================\")\n",
    "print(\"BEST\",best,max)\n",
    "    \n"
   ]
  },
  {
   "cell_type": "code",
   "execution_count": 6,
   "metadata": {},
   "outputs": [
    {
     "name": "stdout",
     "output_type": "stream",
     "text": [
      "0.9718571428571429\n"
     ]
    }
   ],
   "source": [
    "## Solución\n",
    "\n",
    "data_tr=np.concatenate((x_train,x_val),axis=0)\n",
    "targets_tr=np.concatenate((y_train,y_val),axis=0)\n",
    "\n",
    "kv = KNeighborsClassifier(n_neighbors=best)\n",
    "kv.fit(data_tr,targets_tr)\n",
    "\n",
    "ypred = kv.predict(x_test)\n",
    "acc = accuracy_score(y_test, ypred)\n",
    "print(acc)\n",
    "\n"
   ]
  },
  {
   "attachments": {},
   "cell_type": "markdown",
   "metadata": {},
   "source": [
    "## **Ejercicio 4**\n",
    "\n",
    "Cambia la distancia que se emplea (por defecto la L2) por la L1. Ver la documentación para ver cómo poder definir funciones de distancia y pasarlas como parámetro. Esto ralentiza bastante la clasificación pero se puede emplear el parámetro \"n_jobs\" para paralelizar el proceso. Aún así el resultado es muy lento. Podríamos concluir que sk-learn no es una librería adecuada para clasificar con KNN con métricas definidas por el usuario. Por ejemplo no permite definir un algoritmo rápido de tipo kd_tree."
   ]
  },
  {
   "cell_type": "code",
   "execution_count": 7,
   "metadata": {},
   "outputs": [
    {
     "name": "stdout",
     "output_type": "stream",
     "text": [
      "predict\n",
      "0.94\n"
     ]
    }
   ],
   "source": [
    "## Solución\n",
    "\n",
    "def distancia(x,y):\n",
    "    return np.sum(np.abs(x-y))\n",
    "\n",
    "kv = KNeighborsClassifier(n_neighbors=3,metric=distancia,n_jobs=4)\n",
    "kv.fit(data_tr,targets_tr)\n",
    "\n",
    "print(\"predict\")\n",
    "ypred = kv.predict(x_test[0:100,:])\n",
    "acc = accuracy_score(y_test[0:100], ypred[0:100])\n",
    "print(acc)"
   ]
  }
 ],
 "metadata": {
  "kernelspec": {
   "display_name": "Python 3.7.4",
   "language": "python",
   "name": "python3"
  },
  "language_info": {
   "codemirror_mode": {
    "name": "ipython",
    "version": 3
   },
   "file_extension": ".py",
   "mimetype": "text/x-python",
   "name": "python",
   "nbconvert_exporter": "python",
   "pygments_lexer": "ipython3",
   "version": "3.10.6"
  },
  "orig_nbformat": 4,
  "vscode": {
   "interpreter": {
    "hash": "3067ead486e059ec00ffe7555bdb889e6e264a24dc711bf108106cc7baee8d5d"
   }
  }
 },
 "nbformat": 4,
 "nbformat_minor": 2
}
