{
 "cells": [
  {
   "cell_type": "code",
   "execution_count": null,
   "metadata": {},
   "outputs": [],
   "source": [
    "import numpy as np\n",
    "\n",
    "X=np.array([[0,0],[2,4],[2,2],[1,2],[3,6]])\n",
    "\n",
    "print(X.shape)\n",
    "print(X)\n",
    "\n"
   ]
  },
  {
   "cell_type": "code",
   "execution_count": null,
   "metadata": {},
   "outputs": [],
   "source": [
    "from matplotlib import pyplot as plt\n",
    "\n",
    "plt.grid(color='black', linestyle='-', linewidth=1)\n",
    "plt.plot(X[:,0],X[:,1],'ro')\n"
   ]
  },
  {
   "cell_type": "code",
   "execution_count": null,
   "metadata": {},
   "outputs": [],
   "source": [
    "meanX=np.mean(X,axis=0)\n",
    "C=np.matmul(np.transpose(X-meanX),X-meanX)\n",
    "print(C)\n"
   ]
  },
  {
   "cell_type": "code",
   "execution_count": null,
   "metadata": {},
   "outputs": [],
   "source": [
    "def dM(x,y,S):\n",
    "    diff=(x-y)\n",
    "    S=np.linalg.inv(S)\n",
    "    print(S)\n",
    "    d=np.matmul(np.transpose(diff),S)\n",
    "    d=np.matmul(d,diff)\n",
    "    return d\n",
    "\n",
    "dis=dM(np.transpose(X[1,:]),np.transpose(X[2,:]),C)\n",
    "print(dis)"
   ]
  }
 ],
 "metadata": {
  "kernelspec": {
   "display_name": "Python 3",
   "language": "python",
   "name": "python3"
  },
  "language_info": {
   "codemirror_mode": {
    "name": "ipython",
    "version": 3
   },
   "file_extension": ".py",
   "mimetype": "text/x-python",
   "name": "python",
   "nbconvert_exporter": "python",
   "pygments_lexer": "ipython3",
   "version": "3.10.6"
  },
  "orig_nbformat": 4,
  "vscode": {
   "interpreter": {
    "hash": "aee8b7b246df8f9039afb4144a1f6fd8d2ca17a180786b69acc140d282b71a49"
   }
  }
 },
 "nbformat": 4,
 "nbformat_minor": 2
}
