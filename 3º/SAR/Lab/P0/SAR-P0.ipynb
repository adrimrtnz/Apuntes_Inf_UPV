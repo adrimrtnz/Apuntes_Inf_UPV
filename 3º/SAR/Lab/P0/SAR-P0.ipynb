{
 "cells": [
  {
   "attachments": {},
   "cell_type": "markdown",
   "metadata": {},
   "source": [
    "# Ejercicio 1:\n",
    "Un pangrama es una frase que contiene todas las letras del alfabeto\n",
    "Inglés, al menos una vez, por ejemplo: “The quick brown fox jumps over the lazy\n",
    "dog”. Escribe una función para comprobar si una cadena de texto recibida como\n",
    "argumento es un pangrama o no. La función debe devolver un booleano"
   ]
  },
  {
   "cell_type": "code",
   "execution_count": 14,
   "metadata": {},
   "outputs": [],
   "source": [
    "import string\n",
    "\n",
    "def pangram(sentence):\n",
    "    char_set = set(string.ascii_lowercase)\n",
    "    sentence_set = set(sentence.lower())\n",
    "\n",
    "    for char in char_set:\n",
    "        if char not in sentence_set:\n",
    "            return False\n",
    "    return True \n"
   ]
  },
  {
   "cell_type": "code",
   "execution_count": 15,
   "metadata": {},
   "outputs": [
    {
     "data": {
      "text/plain": [
       "True"
      ]
     },
     "execution_count": 15,
     "metadata": {},
     "output_type": "execute_result"
    }
   ],
   "source": [
    "sentence = 'The quick brown fox jumps over the lazy dog'\n",
    "pangram(sentence)"
   ]
  },
  {
   "attachments": {},
   "cell_type": "markdown",
   "metadata": {},
   "source": [
    "# Ejercicio 2\n",
    "Un pangrama “perfecto” es un pangrama en el que cada letra del\n",
    "alfabeto inglés aparece una sola vez.\n",
    "\n",
    "Haz una función que reciba una cadena y determine si se trata de un pangrama\n",
    "perfecto o no. Para ello debes suponer que los únicos caracteres que puede\n",
    "contener la cadena, además de las propias letras, son espacios en blanco."
   ]
  },
  {
   "cell_type": "code",
   "execution_count": 16,
   "metadata": {},
   "outputs": [],
   "source": [
    "def perfect_pangram(sentence):\n",
    "    char_set = set(string.ascii_lowercase)\n",
    "    sentence = sentence.lower()\n",
    "    \n",
    "    for char in char_set:\n",
    "        if sentence.count(char) != 1:\n",
    "            return False\n",
    "    return  True"
   ]
  },
  {
   "cell_type": "code",
   "execution_count": 17,
   "metadata": {},
   "outputs": [
    {
     "data": {
      "text/plain": [
       "True"
      ]
     },
     "execution_count": 17,
     "metadata": {},
     "output_type": "execute_result"
    }
   ],
   "source": [
    "sentence = 'Hm, fjord waltz, cinq busk, pyx veg'\n",
    "perfect_pangram(sentence)"
   ]
  },
  {
   "attachments": {},
   "cell_type": "markdown",
   "metadata": {},
   "source": [
    "# Ejercicio 3\n",
    "Una cadena es anagrama de otra si contiene las mismas letras (y\n",
    "para cada letra el mismo número de veces) que la otra cadena."
   ]
  },
  {
   "cell_type": "code",
   "execution_count": 9,
   "metadata": {},
   "outputs": [],
   "source": [
    "def anagram(sentence_a, sentence_b):\n",
    "    ignore_chars = \" ,?.!/;:\"\n",
    "    sentence_a = sentence_a.lower()\n",
    "    sentence_b = sentence_b.lower()\n",
    "    set_a = set([c for c in sentence_a if c not in ignore_chars])\n",
    "\n",
    "    for char in set_a:\n",
    "        if sentence_a.count(char) != sentence_b.count(char):\n",
    "            return False\n",
    "    return True\n"
   ]
  },
  {
   "cell_type": "code",
   "execution_count": 10,
   "metadata": {},
   "outputs": [
    {
     "data": {
      "text/plain": [
       "True"
      ]
     },
     "execution_count": 10,
     "metadata": {},
     "output_type": "execute_result"
    }
   ],
   "source": [
    "sentence_a = 'Life on mars'\n",
    "sentence_b = 'alien forms'\n",
    "anagram(sentence_a, sentence_b)"
   ]
  },
  {
   "attachments": {},
   "cell_type": "markdown",
   "metadata": {},
   "source": [
    "# Ejercicio 4\n",
    "Haz una función que simule de una manera “limitada” el comando\n",
    "‘grep’ de Unix. La entrada de la función es:\n",
    "* La ruta de un fichero de texto (que supondremos con encoding UTF-8)\n",
    "* Una cadena de texto\n",
    "\n",
    "La salida es una lista que contenga (en el mismo orden) todas las líneas del\n",
    "fichero que contengan alguna ocurrencia de la cadena de texto recibida como\n",
    "argumento."
   ]
  },
  {
   "cell_type": "code",
   "execution_count": 111,
   "metadata": {},
   "outputs": [],
   "source": [
    "def limited_grep(path, string):\n",
    "    file = open(path)\n",
    "    \n",
    "    result = []\n",
    "    for line in file:\n",
    "        line = line[:-1]\n",
    "        if string in line:\n",
    "            result.append(line)\n",
    "    file.close()\n",
    "    return result"
   ]
  },
  {
   "cell_type": "code",
   "execution_count": 112,
   "metadata": {},
   "outputs": [
    {
     "name": "stdout",
     "output_type": "stream",
     "text": [
      "['hola, esta es la primera lÃ\\xadnea', 'la segunda lÃ\\xadnea del fichero prueba.txt', 'por fin termina este fichero de 4 lÃ\\xadneas hola hol']\n"
     ]
    }
   ],
   "source": [
    "# There is a file named prueba.txt in the current folder\n",
    "print( limited_grep('prueba.txt', 'la') )"
   ]
  },
  {
   "attachments": {},
   "cell_type": "markdown",
   "metadata": {},
   "source": [
    "# Ejercicio 5\n",
    "Escribe una función char_freq() que toma una cadena y crea\n",
    "una lista de frecuencias de los carácteres que figuran en el mismo. Representa\n",
    "la frecuencia de carácteres con un diccionario Python. Prueba con algo como\n",
    "char_freq(\"abbabcbdbabdbdbabababcbcbab\")."
   ]
  },
  {
   "cell_type": "code",
   "execution_count": 7,
   "metadata": {},
   "outputs": [],
   "source": [
    "def char_freq(string):\n",
    "    char_set = sorted(set(string))\n",
    "\n",
    "    result = {}\n",
    "\n",
    "    for char in char_set:\n",
    "        result[char] = round(string.count(char)/len(string), 2)\n",
    "    \n",
    "    return result"
   ]
  },
  {
   "cell_type": "code",
   "execution_count": 8,
   "metadata": {},
   "outputs": [
    {
     "name": "stdout",
     "output_type": "stream",
     "text": [
      "{'a': 0.26, 'b': 0.52, 'c': 0.11, 'd': 0.11}\n"
     ]
    }
   ],
   "source": [
    "string = 'abbabcbdbabdbdbabababcbcbab'\n",
    "result = char_freq(string)\n",
    "print(result)"
   ]
  },
  {
   "attachments": {},
   "cell_type": "markdown",
   "metadata": {},
   "source": [
    "# Ejercicio 6\n",
    "Escribe una función que Determine si una cadena formada por\n",
    "corchetes es equilibrada, es decir, si consiste enteramente de pares de apertura\n",
    "/ cierre de corchetes (en ese orden), y todos los corchetes abiertos se cierran\n",
    "correctamente."
   ]
  },
  {
   "cell_type": "code",
   "execution_count": 1,
   "metadata": {},
   "outputs": [],
   "source": [
    "def corchetes(string):\n",
    "    count = 0\n",
    "\n",
    "    for c in string:\n",
    "        if c == '[':\n",
    "            count += 1\n",
    "        elif c == ']':\n",
    "            count -= 1\n",
    "        if count < 0:\n",
    "            return 'NOT OK'\n",
    "    return  'OK' if count == 0 else 'NOT OK'\n"
   ]
  },
  {
   "cell_type": "code",
   "execution_count": 2,
   "metadata": {},
   "outputs": [
    {
     "name": "stdout",
     "output_type": "stream",
     "text": [
      "OK\n",
      "OK\n",
      "OK\n",
      "NOT OK\n"
     ]
    }
   ],
   "source": [
    "data = ['[]','[][]','[[][]]', '][']\n",
    "\n",
    "for d in data:\n",
    "    print(corchetes(d))"
   ]
  }
 ],
 "metadata": {
  "kernelspec": {
   "display_name": "Python 3",
   "language": "python",
   "name": "python3"
  },
  "language_info": {
   "codemirror_mode": {
    "name": "ipython",
    "version": 3
   },
   "file_extension": ".py",
   "mimetype": "text/x-python",
   "name": "python",
   "nbconvert_exporter": "python",
   "pygments_lexer": "ipython3",
   "version": "3.9.6"
  },
  "orig_nbformat": 4,
  "vscode": {
   "interpreter": {
    "hash": "c80346ec7d1cda23b4e8edd0ecaed2186449c7be2defb42f267f6ff973ef0015"
   }
  }
 },
 "nbformat": 4,
 "nbformat_minor": 2
}
