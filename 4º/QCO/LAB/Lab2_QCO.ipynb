{
  "cells": [
    {
      "cell_type": "markdown",
      "metadata": {
        "tags": [
          "remove_cell"
        ],
        "id": "aQb3J8_ZGmak"
      },
      "source": [
        "# Laboratory practice 2 QCO"
      ]
    },
    {
      "cell_type": "markdown",
      "metadata": {
        "id": "6OuzSwVRHOTA"
      },
      "source": [
        "<h3 style=\"font-size: 20px\"> Important notes: </h3>\n",
        "\n",
        "- This .pynb file is ready for execution in a Google Colab (https://colab.research.google.com) environment. Just upload it and open it from a regular Colab session.\n",
        "\n",
        "- In case you cannot attend the lab session or you do not manage to finish all exercises during the lab session, the answers of Lab 2 have to be sent by email to Juan Carlos Perez (jcperez@disca.upv.es). **Note that the deadline for sending the answers of Lab 2 is March 4.**\n",
        "\n",
        "- Use the \"print\" menu option of the Google Colab environment to create a PDF file. Please name the file with your answers as “Lab2_student_name.pdf”.\n",
        "\n",
        "- If you have any question about this lab, please send an e-mail to Juan Carlos Perez (jcperez@disca.upv.es)"
      ]
    },
    {
      "cell_type": "code",
      "source": [
        "# ALWAYS RUN THIS CELL AFTER YOU LOAD (OR RELOAD) THE NOTEBOOK\n",
        "\n",
        "# Generic cell for correct operation of QCO materials in Google Colab (jcperez@disca.upv.es):\n",
        "!pip -qqq install qiskit[visualization]\n",
        "import qiskit\n",
        "%matplotlib inline\n",
        "qiskit.__version__\n",
        "\n",
        "# Not always necessary (jcperez@disca.upv.es):\n",
        "!pip -qqq install git+https://github.com/qiskit-community/qiskit-textbook.git#subdirectory=qiskit-textbook-src\n",
        "\n",
        "# To fix a bug/version incompatibility in that file (jcperez@disca.upv.es):\n",
        "!sed -ie 's/denominator/denominator()/g' /usr/local/lib/python3.8/dist-packages/qiskit/visualization/array.py\n",
        "\n",
        "# To set graphical circuit drawing by default in qiskit (jcperez@disca.upv.es):\n",
        "!mkdir ${HOME}/.qiskit 2>/dev/null\n",
        "!printf \"[default]\\ncircuit_drawer = mpl\\n\" > ${HOME}/.qiskit/settings.conf"
      ],
      "metadata": {
        "id": "dAa9wrPXrHdX"
      },
      "execution_count": null,
      "outputs": []
    },
    {
      "cell_type": "markdown",
      "metadata": {
        "id": "V-tTDlh6w2Ht"
      },
      "source": [
        "## Part 1. Basic Qiskit Syntax"
      ]
    },
    {
      "cell_type": "code",
      "execution_count": null,
      "metadata": {
        "id": "GgZYtAYlGmam"
      },
      "outputs": [],
      "source": [
        "from qiskit import *\n",
        "from qiskit.visualization import plot_histogram\n",
        "import numpy as np"
      ]
    },
    {
      "cell_type": "markdown",
      "metadata": {
        "id": "IDOWfeCdw2Hv"
      },
      "source": [
        "### Quantum circuits"
      ]
    },
    {
      "cell_type": "markdown",
      "metadata": {
        "id": "pyFwyQLYw2Hw"
      },
      "source": [
        "The object at the heart of Qiskit is the quantum circuit. Here's how we create one, which we will call `qc`"
      ]
    },
    {
      "cell_type": "code",
      "execution_count": null,
      "metadata": {
        "id": "L1O9_alMw2Hw"
      },
      "outputs": [],
      "source": [
        "from qiskit import QuantumCircuit\n",
        "qc = QuantumCircuit()"
      ]
    },
    {
      "cell_type": "markdown",
      "metadata": {
        "id": "n9nFXittw2Hx"
      },
      "source": [
        "This circuit is currently completely empty, with no qubits and no outputs."
      ]
    },
    {
      "cell_type": "markdown",
      "metadata": {
        "id": "UGQWWlV6w2Hx"
      },
      "source": [
        "### Quantum registers"
      ]
    },
    {
      "cell_type": "markdown",
      "metadata": {
        "id": "cPd-ouFVw2Hx"
      },
      "source": [
        "To make the circuit less trivial, we need to define a register of qubits. This is done using a `QuantumRegister` object. For example, let's define a register consisting of two qubits and call it `qr`."
      ]
    },
    {
      "cell_type": "code",
      "execution_count": null,
      "metadata": {
        "id": "8zPuTNvCw2Hx"
      },
      "outputs": [],
      "source": [
        "from qiskit import QuantumRegister\n",
        "qr = QuantumRegister(2,'a')"
      ]
    },
    {
      "cell_type": "markdown",
      "metadata": {
        "id": "r_8XLOvxw2Hx"
      },
      "source": [
        "Giving it a label like `'a'` is optional.\n",
        "\n",
        "Now we can add it to the circuit using the `add_register` method, and see that it has been added by checking the `qregs` variable of the circuit object. This guide uses [Jupyter Notebooks](https://jupyter.org/). In Jupyter Notebooks, the output of the last line of a cell is displayed below the cell:"
      ]
    },
    {
      "cell_type": "code",
      "execution_count": null,
      "metadata": {
        "id": "OGtvyS8Pw2Hy"
      },
      "outputs": [],
      "source": [
        "qc.add_register( qr )\n",
        "\n",
        "qc.qregs"
      ]
    },
    {
      "cell_type": "markdown",
      "metadata": {
        "id": "5-qxL_EVw2Hy"
      },
      "source": [
        "Now our circuit has some qubits, we can use another attribute of the circuit to see what it looks like: `draw()` ."
      ]
    },
    {
      "cell_type": "code",
      "execution_count": null,
      "metadata": {
        "id": "QTUWjoOdw2Hz"
      },
      "outputs": [],
      "source": [
        "qc.draw()"
      ]
    },
    {
      "cell_type": "markdown",
      "metadata": {
        "id": "qlDDGO0Qw2Hz"
      },
      "source": [
        "Our qubits are ready to begin their journey, but are currently just sitting there in state $\\left|0\\right\\rangle$."
      ]
    },
    {
      "cell_type": "markdown",
      "metadata": {
        "id": "sDBP4Plgw2Hz"
      },
      "source": [
        "#### Applying Gates"
      ]
    },
    {
      "cell_type": "markdown",
      "metadata": {
        "id": "T47UcfXUw2Hz"
      },
      "source": [
        "To make something happen, we need to add gates. For example, let's try out `h()`."
      ]
    },
    {
      "cell_type": "code",
      "execution_count": null,
      "metadata": {
        "scrolled": true,
        "tags": [
          "raises-exception"
        ],
        "id": "NN7xywWUw2Hz"
      },
      "outputs": [],
      "source": [
        "qc.h()"
      ]
    },
    {
      "cell_type": "markdown",
      "metadata": {
        "id": "5xnsAlLXw2H0"
      },
      "source": [
        "Here we got an error, because we didn't tell the operation which qubit it should act on. The two qubits in our register `qr` can be individually addressed as `qr[0]` and `qr[1]`."
      ]
    },
    {
      "cell_type": "code",
      "execution_count": null,
      "metadata": {
        "id": "UDGINJ0Bw2H0"
      },
      "outputs": [],
      "source": [
        "qc.h(qr[0])"
      ]
    },
    {
      "cell_type": "markdown",
      "metadata": {
        "id": "fi9WX9Xyw2H0"
      },
      "source": [
        "Ignore the output in the above. When the last line of a cell has no `=`, Jupyter notebooks like to print out what is there. In this case, it's telling us that there is a Hadamard as defined by Qiskit. To suppress this output, we could use a `;`.\n",
        "\n",
        "We can also add a controlled-NOT using `cx`. This requires two arguments: control qubit, and then target qubit."
      ]
    },
    {
      "cell_type": "code",
      "execution_count": null,
      "metadata": {
        "id": "huyCCOjrw2H0"
      },
      "outputs": [],
      "source": [
        "qc.cx(qr[0], qr[1])"
      ]
    },
    {
      "cell_type": "markdown",
      "metadata": {
        "id": "MjvPZIPyw2H0"
      },
      "source": [
        "Now our circuit has more to show"
      ]
    },
    {
      "cell_type": "code",
      "execution_count": null,
      "metadata": {
        "id": "DhJ9zu6sw2H0"
      },
      "outputs": [],
      "source": [
        "qc.draw()"
      ]
    },
    {
      "cell_type": "markdown",
      "metadata": {
        "id": "hLjcr8Rww2H0"
      },
      "source": [
        "### Aer simulator"
      ]
    },
    {
      "cell_type": "markdown",
      "metadata": {
        "id": "wjc-d3JXw2H1"
      },
      "source": [
        "We are now at the stage that we can actually look at an output from the circuit. Specifically, we will use the 'aer simulator' to see what is happening to the state vector of the two qubits.\n",
        "\n",
        "To get this simulator ready to go, we use the following line."
      ]
    },
    {
      "cell_type": "code",
      "execution_count": null,
      "metadata": {
        "id": "ypE3g_Sgw2H1"
      },
      "outputs": [],
      "source": [
        "from qiskit import Aer\n",
        "sv_sim = Aer.get_backend('aer_simulator')"
      ]
    },
    {
      "cell_type": "markdown",
      "metadata": {
        "id": "cvqLtt-Fw2H1"
      },
      "source": [
        "In Qiskit, we use *backend* to refer to the things on which quantum programs actually run (simulators or real quantum devices). To set up a job for a backend, we need to set up the corresponding backend object.\n",
        "\n",
        "The simulator we want is defined in the part of qiskit known as `Aer`. By giving the name of the simulator we want to the `get_backend()` method of Aer, we get the backend object we need. In this case, the name is `'aer_simulator'`.\n",
        "\n",
        "A list of all possible simulators in Aer can be found using"
      ]
    },
    {
      "cell_type": "code",
      "execution_count": null,
      "metadata": {
        "id": "rA56jd8fw2H1"
      },
      "outputs": [],
      "source": [
        "for backend in Aer.backends():\n",
        "    print(backend)"
      ]
    },
    {
      "cell_type": "markdown",
      "metadata": {
        "id": "-uUBy4APw2H1"
      },
      "source": [
        "All of these simulators are 'local', meaning that they run on the machine on which Qiskit is installed. Using them on your own machine can be done without signing up to the IBMQ user agreement.\n",
        "\n",
        "We then use the `.run()` method of the backend we want to use (in this case a simulator) to run the experiment. This is where the quantum computations happen!"
      ]
    },
    {
      "cell_type": "code",
      "execution_count": null,
      "metadata": {
        "id": "UBzbP89Mw2H1"
      },
      "outputs": [],
      "source": [
        "qc.save_statevector()\n",
        "job = sv_sim.run(qc)"
      ]
    },
    {
      "cell_type": "markdown",
      "metadata": {
        "id": "NFIuaGH_w2H2"
      },
      "source": [
        "This creates an object that handles the job, which here has been called `job`. All we need from this is to extract the result. Specifically, we want the state vector."
      ]
    },
    {
      "cell_type": "code",
      "execution_count": null,
      "metadata": {
        "id": "yyIfR32dw2H2"
      },
      "outputs": [],
      "source": [
        "ket = job.result().get_statevector()\n",
        "for amplitude in ket.data:\n",
        "    print(amplitude)"
      ]
    },
    {
      "cell_type": "markdown",
      "metadata": {
        "id": "R-TPRgjfw2H2"
      },
      "source": [
        "This is the vector for a Bell state $\\left( \\left|00\\right\\rangle + \\left|11\\right\\rangle \\right)/\\sqrt{2}$, which is what we'd expect given the circuit."
      ]
    },
    {
      "cell_type": "markdown",
      "metadata": {
        "id": "PRB_AuR4w2H2"
      },
      "source": [
        "While we have a nicely defined state vector, we can show another feature of Qiskit: it is possible to initialize a circuit with an arbitrary pure state."
      ]
    },
    {
      "cell_type": "code",
      "execution_count": null,
      "metadata": {
        "id": "qUOAAl1iw2H2"
      },
      "outputs": [],
      "source": [
        "new_qc = QuantumCircuit(qr)\n",
        "\n",
        "new_qc.initialize(ket, qr)"
      ]
    },
    {
      "cell_type": "markdown",
      "metadata": {
        "id": "TwvAFAr8w2H2"
      },
      "source": [
        "### Classical registers and the Aer simulator"
      ]
    },
    {
      "cell_type": "markdown",
      "metadata": {
        "id": "ehMfwmU1w2H3"
      },
      "source": [
        "In the above simulation, we got out a statevector. That's not what we'd get from a real quantum computer. For that we need measurement. And to handle measurement we need to define where the results will go. This is done with a `ClassicalRegister`. Let's define a two bit classical register, in order to measure both of our two qubits."
      ]
    },
    {
      "cell_type": "code",
      "execution_count": null,
      "metadata": {
        "id": "TMzmOp1Qw2H3"
      },
      "outputs": [],
      "source": [
        "from qiskit import ClassicalRegister\n",
        "cr = ClassicalRegister(2,'creg')\n",
        "\n",
        "qc.add_register(cr)"
      ]
    },
    {
      "cell_type": "markdown",
      "metadata": {
        "id": "TOX7YHh0w2H3"
      },
      "source": [
        "Now we can use the `measure` method of the quantum circuit. This requires two arguments: the qubit being measured, and the bit where the result is written.\n",
        "\n",
        "Let's measure both qubits, and write their results in different bits."
      ]
    },
    {
      "cell_type": "code",
      "execution_count": null,
      "metadata": {
        "id": "_XTMr95ow2H3"
      },
      "outputs": [],
      "source": [
        "qc.measure(qr[0],cr[0])\n",
        "qc.measure(qr[1],cr[1])\n",
        "\n",
        "qc.draw()"
      ]
    },
    {
      "cell_type": "markdown",
      "metadata": {
        "id": "olQ02rsmw2H3"
      },
      "source": [
        "Now we can run this on a local simulator whose effect is to emulate a real quantum device. For this we need to add another input to the `run` method, `shots`, which determines how many times we run the circuit to take statistics. If you don't provide any `shots` value, you get the default of 1024."
      ]
    },
    {
      "cell_type": "code",
      "execution_count": null,
      "metadata": {
        "id": "qKTU5YXhw2H3"
      },
      "outputs": [],
      "source": [
        "aer_sim = Aer.get_backend('aer_simulator')\n",
        "job = aer_sim.run(qc, shots=8192)"
      ]
    },
    {
      "cell_type": "markdown",
      "metadata": {
        "id": "dU8Sb6RHw2H4"
      },
      "source": [
        "The result is essentially a histogram in the form of a Python dictionary. We can use `print` to display this for us."
      ]
    },
    {
      "cell_type": "code",
      "execution_count": null,
      "metadata": {
        "id": "aSdCZ5n2w2H4"
      },
      "outputs": [],
      "source": [
        "hist = job.result().get_counts()\n",
        "print(hist)"
      ]
    },
    {
      "cell_type": "markdown",
      "metadata": {
        "id": "GitDDgyyw2H4"
      },
      "source": [
        "We can even get Qiskit to plot it as a histogram."
      ]
    },
    {
      "cell_type": "code",
      "execution_count": null,
      "metadata": {
        "id": "XQvBrd5tw2H4"
      },
      "outputs": [],
      "source": [
        "from qiskit.visualization import plot_histogram\n",
        "\n",
        "plot_histogram(hist)"
      ]
    },
    {
      "cell_type": "markdown",
      "metadata": {
        "id": "BsQU3hsBw2H4"
      },
      "source": [
        "For compatible backends we can also ask for and get the ordered list of results."
      ]
    },
    {
      "cell_type": "code",
      "execution_count": null,
      "metadata": {
        "id": "9yDp_Tmdw2H4"
      },
      "outputs": [],
      "source": [
        "job = aer_sim.run(qc, shots=10, memory=True)\n",
        "samples = job.result().get_memory()\n",
        "print(samples)"
      ]
    },
    {
      "cell_type": "markdown",
      "metadata": {
        "id": "99lpAakEw2H5"
      },
      "source": [
        "Note that the bits are labelled from right to left. So `cr[0]` is the one to the furthest right, and so on. As an example of this, here's an 8 qubit circuit with a Pauli $X$ on only the qubit numbered `7`, which has its output stored to the bit numbered `7`."
      ]
    },
    {
      "cell_type": "code",
      "execution_count": null,
      "metadata": {
        "id": "8BpIkf0Hw2H5"
      },
      "outputs": [],
      "source": [
        "qubit = QuantumRegister(8)\n",
        "bit = ClassicalRegister(8)\n",
        "qc_2 = QuantumCircuit(qubit,bit)\n",
        "\n",
        "qc_2.x(qubit[7])\n",
        "qc_2.measure(qubit,bit) # this is a way to do all the qc.measure(qr8[j],cr8[j]) at once\n",
        "\n",
        "aer_sim.run(qc_2, shots=8192).result().get_counts()"
      ]
    },
    {
      "cell_type": "markdown",
      "metadata": {
        "id": "sgKgzr34w2H5"
      },
      "source": [
        "The `1` appears at the left.\n",
        "This numbering reflects the role of the bits when they represent an integer.\n",
        "\n",
        "\n",
        "\n",
        "$$ b_{n-1} ~ b_{n-2} ~ \\ldots ~ b_1 ~ b_0 = \\sum_j ~ b_j ~ 2^j $$\n",
        "\n",
        "\n",
        "\n",
        "So the string we get in our result is the binary for $2^7$ because it has a `1` for the bit numbered `7`.\n",
        "\n",
        "\n",
        "Now, draw the circuit to understand better this result.\n"
      ]
    },
    {
      "cell_type": "markdown",
      "metadata": {
        "id": "gyveUs4ow2H5"
      },
      "source": [
        "### Simplified notation"
      ]
    },
    {
      "cell_type": "markdown",
      "metadata": {
        "id": "PyjkvUnQw2H5"
      },
      "source": [
        "Multiple quantum and classical registers can be added to a circuit. However, if we need no more than one of each, we can use a simplified notation.\n",
        "\n",
        "For example, consider the following."
      ]
    },
    {
      "cell_type": "code",
      "execution_count": null,
      "metadata": {
        "id": "Yw3NapEyw2H5"
      },
      "outputs": [],
      "source": [
        "qc = QuantumCircuit(3)"
      ]
    },
    {
      "cell_type": "markdown",
      "metadata": {
        "id": "EDnC9f-9w2H5"
      },
      "source": [
        "The single argument to `QuantumCircuit` is interpreted as the number of qubits we want. So this circuit is one that has a single quantum register consisting of three qubits, and no classical register.\n",
        "\n",
        "When adding gates, we can then refer to the three qubits simply by their index: 0, 1 or 2. For example, here's a Hadamard on qubit 1."
      ]
    },
    {
      "cell_type": "code",
      "execution_count": null,
      "metadata": {
        "id": "jjnL_Pn9w2H6"
      },
      "outputs": [],
      "source": [
        "qc.h(1)\n",
        "\n",
        "qc.draw()"
      ]
    },
    {
      "cell_type": "markdown",
      "metadata": {
        "id": "rSvOkPulw2H6"
      },
      "source": [
        "To define a circuit with both quantum and classical registers, we can supply two arguments to `QuantumCircuit`. The first will be interpreted as the number of qubits, and the second will be the number of bits. For example, here's a two qubit circuit for which we'll take a single bit of output."
      ]
    },
    {
      "cell_type": "code",
      "execution_count": null,
      "metadata": {
        "id": "n2XnWVulw2H6"
      },
      "outputs": [],
      "source": [
        "qc = QuantumCircuit(2,1)"
      ]
    },
    {
      "cell_type": "markdown",
      "metadata": {
        "id": "ZZy-jKziw2H6"
      },
      "source": [
        "To see this in action, here is a simple circuit. Note that, when making a measurement, we also refer to the bits in the classical register by index."
      ]
    },
    {
      "cell_type": "code",
      "execution_count": null,
      "metadata": {
        "id": "V6whP_Amw2H6"
      },
      "outputs": [],
      "source": [
        "qc.h(0)\n",
        "qc.cx(0,1)\n",
        "qc.measure(1,0)\n",
        "\n",
        "qc.draw()"
      ]
    },
    {
      "cell_type": "markdown",
      "metadata": {
        "id": "2khN75tdw2H6"
      },
      "source": [
        "### Creating custom gates"
      ]
    },
    {
      "cell_type": "markdown",
      "metadata": {
        "id": "TZ5w9kdxw2H6"
      },
      "source": [
        "As we've seen, it is possible to combine different circuits to make bigger ones. We can also use a more sophisticated version of this to make custom gates. For example, here is a circuit that implements a `cx` between qubits 0 and 2, using qubit 1 to mediate the process."
      ]
    },
    {
      "cell_type": "code",
      "execution_count": null,
      "metadata": {
        "id": "MzdUJwq7w2H7"
      },
      "outputs": [],
      "source": [
        "sub_circuit = QuantumCircuit(3, name='toggle_cx')\n",
        "sub_circuit.cx(0,1)\n",
        "sub_circuit.cx(1,2)\n",
        "sub_circuit.cx(0,1)\n",
        "sub_circuit.cx(1,2)\n",
        "\n",
        "sub_circuit.draw()"
      ]
    },
    {
      "cell_type": "markdown",
      "metadata": {
        "id": "3Sx-yY7Bw2H7"
      },
      "source": [
        "We can now turn this into a gate"
      ]
    },
    {
      "cell_type": "code",
      "execution_count": null,
      "metadata": {
        "id": "xF1--4Ecw2H7"
      },
      "outputs": [],
      "source": [
        "toggle_cx = sub_circuit.to_instruction()"
      ]
    },
    {
      "cell_type": "markdown",
      "metadata": {
        "id": "An4umoVTw2H7"
      },
      "source": [
        "and then insert it into other circuits using any set of qubits we choose"
      ]
    },
    {
      "cell_type": "code",
      "execution_count": null,
      "metadata": {
        "id": "oouA3BU1w2H7"
      },
      "outputs": [],
      "source": [
        "qr = QuantumRegister(4)\n",
        "new_qc = QuantumCircuit(qr)\n",
        "\n",
        "new_qc.append(toggle_cx, [qr[1],qr[2],qr[3]])\n",
        "\n",
        "new_qc.draw()"
      ]
    },
    {
      "cell_type": "markdown",
      "metadata": {
        "id": "1C7hPdCrw2H7"
      },
      "source": [
        "### Accessing on real quantum hardware"
      ]
    },
    {
      "cell_type": "markdown",
      "metadata": {
        "id": "8XrtqaHnw2H7"
      },
      "source": [
        "Backend objects can also be set up using the `IBMQ` package. The use of these requires us to [sign with an IBMQ account](https://quantum-computing.ibm.com/lab/files/qiskit-tutorials/qiskit/circuits/1_getting_started_with_qiskit). When you have your account, you will find your API token [here](https://quantum-computing.ibm.com/account) and copy-paste it in the next cell:"
      ]
    },
    {
      "cell_type": "code",
      "execution_count": null,
      "metadata": {
        "tags": [
          "uses-hardware"
        ],
        "id": "QoSWj-Mbw2H8"
      },
      "outputs": [],
      "source": [
        "from qiskit import IBMQ\n",
        "IBMQ.enable_account(token=\"YOUR API TOKEN HERE\")"
      ]
    },
    {
      "cell_type": "markdown",
      "metadata": {
        "id": "5ca2oCo-w2H8"
      },
      "source": [
        "Now let's see what additional backends we have available."
      ]
    },
    {
      "cell_type": "code",
      "execution_count": null,
      "metadata": {
        "tags": [
          "uses-hardware"
        ],
        "id": "2uMgPhgvw2H8"
      },
      "outputs": [],
      "source": [
        "provider = IBMQ.get_provider(hub='ibm-q')\n",
        "for backend in provider.backends():\n",
        "    print(backend)"
      ]
    },
    {
      "cell_type": "markdown",
      "metadata": {
        "id": "Mg8767Rgw2H8"
      },
      "source": [
        "Here there is one simulator, but the rest are prototype quantum devices.\n",
        "\n",
        "We can see what they are up to with the `status()` method."
      ]
    },
    {
      "cell_type": "code",
      "execution_count": null,
      "metadata": {
        "tags": [
          "uses-hardware"
        ],
        "id": "hGwNH6z7w2H8"
      },
      "outputs": [],
      "source": [
        "for backend in provider.backends():\n",
        "    print(backend.status().to_dict())"
      ]
    },
    {
      "cell_type": "markdown",
      "metadata": {
        "id": "677nKKKvw2H9"
      },
      "source": [
        "Let's get the backend object for one of these devices."
      ]
    },
    {
      "cell_type": "code",
      "execution_count": null,
      "metadata": {
        "tags": [
          "uses-hardware"
        ],
        "id": "f2JN6RQaw2H9"
      },
      "outputs": [],
      "source": [
        "real_device = provider.get_backend('ibm_nairobi')"
      ]
    },
    {
      "cell_type": "markdown",
      "metadata": {
        "id": "jGHTv0zJw2H9"
      },
      "source": [
        "We can use this to run a job on the device in exactly the same way as for the emulator.\n",
        "\n",
        "We can also extract some of its properties."
      ]
    },
    {
      "cell_type": "code",
      "execution_count": null,
      "metadata": {
        "tags": [
          "uses-hardware"
        ],
        "id": "U7PJMbD3w2H9"
      },
      "outputs": [],
      "source": [
        "properties = real_device.properties()\n",
        "real_device.configuration().coupling_map"
      ]
    },
    {
      "cell_type": "markdown",
      "metadata": {
        "id": "tk51zKq5w2H9"
      },
      "source": [
        "From this we can construct a noise model to mimic the noise on the device (we will discuss noise models further later in the textbook)."
      ]
    },
    {
      "cell_type": "code",
      "execution_count": null,
      "metadata": {
        "tags": [
          "uses-hardware"
        ],
        "id": "grOpOBGew2H9"
      },
      "outputs": [],
      "source": [
        "from qiskit.providers.fake_provider import FakeAthens\n",
        "athens = FakeAthens()"
      ]
    },
    {
      "cell_type": "markdown",
      "metadata": {
        "id": "u7graGpsw2H9"
      },
      "source": [
        "And then run the job on the emulator, with it reproducing all these features of the real device. Here's an example with a circuit that should output `'11111'` in the noiseless case."
      ]
    },
    {
      "cell_type": "code",
      "execution_count": null,
      "metadata": {
        "tags": [
          "uses-hardware"
        ],
        "id": "Hkj2Ffj_w2H-"
      },
      "outputs": [],
      "source": [
        "qc = QuantumCircuit(5)\n",
        "qc.x(0)\n",
        "for q in range(4):\n",
        "    qc.cx(0,q+1)\n",
        "qc.measure_all()\n",
        "qc.draw()"
      ]
    },
    {
      "cell_type": "code",
      "execution_count": null,
      "metadata": {
        "id": "Tqgq3tw3w2H-"
      },
      "outputs": [],
      "source": [
        "from qiskit.visualization import plot_gate_map\n",
        "plot_gate_map(athens)"
      ]
    },
    {
      "cell_type": "code",
      "execution_count": null,
      "metadata": {
        "id": "5a7u4u8Pw2H-"
      },
      "outputs": [],
      "source": [
        "from qiskit import transpile\n",
        "t_qc = transpile(qc, athens)\n",
        "t_qc.draw()"
      ]
    },
    {
      "cell_type": "code",
      "execution_count": null,
      "metadata": {
        "id": "qUp0l1JUw2H-"
      },
      "outputs": [],
      "source": [
        "counts = athens.run(t_qc).result().get_counts()\n",
        "plot_histogram(counts)"
      ]
    },
    {
      "cell_type": "markdown",
      "metadata": {
        "id": "0DUD9wswD0nA"
      },
      "source": [
        "Please, simulate with the \"aer simulator\" and plot the result of the noiseless version of the circuit.\n",
        "\n",
        "\n",
        "Now the very basics have been covered, let's learn more about what qubits and quantum circuits are all about."
      ]
    },
    {
      "cell_type": "markdown",
      "metadata": {
        "id": "KfcqSOUuGman"
      },
      "source": [
        "\n",
        "\n",
        "<h2 style=\"font-size:24px;\">Part 2: Classical logic gates with quantum circuits</h2>\n",
        "\n",
        "<br>\n",
        "<div style=\"background: #E8E7EB; border-radius: 5px;\n",
        "-moz-border-radius: 5px;\">\n",
        "  <p style=\"background: #800080;\n",
        "            border-radius: 5px 5px 0px 0px;\n",
        "            padding: 10px 0px 10px 10px;\n",
        "            font-size:18px;\n",
        "            color:white;\n",
        "            \"><b>Goal</b></p>\n",
        "    <p style=\" padding: 0px 0px 10px 10px;\n",
        "              font-size:16px;\">Create quantum circuit functions that can compute the XOR, AND, NAND and OR gates using the NOT gate (expressed as x in Qiskit), the CNOT gate (expressed as cx in Qiskit) and the Toffoli gate (expressed as ccx in Qiskit) .</p>\n",
        "</div>\n",
        "\n",
        "An implementation of the `NOT` gate is provided as an example."
      ]
    },
    {
      "cell_type": "code",
      "execution_count": null,
      "metadata": {
        "id": "BClDj6vTGman"
      },
      "outputs": [],
      "source": [
        "def NOT(inp):\n",
        "    \"\"\"An NOT gate.\n",
        "    \n",
        "    Parameters:\n",
        "        inp (str): Input, encoded in qubit 0.\n",
        "        \n",
        "    Returns:\n",
        "        QuantumCircuit: Output NOT circuit.\n",
        "        str: Output value measured from qubit 0.\n",
        "    \"\"\"\n",
        "\n",
        "    qc = QuantumCircuit(1, 1) # A quantum circuit with a single qubit and a single classical bit\n",
        "    qc.reset(0)\n",
        "    \n",
        "    # We encode '0' as the qubit state |0⟩, and '1' as |1⟩\n",
        "    # Since the qubit is initially |0⟩, we don't need to do anything for an input of '0'\n",
        "    # For an input of '1', we do an x to rotate the |0⟩ to |1⟩\n",
        "    if inp=='1':\n",
        "        qc.x(0)\n",
        "        \n",
        "    # barrier between input state and gate operation \n",
        "    qc.barrier()\n",
        "    \n",
        "    # Now we've encoded the input, we can do a NOT on it using x\n",
        "    qc.x(0)\n",
        "    \n",
        "    #barrier between gate operation and measurement\n",
        "    qc.barrier()\n",
        "    \n",
        "    # Finally, we extract the |0⟩/|1⟩ output of the qubit and encode it in the bit c[0]\n",
        "    qc.measure(0,0)\n",
        "    qc.draw('mpl')\n",
        "    \n",
        "    # We'll run the program on a simulator\n",
        "    backend = Aer.get_backend('qasm_simulator')\n",
        "    # Since the output will be deterministic, we can use just a single shot to get it\n",
        "    job = execute(qc, backend, shots=1, memory=True)\n",
        "    output = job.result().get_memory()[0]\n",
        "    \n",
        "    return qc, output"
      ]
    },
    {
      "cell_type": "code",
      "execution_count": null,
      "metadata": {
        "id": "PJrih-5vGmao"
      },
      "outputs": [],
      "source": [
        "## Test the function\n",
        "for inp in ['0', '1']:\n",
        "    qc, out = NOT(inp)\n",
        "    print('NOT with input',inp,'gives output',out)\n",
        "    display(qc.draw())\n",
        "    print('\\n')"
      ]
    },
    {
      "cell_type": "markdown",
      "metadata": {
        "id": "szgkWtOSGmao"
      },
      "source": [
        "<h3 style=\"font-size: 20px\">&#128211; XOR gate</h3>\n",
        "\n",
        "Takes two binary strings as input and gives one as output.\n",
        "\n",
        "The output is '0' when the inputs are equal and  '1' otherwise."
      ]
    },
    {
      "cell_type": "code",
      "execution_count": null,
      "metadata": {
        "id": "WHgG2lipGmao"
      },
      "outputs": [],
      "source": [
        "def XOR(inp1,inp2):\n",
        "    \"\"\"An XOR gate.\n",
        "    \n",
        "    Parameters:\n",
        "        inpt1 (str): Input 1, encoded in qubit 0.\n",
        "        inpt2 (str): Input 2, encoded in qubit 1.\n",
        "        \n",
        "    Returns:\n",
        "        QuantumCircuit: Output XOR circuit.\n",
        "        str: Output value measured from qubit 1.\n",
        "    \"\"\"\n",
        "  \n",
        "    qc = QuantumCircuit(2, 1) \n",
        "    qc.reset(range(2))\n",
        "    \n",
        "    if inp1=='1':\n",
        "        qc.x(0)\n",
        "    if inp2=='1':\n",
        "        qc.x(1)\n",
        "    \n",
        "    # barrier between input state and gate operation \n",
        "    qc.barrier()\n",
        "    \n",
        "    # this is where your program for quantum XOR gate goes\n",
        "    \n",
        "    \n",
        "    \n",
        "    \n",
        "    \n",
        "    \n",
        "    \n",
        "    \n",
        "    # barrier between input state and gate operation \n",
        "    qc.barrier()\n",
        "    \n",
        "    qc.measure(1,0) # output from qubit 1 is measured\n",
        "  \n",
        "    #We'll run the program on a simulator\n",
        "    backend = Aer.get_backend('qasm_simulator')\n",
        "    #Since the output will be deterministic, we can use just a single shot to get it\n",
        "    job = execute(qc, backend, shots=1, memory=True)\n",
        "    output = job.result().get_memory()[0]\n",
        "  \n",
        "    return qc, output"
      ]
    },
    {
      "cell_type": "code",
      "execution_count": null,
      "metadata": {
        "id": "F3RpP2d5Gmap"
      },
      "outputs": [],
      "source": [
        "## Test the function\n",
        "for inp1 in ['0', '1']:\n",
        "    for inp2 in ['0', '1']:\n",
        "        qc, output = XOR(inp1, inp2)\n",
        "        print('XOR with inputs',inp1,inp2,'gives output',output)\n",
        "        display(qc.draw())\n",
        "        print('\\n')"
      ]
    },
    {
      "cell_type": "markdown",
      "metadata": {
        "id": "aIwhoLqRGmap"
      },
      "source": [
        "<h3 style=\"font-size: 20px\">&#128211; AND gate</h3>\n",
        "\n",
        "Takes two binary strings as input and gives one as output.\n",
        "\n",
        "The output is `'1'` only when both the inputs are `'1'`."
      ]
    },
    {
      "cell_type": "code",
      "execution_count": null,
      "metadata": {
        "id": "ZRp7VZe2Gmap"
      },
      "outputs": [],
      "source": [
        "def AND(inp1,inp2):\n",
        "    \"\"\"An AND gate.\n",
        "    \n",
        "    Parameters:\n",
        "        inpt1 (str): Input 1, encoded in qubit 0.\n",
        "        inpt2 (str): Input 2, encoded in qubit 1.\n",
        "        \n",
        "    Returns:\n",
        "        QuantumCircuit: Output XOR circuit.\n",
        "        str: Output value measured from qubit 2.\n",
        "    \"\"\"\n",
        "    qc = QuantumCircuit(3, 1) \n",
        "    qc.reset(range(2))\n",
        "  \n",
        "    if inp1=='1':\n",
        "        qc.x(0)\n",
        "    if inp2=='1':\n",
        "        qc.x(1)\n",
        "        \n",
        "    qc.barrier()\n",
        "\n",
        "    # this is where your program for quantum AND gate goes\n",
        "\n",
        "    \n",
        "    \n",
        "    \n",
        "    \n",
        "    \n",
        "\n",
        "    qc.barrier()\n",
        "    qc.measure(2, 0) # output from qubit 2 is measured\n",
        "  \n",
        "    # We'll run the program on a simulator\n",
        "    backend = Aer.get_backend('qasm_simulator')\n",
        "    # Since the output will be deterministic, we can use just a single shot to get it\n",
        "    job = execute(qc, backend, shots=1, memory=True)\n",
        "    output = job.result().get_memory()[0]\n",
        "  \n",
        "    return qc, output"
      ]
    },
    {
      "cell_type": "code",
      "execution_count": null,
      "metadata": {
        "id": "MMlYSIU-Gmap"
      },
      "outputs": [],
      "source": [
        "## Test the function\n",
        "for inp1 in ['0', '1']:\n",
        "    for inp2 in ['0', '1']:\n",
        "        qc, output = AND(inp1, inp2)\n",
        "        print('AND with inputs',inp1,inp2,'gives output',output)\n",
        "        display(qc.draw())\n",
        "        print('\\n')"
      ]
    },
    {
      "cell_type": "markdown",
      "metadata": {
        "id": "q-v81XOOGmap"
      },
      "source": [
        "<h3 style=\"font-size: 20px\">&#128211; NAND gate</h3>\n",
        "\n",
        "Takes two binary strings as input and gives one as output.\n",
        "\n",
        "The output is `'0'` only when both the inputs are `'1'`."
      ]
    },
    {
      "cell_type": "code",
      "execution_count": null,
      "metadata": {
        "id": "o3k8ti4yGmap"
      },
      "outputs": [],
      "source": [
        "def NAND(inp1,inp2):\n",
        "    \"\"\"An NAND gate.\n",
        "    \n",
        "    Parameters:\n",
        "        inpt1 (str): Input 1, encoded in qubit 0.\n",
        "        inpt2 (str): Input 2, encoded in qubit 1.\n",
        "        \n",
        "    Returns:\n",
        "        QuantumCircuit: Output NAND circuit.\n",
        "        str: Output value measured from qubit 2.\n",
        "    \"\"\"\n",
        "    qc = QuantumCircuit(3, 1) \n",
        "    qc.reset(range(3))\n",
        "    \n",
        "    if inp1=='1':\n",
        "        qc.x(0)\n",
        "    if inp2=='1':\n",
        "        qc.x(1)\n",
        "    \n",
        "    qc.barrier()\n",
        "    \n",
        "    # this is where your program for quantum NAND gate goes\n",
        "\n",
        "\n",
        "    \n",
        "    \n",
        "    \n",
        "    \n",
        "    \n",
        "    qc.barrier()\n",
        "    qc.measure(2, 0) # output from qubit 2 is measured\n",
        "  \n",
        "    # We'll run the program on a simulator\n",
        "    backend = Aer.get_backend('qasm_simulator')\n",
        "    # Since the output will be deterministic, we can use just a single shot to get it\n",
        "    job = execute(qc,backend,shots=1,memory=True)\n",
        "    output = job.result().get_memory()[0]\n",
        "  \n",
        "    return qc, output"
      ]
    },
    {
      "cell_type": "code",
      "execution_count": null,
      "metadata": {
        "id": "ZiCpfggTGmaq"
      },
      "outputs": [],
      "source": [
        "## Test the function\n",
        "for inp1 in ['0', '1']:\n",
        "    for inp2 in ['0', '1']:\n",
        "        qc, output = NAND(inp1, inp2)\n",
        "        print('NAND with inputs',inp1,inp2,'gives output',output)\n",
        "        display(qc.draw())\n",
        "        print('\\n')"
      ]
    },
    {
      "cell_type": "markdown",
      "metadata": {
        "id": "nbar8jAjGmaq"
      },
      "source": [
        "<h3 style=\"font-size: 20px\">&#128211; OR gate</h3>\n",
        "\n",
        "Takes two binary strings as input and gives one as output.\n",
        "\n",
        "The output is '1' if either input is '1'."
      ]
    },
    {
      "cell_type": "code",
      "execution_count": null,
      "metadata": {
        "id": "SYWqK62qGmaq"
      },
      "outputs": [],
      "source": [
        "def OR(inp1,inp2):\n",
        "    \"\"\"An OR gate.\n",
        "    \n",
        "    Parameters:\n",
        "        inpt1 (str): Input 1, encoded in qubit 0.\n",
        "        inpt2 (str): Input 2, encoded in qubit 1.\n",
        "        \n",
        "    Returns:\n",
        "        QuantumCircuit: Output XOR circuit.\n",
        "        str: Output value measured from qubit 2.\n",
        "    \"\"\"\n",
        "\n",
        "    qc = QuantumCircuit(3, 1) \n",
        "    qc.reset(range(3))\n",
        "    \n",
        "    if inp1=='1':\n",
        "        qc.x(0)\n",
        "    if inp2=='1':\n",
        "        qc.x(1)\n",
        "    \n",
        "    qc.barrier()\n",
        "   \n",
        "    # this is where your program for quantum OR gate goes\n",
        "\n",
        "\n",
        "    \n",
        "    \n",
        "    \n",
        "    \n",
        "    \n",
        "    qc.barrier()\n",
        "    qc.measure(2, 0) # output from qubit 2 is measured\n",
        "  \n",
        "    # We'll run the program on a simulator\n",
        "    backend = Aer.get_backend('qasm_simulator')\n",
        "    # Since the output will be deterministic, we can use just a single shot to get it\n",
        "    job = execute(qc,backend,shots=1,memory=True)\n",
        "    output = job.result().get_memory()[0]\n",
        "  \n",
        "    return qc, output"
      ]
    },
    {
      "cell_type": "code",
      "execution_count": null,
      "metadata": {
        "id": "MvjqcfHqGmaq"
      },
      "outputs": [],
      "source": [
        "## Test the function\n",
        "for inp1 in ['0', '1']:\n",
        "    for inp2 in ['0', '1']:\n",
        "        qc, output = OR(inp1, inp2)\n",
        "        print('OR with inputs',inp1,inp2,'gives output',output)\n",
        "        display(qc.draw())\n",
        "        print('\\n')"
      ]
    },
    {
      "cell_type": "markdown",
      "metadata": {
        "id": "4UvVMackGmaq"
      },
      "source": [
        "<h2 style=\"font-size:24px;\">Part 3: From a digital circuit to a quantum circuit</h2>\n",
        "<br>\n",
        "<div style=\"background: #E8E7EB; border-radius: 5px;\n",
        "-moz-border-radius: 5px;\">\n",
        "  <p style=\"background: #800080;\n",
        "            border-radius: 5px 5px 0px 0px;\n",
        "            padding: 10px 0px 10px 10px;\n",
        "            font-size:18px;\n",
        "            color:white;\n",
        "            \"><b>Goal</b></p>\n",
        "    <p style=\" padding: 0px 0px 10px 10px;\n",
        "              font-size:16px;\">Build a quantum circuit that is equivalent to a given digital circuit.</p>\n",
        "</div>\n",
        "\n",
        "In Part 1 you made `NOT`, `XOR`, `AND`, `NAND` and `OR` gates from quantum gates, and executed them on the simulator.  Here in Part 2 you will combine them to implement a quantum circuit that corresponds to a given digital (classical) circuit.  "
      ]
    },
    {
      "cell_type": "markdown",
      "metadata": {
        "id": "bnsEAJNTGmaq"
      },
      "source": [
        "<h3 style=\"font-size: 20px\">&#128211; The digital circuit</h3>\n",
        "\n",
        "Given the circuit shown below, derive the boolean expression for the output F and its thruth table.\n",
        "\n",
        "**Tip:** Remember that a truth table consists of $2^n$ rows that are all possible input combinations, being $n$ the number of inputs, and $n +1$ columns, n for the inputs and one for the output (the most right column).\n",
        "\n"
      ]
    },
    {
      "cell_type": "markdown",
      "metadata": {
        "id": "IPN6mikXLUHb"
      },
      "source": [
        "![digital_circuitB.png](data:image/png;base64,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)\n",
        "\n",
        "\n"
      ]
    },
    {
      "cell_type": "markdown",
      "metadata": {
        "id": "aRNo6kUoGmaq"
      },
      "source": [
        "<h3 style=\"font-size: 20px\">&#128211; The quantum circuit</h3>\n",
        "\n",
        "Create the quantum circuit fucntion that implements the digital circuit shown above.\n",
        "\n",
        "Verify that the output is correct for all possible input values ('000', '001', '010'...'111')."
      ]
    },
    {
      "cell_type": "code",
      "execution_count": null,
      "metadata": {
        "id": "gSivBQkPO0O6"
      },
      "outputs": [],
      "source": [
        "from qiskit import *\n",
        "from qiskit.visualization import plot_histogram\n",
        "import numpy as np"
      ]
    },
    {
      "cell_type": "code",
      "execution_count": null,
      "metadata": {
        "id": "YNlG77fBGmaq"
      },
      "outputs": [],
      "source": [
        "def DQC(inp1,inp2,inp3):\n",
        "    \"\"\"A digital circuit.\n",
        "    \n",
        "    Parameters:\n",
        "        inpt1 (str): Input 1, encoded in qubit 0.\n",
        "        inpt2 (str): Input 2, encoded in qubit 1.\n",
        "        inpt2 (str): Input 2, encoded in qubit 2.\n",
        "    Returns:\n",
        "        QuantumCircuit: Output digital circuit.\n",
        "        str: Output value measured from qubit XX.\n",
        "    \"\"\"\n",
        "   \n",
        "    # here is where your program goes\n",
        "\n",
        "\n",
        "    \n",
        "    \n",
        "    \n",
        "    \n",
        "    \n",
        "    \n",
        "  \n",
        "    # We'll run the program on a simulator\n",
        "    backend = Aer.get_backend('qasm_simulator')\n",
        "    # Since the output will be deterministic, we can use just a single shot to get it\n",
        "    job = execute(qc,backend,shots=1,memory=True)\n",
        "    output = job.result().get_memory()[0]\n",
        "  \n",
        "    return qc, output"
      ]
    },
    {
      "cell_type": "code",
      "execution_count": null,
      "metadata": {
        "id": "jtbsXD3BGmaq"
      },
      "outputs": [],
      "source": [
        "## Test the function\n",
        " # here is where your program goes\n"
      ]
    }
  ],
  "metadata": {
    "kernelspec": {
      "display_name": "Python 3",
      "language": "python",
      "name": "python3"
    },
    "language_info": {
      "codemirror_mode": {
        "name": "ipython",
        "version": 3
      },
      "file_extension": ".py",
      "mimetype": "text/x-python",
      "name": "python",
      "nbconvert_exporter": "python",
      "pygments_lexer": "ipython3",
      "version": "3.9.10"
    },
    "colab": {
      "provenance": []
    }
  },
  "nbformat": 4,
  "nbformat_minor": 0
}