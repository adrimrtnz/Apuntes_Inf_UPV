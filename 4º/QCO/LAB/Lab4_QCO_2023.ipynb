{
  "cells": [
    {
      "cell_type": "markdown",
      "metadata": {
        "tags": [
          "remove_cell"
        ],
        "id": "NcXVLRN9-R5B"
      },
      "source": [
        "# Laboratory practice 4 (1 session)"
      ]
    },
    {
      "cell_type": "markdown",
      "metadata": {
        "id": "_CWnA5Bo-R5D"
      },
      "source": [
        "<h3 style=\"font-size: 20px\"> Important notes: </h3>\n",
        "\n"
      ]
    },
    {
      "cell_type": "markdown",
      "metadata": {
        "id": "0yD4emDm-R5E"
      },
      "source": [
        "- This .pynb file is ready for execution in a Google Colab (https://colab.research.google.com) environment. Just upload it and open it from a regular Colab session.\n",
        "\n",
        "- If you have any question about this lab, please send an email to Carmen G. Almudever (cargara2@disca.upv.es)\n",
        "\n",
        "\n",
        "- The answers of Lab 4 have to be sent by email to Carmen G. Almudever (cargara2@disca.upv.es) in case you do not attend the lab session or you do not manage to finish all exercises during the lab session. (Use the \"print\" menu option of the Google Colab environment to create a PDF file. Please name the file with your answers as “Lab4_student_name.pdf”)\n",
        "\n",
        "- **Note that the deadline for sending the answers of Lab 3 is April 7.**"
      ]
    },
    {
      "cell_type": "code",
      "source": [
        "# ALWAYS RUN THIS CELL AFTER YOU LOAD (OR RELOAD) THE NOTEBOOK\n",
        "\n",
        "# Generic cell for correct operation of QCO materials in Google Colab (jcperez@disca.upv.es):\n",
        "!pip -qqq install qiskit[visualization]\n",
        "import qiskit\n",
        "%matplotlib inline\n",
        "qiskit.__version__\n",
        "\n",
        "# Not always necessary (jcperez@disca.upv.es):\n",
        "!pip -qqq install git+https://github.com/qiskit-community/qiskit-textbook.git#subdirectory=qiskit-textbook-src\n",
        "\n",
        "# To fix a bug/version incompatibility in that file (jcperez@disca.upv.es):\n",
        "!sed -ie 's/denominator >/denominator() >/g' /usr/local/lib/python3.9/dist-packages/qiskit/visualization/array.py\n",
        "\n",
        "# To set graphical circuit drawing by default in qiskit (jcperez@disca.upv.es):\n",
        "!mkdir ${HOME}/.qiskit 2>/dev/null\n",
        "!printf \"[default]\\ncircuit_drawer = mpl\\n\" > ${HOME}/.qiskit/settings.conf"
      ],
      "metadata": {
        "id": "DeeNHlOY-jWG"
      },
      "execution_count": null,
      "outputs": []
    },
    {
      "cell_type": "markdown",
      "metadata": {
        "id": "_nI47kLF-R5E"
      },
      "source": [
        "## Quantum teleportation\n",
        "\n",
        "Prerequisite \n",
        "- [Ch.3.10 Quantum Teleportation](https://qiskit.org/textbook/ch-algorithms/telepotation.html)"
      ]
    },
    {
      "cell_type": "code",
      "execution_count": null,
      "metadata": {
        "id": "5JXPiRIi-R5E"
      },
      "outputs": [],
      "source": [
        "import numpy as np\n",
        "from qiskit import QuantumCircuit, QuantumRegister, ClassicalRegister\n",
        "from qiskit import IBMQ, Aer, transpile, assemble, execute\n",
        "from qiskit.visualization import plot_histogram, plot_bloch_multivector\n",
        "from qiskit.extensions import Initialize\n",
        "from qiskit_textbook.tools import random_state, array_to_latex\n",
        "from math import sqrt, pi"
      ]
    },
    {
      "cell_type": "markdown",
      "metadata": {
        "id": "KYwip-39-R5F"
      },
      "source": [
        "<h2 style=\"font-size:24px;\">The teleportation protocol</h2>\n",
        "\n",
        "<br>\n",
        "<div style=\"background: #E8E7EB; border-radius: 5px;\n",
        "-moz-border-radius: 5px;\">\n",
        "  <p style=\"background: #800080;\n",
        "            border-radius: 5px 5px 0px 0px;\n",
        "            padding: 10px 0px 10px 10px;\n",
        "            font-size:18px;\n",
        "            color:white;\n",
        "            \"><b>Goal</b></p>\n",
        "    <p style=\" padding: 0px 0px 10px 10px;\n",
        "              font-size:16px;\">Understand how quantum teleportation works.</p>\n",
        "</div>\n"
      ]
    },
    {
      "cell_type": "markdown",
      "metadata": {
        "id": "ZwUD108r-R5F"
      },
      "source": [
        "<h3 style=\"font-size: 20px\"> 1. Creating Bell pairs </h3>\n",
        "\n"
      ]
    },
    {
      "cell_type": "markdown",
      "metadata": {
        "id": "1E44aOzd-R5G"
      },
      "source": [
        "As discussed in the lectures, quantum teleportation is a protocol that allows to transfer a quantum state from the sender (Alice) to the receiver (Bob) by only sending two classical bits over a classical communication channel. It requires to create an entangled state called Bell state. \n",
        "\n",
        "In this first exercise you will have to write the code for creating the bell pair $|\\beta_{00}\\rangle$.\n"
      ]
    },
    {
      "cell_type": "code",
      "execution_count": null,
      "metadata": {
        "id": "7HzPEsnZ-R5G"
      },
      "outputs": [],
      "source": [
        "\n",
        "    qc_Bellpair = QuantumCircuit(2)\n",
        "    #### your code goes here \n",
        "    \n",
        "\n",
        "    \n",
        "    # Let's view our circuit\n",
        "    qc_Bellpair.draw()\n",
        "    "
      ]
    },
    {
      "cell_type": "markdown",
      "metadata": {
        "id": "dW0aZho4-R5G"
      },
      "source": [
        "We can then use the Qiskit's statevector simulator to view the resulting two-qubit state. "
      ]
    },
    {
      "cell_type": "code",
      "execution_count": null,
      "metadata": {
        "id": "ar35bkIo-R5G"
      },
      "outputs": [],
      "source": [
        "backend = Aer.get_backend('statevector_simulator') # Tell Qiskit how to simulate our circuit\n",
        "# Let's display the output state vector\n",
        "result = execute(qc_Bellpair,backend).result() # Do the simulation, returning the result\n",
        "out_state = result.get_statevector()\n",
        "print(out_state) # Display the output state vector\n",
        "    "
      ]
    },
    {
      "cell_type": "markdown",
      "metadata": {
        "id": "4EOP7C8e-R5G"
      },
      "source": [
        "<p>&#128211; Modify the Bell pair circuit you just created to get the other Bell pairs $|\\beta_{01}\\rangle$ , $|\\beta_{10}\\rangle$ and $|\\beta_{11}\\rangle$. (1 point)"
      ]
    },
    {
      "cell_type": "markdown",
      "metadata": {
        "id": "vJnco-5Z-R5H"
      },
      "source": [
        "<h3 style=\"font-size: 20px\"> 2. Transfering quantum states: the teleportation protocol </h3>\n",
        "\n"
      ]
    },
    {
      "cell_type": "markdown",
      "metadata": {
        "id": "ASraUTrc-R5H"
      },
      "source": [
        "In this section, we will create the quantum circuit for teleporting a quantum state. In order to test its functionality, we will teleport the following quantum states (one after the other): \n",
        "\n",
        "$$\n",
        "\\begin{aligned}\n",
        "1. |\\psi_{A} \\rangle & = |0\\rangle \\\\\n",
        "2. |\\psi_{B} \\rangle & = |1\\rangle \\\\\n",
        "3. |\\psi_{C} \\rangle & = \\tfrac{1}{2}|0\\rangle + \\tfrac{\\sqrt{3}}{2}|1\\rangle \\\\\n",
        "4. |\\psi_{D} \\rangle & = Random\n",
        "\\end{aligned}\n",
        "$$\n",
        "\n",
        "Note that $|\\psi_{D} \\rangle$ is a random state that can be generated using the fuction `random_state`.\n"
      ]
    },
    {
      "cell_type": "markdown",
      "metadata": {
        "id": "Oivtv6dt-R5H"
      },
      "source": [
        "<h4 style=\"font-size: 17px\">&#128211;Step 1. Initialize Alice's qubit. (1 point)</h4>\n",
        "\n",
        "The first step will be to initialise the qubit to be sent to one of the quantum states shown above. Write the corresponding Pyhton function."
      ]
    },
    {
      "cell_type": "code",
      "execution_count": null,
      "metadata": {
        "id": "wLjYxXHs-R5H"
      },
      "outputs": [],
      "source": [
        "def init_state(qc, a):\n",
        "    \n",
        "    #### your code goes here \n",
        "      \n",
        "   #initial state A\n",
        "    initial_state = [1,0] \n",
        "\n",
        "\n",
        "    psi=initial_state\n",
        "    init_gate = Initialize(psi)\n",
        "    init_gate.label = \"init\"\n",
        "    qc.append(init_gate, [0])\n",
        "    \n",
        "    qc.barrier()"
      ]
    },
    {
      "cell_type": "markdown",
      "metadata": {
        "id": "AwYLzdMK-R5H"
      },
      "source": [
        "<h4 style=\"font-size: 17px\">&#128211;Step 2. Create the Bell pair using the circuit method. (1 point)</h4>\n",
        "\n",
        "Once the qubit to be sent is initialised, we can now create the Bell pair $|\\beta_{00}\\rangle$ as we did before. "
      ]
    },
    {
      "cell_type": "code",
      "execution_count": null,
      "metadata": {
        "id": "ngbPQn1G-R5H"
      },
      "outputs": [],
      "source": [
        "def create_bell_pair(qc, a, b):\n",
        "    \"\"\"Creates a bell pair in qc using qubits a & b\"\"\"\n",
        "    #### your code goes here \n",
        "    "
      ]
    },
    {
      "cell_type": "markdown",
      "metadata": {
        "id": "WdUXDi7b-R5H"
      },
      "source": [
        "<h4 style=\"font-size: 17px\">&#128211;Step 3 and 4. Operations and measurements at Alice's side (1 point) </h4>\n",
        "\n",
        "After sending half of the Bell Pair to Bob and the other half to Alice, she has to perform some operations (CNOT and H) with the qubit she wants to send $|\\psi \\rangle$ and her half of the Bell pair. Afterwards, she measures both qubits and store the results in two classical bits that are sent to Bob. Write the corresponding Python functions: one for Alice's operations and another for the measurements."
      ]
    },
    {
      "cell_type": "code",
      "execution_count": null,
      "metadata": {
        "id": "_WQQVWnA-R5H"
      },
      "outputs": [],
      "source": [
        "def alice_gates(qc, psi, a):\n",
        "    #### your code goes here \n",
        "    "
      ]
    },
    {
      "cell_type": "code",
      "execution_count": null,
      "metadata": {
        "id": "nsRHriUW-R5H"
      },
      "outputs": [],
      "source": [
        "def measure_and_send(qc, a, b):\n",
        "    \"\"\"Measures qubits a & b and 'sends' the results to Bob\"\"\"\n",
        "    qc.barrier()\n",
        "    #### your code goes here \n",
        "    "
      ]
    },
    {
      "cell_type": "markdown",
      "metadata": {
        "id": "eYAEzKh4-R5H"
      },
      "source": [
        "<h4 style=\"font-size: 17px\">&#128211;Step 5. Corrections at Bob's side (1 point) </h4>\n",
        "\n",
        "After receiving the two clasical bits, Bob will have to apply specific corrections to his qubit. These corrections are:\n",
        "\n",
        "00 $\\rightarrow$ Do nothing\n",
        "\n",
        "01 $\\rightarrow$ Apply $X$ gate\n",
        "\n",
        "10 $\\rightarrow$ Apply $Z$ gate\n",
        "\n",
        "11 $\\rightarrow$ Apply $ZX$ gate\n",
        "\n",
        "Create the Python function to perform such corrections."
      ]
    },
    {
      "cell_type": "code",
      "execution_count": null,
      "metadata": {
        "id": "j5RwqjEB-R5I"
      },
      "outputs": [],
      "source": [
        "# This function takes a QuantumCircuit (qc), integer (qubit)\n",
        "# and ClassicalRegisters (crz & crx) to decide which gates to apply\n",
        "def bob_gates(qc, qubit, crz, crx):\n",
        "    #### your code goes here \n",
        "    \n",
        "    "
      ]
    },
    {
      "cell_type": "markdown",
      "metadata": {
        "id": "ykbi6PXD-R5I"
      },
      "source": [
        "<h4 style=\"font-size: 17px\">&#128211;Putting all parts together </h4>\n",
        "\n",
        "Now we are ready for putting all parts together and run the teleportation protocol. Please, write the full quantum teleportation circuit and teleport the quantum states $|\\psi_A \\rangle$,  $|\\psi_B \\rangle$, $|\\psi_C \\rangle$ and $|\\psi_D \\rangle$. "
      ]
    },
    {
      "cell_type": "code",
      "execution_count": null,
      "metadata": {
        "id": "cTkXRSKB-R5I"
      },
      "outputs": [],
      "source": [
        "## SETUP\n",
        "# Protocol uses 3 qubits and 2 classical bits in 2 different registers\n",
        "qr = QuantumRegister(3, name=\"q\")\n",
        "crz, crx = ClassicalRegister(1, name=\"crz\"), ClassicalRegister(1, name=\"crx\")\n",
        "teleportation_circuit = QuantumCircuit(qr, crz, crx)\n",
        "\n",
        "## STEP 1\n",
        "#### your code goes here \n",
        "\n",
        "\n",
        "\n",
        "## STEP 2\n",
        "#### your code goes here \n",
        "\n",
        "\n",
        "\n",
        "## STEP 3 & 4\n",
        "teleportation_circuit.barrier() # Use barrier to separate steps\n",
        "#### your code goes here \n",
        "\n",
        "\n",
        "\n",
        "## STEP 5\n",
        "teleportation_circuit.barrier() # Use barrier to separate steps\n",
        "#### your code goes here \n",
        "\n",
        "\n",
        "\n",
        "teleportation_circuit.draw()"
      ]
    },
    {
      "cell_type": "markdown",
      "metadata": {
        "id": "uKRmRP7L-R5I"
      },
      "source": [
        "<h4 style=\"font-size: 17px\">&#128211;Checking the results </h4>\n",
        "\n",
        "In order to check that the intended state has been teleported, we can use the statevector simulator and observe that the state of $|q_2\\rangle$ is the same as the state $|\\psi\\rangle$ we created, while the states of $|q_0\\rangle$ and $|q_1\\rangle$ have been collapsed to either $|0\\rangle$ or $|1\\rangle$. Please, run the code several times and take some snapshots of the Bloch spheres for different outcomes of qubits $|q_0\\rangle$ and $|q_1\\rangle$. "
      ]
    },
    {
      "cell_type": "code",
      "execution_count": null,
      "metadata": {
        "id": "Ujj9UEw2-R5I"
      },
      "outputs": [],
      "source": [
        "sv_sim = Aer.get_backend('statevector_simulator')\n",
        "qobj = assemble(teleportation_circuit)\n",
        "out_vector = sv_sim.run(teleportation_circuit).result().get_statevector()\n",
        "plot_bloch_multivector(out_vector)"
      ]
    },
    {
      "cell_type": "markdown",
      "metadata": {
        "id": "ibwi-8Ds-R5I"
      },
      "source": [
        "<h3 style=\"font-size: 20px\"> 3. Teleporting quantum states using different Bell pairs </h3>\n",
        "\n"
      ]
    },
    {
      "cell_type": "markdown",
      "metadata": {
        "id": "7iAllyjk-R5I"
      },
      "source": [
        "In the previous section and in the lecture, we used the Bell pair $|\\beta_{00}\\rangle$ for teleporting a quantum state. However, as we have seen in Section 1, different Bell pairs exist and can be used in the teleportation circuit. \n",
        "\n",
        "To see what happens when a different Bell pair is used, teleport the quantum state $|\\psi_B \\rangle = |1\\rangle$ but now using the Bell state $|\\beta_{10}\\rangle$ ($|q_1 \\rangle = |0\\rangle$ and $|q_2 \\rangle = |1\\rangle$).\n",
        "\n",
        "To this purpose, you can use the code writen in the previous section and just modify the  `create_bell_pair` function."
      ]
    },
    {
      "cell_type": "code",
      "execution_count": null,
      "metadata": {
        "id": "gC8MbeLw-R5I"
      },
      "outputs": [],
      "source": [
        "def init_state(qc, a):\n",
        "    \n",
        "    #### your code goes here \n",
        "    \n",
        "    \n",
        "    \n",
        "    \n",
        "    qc.barrier()"
      ]
    },
    {
      "cell_type": "code",
      "execution_count": null,
      "metadata": {
        "id": "9RanSh_q-R5I"
      },
      "outputs": [],
      "source": [
        "def create_bell_pair(qc, a, b):\n",
        "    \"\"\"Creates a bell pair in qc using qubits a & b\"\"\"\n",
        "    #### your code goes here \n",
        "    "
      ]
    },
    {
      "cell_type": "code",
      "execution_count": null,
      "metadata": {
        "id": "mjLDenZ9-R5I"
      },
      "outputs": [],
      "source": [
        "def alice_gates(qc, psi, a):\n",
        "    #### your code goes here \n",
        "    \n",
        "    "
      ]
    },
    {
      "cell_type": "code",
      "execution_count": null,
      "metadata": {
        "id": "j2oj4gmE-R5I"
      },
      "outputs": [],
      "source": [
        "def measure_and_send(qc, a, b):\n",
        "    \"\"\"Measures qubits a & b and 'sends' the results to Bob\"\"\"\n",
        "    qc.barrier()\n",
        "    #### your code goes here \n",
        "    \n",
        "    "
      ]
    },
    {
      "cell_type": "code",
      "execution_count": null,
      "metadata": {
        "id": "_mnanWgq-R5I"
      },
      "outputs": [],
      "source": [
        "# This function takes a QuantumCircuit (qc), integer (qubit)\n",
        "# and ClassicalRegisters (crz & crx) to decide which gates to apply\n",
        "def bob_gates(qc, qubit, crz, crx):\n",
        "    # Here we use c_if to control our gates with a classical\n",
        "    # bit instead of a qubit\n",
        "    \n",
        "    #### your code goes here \n",
        "    \n",
        "    \n",
        "    "
      ]
    },
    {
      "cell_type": "code",
      "execution_count": null,
      "metadata": {
        "id": "NN3SS8U--R5I"
      },
      "outputs": [],
      "source": [
        "## SETUP\n",
        "# Protocol uses 3 qubits and 2 classical bits in 2 different registers\n",
        "qr = QuantumRegister(3, name=\"q\")\n",
        "crz, crx = ClassicalRegister(1, name=\"crz\"), ClassicalRegister(1, name=\"crx\")\n",
        "teleportation_circuit = QuantumCircuit(qr, crz, crx)\n",
        "\n",
        "## STEP 1\n",
        "#### your code goes here \n",
        "\n",
        "\n",
        "## STEP 2\n",
        "#### your code goes here \n",
        "\n",
        "\n",
        "\n",
        "## STEP 3 & 4\n",
        "teleportation_circuit.barrier() # Use barrier to separate steps\n",
        "#### your code goes here \n",
        "\n",
        "\n",
        "\n",
        "## STEP 5\n",
        "teleportation_circuit.barrier() # Use barrier to separate steps\n",
        "#### your code goes here \n",
        "\n",
        "\n",
        "\n",
        "teleportation_circuit.draw()"
      ]
    },
    {
      "cell_type": "code",
      "execution_count": null,
      "metadata": {
        "id": "4qbJe81A-R5J"
      },
      "outputs": [],
      "source": [
        "sv_sim = Aer.get_backend('statevector_simulator')\n",
        "qobj = assemble(teleportation_circuit)\n",
        "out_vector = sv_sim.run(teleportation_circuit).result().get_statevector()\n",
        "plot_bloch_multivector(out_vector)"
      ]
    },
    {
      "cell_type": "markdown",
      "metadata": {
        "id": "81XTVBZj-R5J"
      },
      "source": [
        "<p>&#128211;What do you observe when looking at qubit 2? Has the state $|\\psi_B \\rangle = |1\\rangle$ been teleported to $|q_2\\rangle$? If the answer is no, explain the reason (1p)."
      ]
    },
    {
      "cell_type": "markdown",
      "metadata": {
        "id": "J5_foi-C-R5J"
      },
      "source": [
        "**Your answer:**"
      ]
    },
    {
      "cell_type": "markdown",
      "metadata": {
        "id": "ItOMAuwO-R5J"
      },
      "source": [
        "<h4 style=\"font-size: 17px\">&#128211;Changing the corrections.</h4>\n",
        "\n",
        "As you might have realised, when changing the Bell pair the corrections that Bob was applying are not valid anymore. \n",
        "\n",
        "<p>&#128211;Let's then calculate the new operations that Bob will have to perform to get Alice's qubit ($|\\psi \\rangle = |1\\rangle$).\n",
        "To do so, you will first have to calculate by hand what the state of the 3-qubit system is right before Alice measure her two qubits. (1 point)\n"
      ]
    },
    {
      "cell_type": "markdown",
      "metadata": {
        "id": "Ybju5hn6-R5J"
      },
      "source": [
        "**Your answer:**"
      ]
    },
    {
      "cell_type": "markdown",
      "metadata": {
        "id": "p5kKgQVj-R5J"
      },
      "source": [
        "<p>&#128211;Based on the state you just calculated, what are the new corrections (transformations) Bob needs to apply? (1 point)"
      ]
    },
    {
      "cell_type": "markdown",
      "metadata": {
        "id": "1Tiq2EUp-R5J"
      },
      "source": [
        "**Your answer:**"
      ]
    },
    {
      "cell_type": "markdown",
      "metadata": {
        "id": "o7kldXlF-R5J"
      },
      "source": [
        "Modify now the `bob_gates` function based on the new corrections you have derived and show that now the state $|\\psi \\rangle = |1\\rangle$ has been indeed teleported to qubit 2. Please, run the visualization code several times and take some snapshots of the Bloch spheres for different outcomes of qubits $|q_0\\rangle$ and $|q_1\\rangle$. (2 points)"
      ]
    },
    {
      "cell_type": "code",
      "execution_count": null,
      "metadata": {
        "id": "hO1xGV5j-R5J"
      },
      "outputs": [],
      "source": [
        "def init_state(qc, a):  \n",
        "    #initialize the qubit to be sent to state B\n",
        "    #### your code goes here \n",
        "    \n",
        "    \n",
        "    qc.barrier()"
      ]
    },
    {
      "cell_type": "code",
      "execution_count": null,
      "metadata": {
        "id": "1JAtrYJc-R5J"
      },
      "outputs": [],
      "source": [
        "def create_bell_pair(qc, a, b):\n",
        "    \"\"\"Creates a bell pair in qc using qubits a & b\"\"\"\n",
        "    #### your code goes here \n",
        "    \n",
        "    \n"
      ]
    },
    {
      "cell_type": "code",
      "execution_count": null,
      "metadata": {
        "id": "H5BUD3LF-R5J"
      },
      "outputs": [],
      "source": [
        "def alice_gates(qc, psi, a):\n",
        "    #### your code goes here \n",
        "    \n",
        "    \n",
        "    "
      ]
    },
    {
      "cell_type": "code",
      "execution_count": null,
      "metadata": {
        "id": "stq_CojJ-R5J"
      },
      "outputs": [],
      "source": [
        "def measure_and_send(qc, a, b):\n",
        "    \"\"\"Measures qubits a & b and 'sends' the results to Bob\"\"\"\n",
        "    qc.barrier()\n",
        "    #### your code goes here \n",
        "    \n",
        "    \n",
        "    "
      ]
    },
    {
      "cell_type": "code",
      "execution_count": null,
      "metadata": {
        "id": "R_3KAToI-R5J"
      },
      "outputs": [],
      "source": [
        "# This function takes a QuantumCircuit (qc), integer (qubit)\n",
        "# and ClassicalRegisters (crz & crx) to decide which gates to apply\n",
        "def bob_gates(qc, qubit, crz, crx):\n",
        "    # Here we use c_if to control our gates with a classical\n",
        "    # bit instead of a qubit\n",
        "    \n",
        "    #### your code goes here \n",
        "    \n",
        "   \n",
        "    "
      ]
    },
    {
      "cell_type": "code",
      "execution_count": null,
      "metadata": {
        "id": "wkNk3Zaw-R5J"
      },
      "outputs": [],
      "source": [
        "## SETUP\n",
        "# Protocol uses 3 qubits and 2 classical bits in 2 different registers\n",
        "qr = QuantumRegister(3, name=\"q\")\n",
        "crz, crx = ClassicalRegister(1, name=\"crz\"), ClassicalRegister(1, name=\"crx\")\n",
        "teleportation_circuit = QuantumCircuit(qr, crz, crx)\n",
        "\n",
        "## STEP 1\n",
        "#### your code goes here \n",
        "\n",
        "\n",
        "## STEP 2\n",
        "#### your code goes here \n",
        "\n",
        "\n",
        "## STEP 3 & 4\n",
        "teleportation_circuit.barrier() # Use barrier to separate steps\n",
        "#### your code goes here \n",
        "\n",
        "\n",
        "## STEP 5\n",
        "teleportation_circuit.barrier() # Use barrier to separate steps\n",
        "#### your code goes here \n",
        "\n",
        "\n",
        "teleportation_circuit.draw()\n",
        "\n",
        "\n"
      ]
    },
    {
      "cell_type": "code",
      "execution_count": null,
      "metadata": {
        "id": "zO46uEBp-R5J"
      },
      "outputs": [],
      "source": [
        "sv_sim = Aer.get_backend('statevector_simulator')\n",
        "qobj = assemble(teleportation_circuit)\n",
        "out_vector = sv_sim.run(teleportation_circuit).result().get_statevector()\n",
        "plot_bloch_multivector(out_vector)"
      ]
    }
  ],
  "metadata": {
    "kernelspec": {
      "display_name": "Python 3",
      "language": "python",
      "name": "python3"
    },
    "language_info": {
      "codemirror_mode": {
        "name": "ipython",
        "version": 3
      },
      "file_extension": ".py",
      "mimetype": "text/x-python",
      "name": "python",
      "nbconvert_exporter": "python",
      "pygments_lexer": "ipython3",
      "version": "3.9.10"
    },
    "colab": {
      "provenance": []
    }
  },
  "nbformat": 4,
  "nbformat_minor": 0
}