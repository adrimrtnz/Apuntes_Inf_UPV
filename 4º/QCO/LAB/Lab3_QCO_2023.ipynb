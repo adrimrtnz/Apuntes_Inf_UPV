{
  "cells": [
    {
      "cell_type": "markdown",
      "metadata": {
        "tags": [
          "remove_cell"
        ],
        "id": "J537ijMApF8M"
      },
      "source": [
        "# Laboratory practice 3 (2 sessions)\n",
        "\n"
      ]
    },
    {
      "cell_type": "markdown",
      "metadata": {
        "id": "0KtopX4YpF8N"
      },
      "source": [
        "<h3 style=\"font-size: 20px\"> Important notes: </h3>\n",
        "\n"
      ]
    },
    {
      "cell_type": "markdown",
      "metadata": {
        "id": "6U0CG9NepF8N"
      },
      "source": [
        "- This .pynb file is ready for execution in a Google Colab (https://colab.research.google.com) environment. Just upload it and open it from a regular Colab session.\n",
        "\n",
        "- If you have any question about this lab, please send an email to Carmen G. Almudever (cargara2@disca.upv.es)\n",
        "\n",
        "- The answers of Lab 3 have to be sent by email to Carmen G. Almudever (cargara2@disca.upv.es) in case you do not attend the lab session or you do not manage to finish all exercises during the lab session. (Use the \"print\" menu option of the Google Colab environment to create a PDF file. Please name the file with your answers as “Lab3_student_name.pdf”)\n",
        "\n",
        "- **Note that the deadline for sending the answers of Lab 3 is March 29.**"
      ]
    },
    {
      "cell_type": "markdown",
      "metadata": {
        "id": "hF5CehHapF8N"
      },
      "source": [
        "## Measuring Qubits and Quantum Circuits\n",
        "\n",
        "Prerequisite \n",
        "- [Ch.1.3 Representing qubit states](http://web-sisop.disca.upv.es:8080/course/ch-states/representing-qubit-states)\n",
        "- [Ch.1.4 Single Qubit Gates](http://web-sisop.disca.upv.es:8080/course/ch-states/single-qubit-gates)\n",
        "- [Ch.2.2 Multiple Qubits and Entangled States](http://web-sisop.disca.upv.es:8080/course/ch-gates/multiple-qubits-and-entangled-states)\n",
        "\n",
        "\n",
        "Other relevant materials\n",
        "- [Feynman Lectures Ch. III - 12](https://www.feynmanlectures.caltech.edu/III_12.html)\n",
        "- [Quantum Operation](https://qiskit.org/documentation/tutorials/circuits/3_summary_of_quantum_operations.html)\n",
        "- [Quantum Circuits](https://qiskit.org/documentation/apidoc/circuit.html)  \n"
      ]
    },
    {
      "cell_type": "code",
      "source": [],
      "metadata": {
        "id": "uXlkl7Qgp_92"
      },
      "execution_count": null,
      "outputs": []
    },
    {
      "cell_type": "code",
      "source": [
        "# ALWAYS RUN THIS CELL AFTER YOU LOAD (OR RELOAD) THE NOTEBOOK\n",
        "\n",
        "# Generic cell for correct operation of QCO materials in Google Colab (jcperez@disca.upv.es):\n",
        "!pip -qqq install qiskit[visualization]\n",
        "import qiskit\n",
        "%matplotlib inline\n",
        "qiskit.__version__\n",
        "\n",
        "# Not always necessary (jcperez@disca.upv.es):\n",
        "!pip -qqq install git+https://github.com/qiskit-community/qiskit-textbook.git#subdirectory=qiskit-textbook-src\n",
        "\n",
        "# To fix a bug/version incompatibility in that file (jcperez@disca.upv.es):\n",
        "!sed -ie 's/denominator >/denominator() >/g' /usr/local/lib/python3.8/dist-packages/qiskit/visualization/array.py\n",
        "\n",
        "# To set graphical circuit drawing by default in qiskit (jcperez@disca.upv.es):\n",
        "!mkdir ${HOME}/.qiskit 2>/dev/null\n",
        "!printf \"[default]\\ncircuit_drawer = mpl\\n\" > ${HOME}/.qiskit/settings.conf"
      ],
      "metadata": {
        "id": "dAa9wrPXrHdX"
      },
      "execution_count": null,
      "outputs": []
    },
    {
      "cell_type": "code",
      "execution_count": null,
      "metadata": {
        "id": "5l8DAc0epF8O"
      },
      "outputs": [],
      "source": [
        "#!pip install numexpr\n",
        "#!pip install pylatexenc\n",
        "\n",
        "from qiskit import *\n",
        "from qiskit.visualization import plot_histogram\n",
        "from qiskit import QuantumCircuit, execute, Aer\n",
        "from math import sqrt, pi\n",
        "import numpy as np"
      ]
    },
    {
      "cell_type": "markdown",
      "metadata": {
        "id": "HORVNsR1pF8O"
      },
      "source": [
        "<h2 style=\"font-size:24px;\">Part 1: Measuring the state of a qubit</h2>\n",
        "\n",
        "<br>\n",
        "<div style=\"background: #E8E7EB; border-radius: 5px;\n",
        "-moz-border-radius: 5px;\">\n",
        "  <p style=\"background: #800080;\n",
        "            border-radius: 5px 5px 0px 0px;\n",
        "            padding: 10px 0px 10px 10px;\n",
        "            font-size:18px;\n",
        "            color:white;\n",
        "            \"><b>Goal</b></p>\n",
        "    <p style=\" padding: 0px 0px 10px 10px;\n",
        "              font-size:16px;\">Understand how measurements work in quantum computing. To this purspose, you will have to calculate by hand what the output measurement probabilities are for different quantum states and verify them by writting the corresponding circuit in QisKit.</p>\n",
        "</div>\n"
      ]
    },
    {
      "cell_type": "markdown",
      "metadata": {
        "id": "o8NAW4VUpF8O"
      },
      "source": [
        "<h3 style=\"font-size: 20px\"> 1. Calculate the measurement probabilities of single qubit states. </h3>\n",
        "\n"
      ]
    },
    {
      "cell_type": "markdown",
      "metadata": {
        "id": "8MZufeP-pF8P"
      },
      "source": [
        "As we have seen during the lectures, by using the state vector simulator of Qiskit we can view the state of a qubit. However, in real devices this is not possible. When a qubit is measured what get is a binary value `0` or `1`. That is, we cannot read out the state superposition and obtain the $\\alpha$ and $\\beta$ values. \n",
        "\n",
        "&#128211;To have a bit more practice on what happens when a qubit is measured, let's calculate by hand the measurement probabilities of obtaining measurement result 0 and 1 for the quantum states shown below knowing that to find the probability of measuring a state $|\\psi \\rangle$ in the state $|x\\rangle$ we do (1 point):\n",
        "\n",
        "$$p(|x\\rangle) = | \\langle x| \\psi \\rangle|^2$$\n",
        "\n",
        "$$\n",
        "\\begin{aligned}\n",
        "1. |\\psi_{A} \\rangle & = |0\\rangle \\\\\n",
        "2. |\\psi_{B} \\rangle & = |1\\rangle \\\\\n",
        "3. |\\psi_{C} \\rangle & = \\tfrac{1}{2}|0\\rangle + \\tfrac{\\sqrt{3}}{2}|1\\rangle \\\\\n",
        "4. |\\psi_{D} \\rangle & = \\tfrac{1}{2}|0\\rangle + \\tfrac{i\\sqrt{3}}{2}|1\\rangle \n",
        "\\end{aligned}\n",
        "$$\n"
      ]
    },
    {
      "cell_type": "markdown",
      "metadata": {
        "id": "8K7MZD8MpF8P"
      },
      "source": [
        "**Your answer:**"
      ]
    },
    {
      "cell_type": "markdown",
      "metadata": {
        "id": "-UGOODIIpF8P"
      },
      "source": [
        "&#128211;Are the measurement probabilities for $|\\psi_{C} \\rangle $ and $ |\\psi_{D} \\rangle$ the same? If so, explain why as the quantum states are different (0,5 points). "
      ]
    },
    {
      "cell_type": "markdown",
      "metadata": {
        "id": "Ku5JstgUpF8P"
      },
      "source": [
        "**Your answer:**"
      ]
    },
    {
      "cell_type": "markdown",
      "source": [],
      "metadata": {
        "id": "kDBgoRnj35K7"
      }
    },
    {
      "cell_type": "markdown",
      "metadata": {
        "id": "eSqsWVGfpF8P"
      },
      "source": [
        "<h4 style=\"font-size: 17px\">&#128211;1.1. Measuring a single qubit with Qiskit.</h4>\n",
        "\n",
        "We will now verify the measurement probabilities previously obtained using Qiskit. To do so, you will have to initialize a qubit to each of the quantum states (first $|\\psi_{A} \\rangle = |0\\rangle$, then $|\\psi_{B} \\rangle  = |1\\rangle$, etc.) and show their outcome probabilites. You can use the function `initialize`.\n",
        "To learn how to use it, check [here](https://qiskit.org/documentation/tutorials/circuits/3_summary_of_quantum_operations.html). ( go to the `arbitrary initialization` section. ) (1 point)"
      ]
    },
    {
      "cell_type": "code",
      "execution_count": null,
      "metadata": {
        "id": "LK7yNepQpF8P"
      },
      "outputs": [],
      "source": [
        "qc = QuantumCircuit(1) # Create a quantum circuit with one qubit\n",
        "\n",
        "#### your code goes here\n",
        "\n",
        "\n",
        "# Let's view our circuit\n",
        "qc.draw()"
      ]
    },
    {
      "cell_type": "markdown",
      "metadata": {
        "id": "li3BF-ClpF8P"
      },
      "source": [
        "We can then use the Qiskit's statevector simulator to view the resulting state of our qubit. "
      ]
    },
    {
      "cell_type": "code",
      "execution_count": null,
      "metadata": {
        "id": "rpyLRgaVpF8P"
      },
      "outputs": [],
      "source": [
        "backend = Aer.get_backend('statevector_simulator') # Tell Qiskit how to simulate our circuit\n",
        "# Let's display the output state vector\n",
        "result = execute(qc,backend).result() # Do the simulation, returning the result\n",
        "out_state = result.get_statevector()\n",
        "print(out_state) # Display the output state vector"
      ]
    },
    {
      "cell_type": "markdown",
      "metadata": {
        "id": "CaalzKkrpF8Q"
      },
      "source": [
        "This time, instead of the statevector we will get the counts for the `0` and `1` results using `.get_counts()`:\n",
        "\n",
        "Note that as you are not measuring the qubits you should view the same probabilities as you have calculated by hand."
      ]
    },
    {
      "cell_type": "code",
      "execution_count": null,
      "metadata": {
        "id": "5GiT_xuzpF8Q"
      },
      "outputs": [],
      "source": [
        "results = execute(qc,backend).result().get_counts()\n",
        "plot_histogram(results)\n"
      ]
    },
    {
      "cell_type": "markdown",
      "metadata": {
        "id": "61jWOxCQpF8Q"
      },
      "source": [
        "Let’s now measure our qubit as we would in a real quantum computer and see the result:"
      ]
    },
    {
      "cell_type": "code",
      "execution_count": null,
      "metadata": {
        "id": "sVPlhI9DpF8Q"
      },
      "outputs": [],
      "source": [
        "backend = Aer.get_backend('statevector_simulator') # Tell Qiskit how to simulate our circuit\n",
        "qc.measure_all()\n",
        "qc.draw()"
      ]
    },
    {
      "cell_type": "markdown",
      "metadata": {
        "id": "GWCL3CzypF8Q"
      },
      "source": [
        "&#128211;Execute the code below several times (for each of the quantum states) and describe what you observe when looking at the output state (x axis) and why you observe that. Please, run it 10 times at least. (0,5 points)\n",
        "\n",
        "Note that executing the code below several times means that we are running the circuit shown above several times in which the qubit is initilized to a specific quantum state and measured."
      ]
    },
    {
      "cell_type": "markdown",
      "metadata": {
        "id": "AJwktRILpF8Q"
      },
      "source": [
        "**Your answer:**"
      ]
    },
    {
      "cell_type": "code",
      "execution_count": null,
      "metadata": {
        "id": "ZOQ44w-1pF8Q"
      },
      "outputs": [],
      "source": [
        "results = execute(qc,backend).result().get_counts()\n",
        "plot_histogram(results)\n"
      ]
    },
    {
      "cell_type": "markdown",
      "metadata": {
        "id": "W1zcS6GUpF8Q"
      },
      "source": [
        "<h4 style=\"font-size: 17px\">&#128211;1.2. Measuring a single qubit several times with Qiskit.</h4>\n",
        "\n",
        "In this section we will see what happens when multiple measurements are performed in a row on a single qubit."
      ]
    },
    {
      "cell_type": "markdown",
      "metadata": {
        "id": "OMvhj4JXpF8Q"
      },
      "source": [
        "First, you will have to initialise your qubit to a random quantum state in superposition. \n",
        "\n",
        "You can directly introduce the quantum state as we did before (please, use a different one) or you can use the `arbitrary initialization` function of Qiskit.  To learn how to use the function `initialize`, check [here](https://qiskit.org/documentation/tutorials/circuits/3_summary_of_quantum_operations.html). ( go to the `arbitrary initialization` section. )"
      ]
    },
    {
      "cell_type": "code",
      "execution_count": null,
      "metadata": {
        "id": "SQP6LjvVpF8Q"
      },
      "outputs": [],
      "source": [
        "qc = QuantumCircuit(1)  # Create a quantum circuit with one qubit\n",
        "#### your code goes here\n",
        "\n",
        "\n",
        "\n",
        "\n",
        "# Let's display the output state vector\n",
        "result = execute(qc,backend).result() # Do the simulation, returning the result\n",
        "out_state = result.get_statevector()\n",
        "print(out_state) # Display the output state vector"
      ]
    },
    {
      "cell_type": "markdown",
      "metadata": {
        "id": "cZi31RRQpF8Q"
      },
      "source": [
        "As we did in the previous section, let’s now measure our qubit as we would do in a real quantum computer and see the result:"
      ]
    },
    {
      "cell_type": "code",
      "execution_count": null,
      "metadata": {
        "id": "4cYp0sXXpF8R"
      },
      "outputs": [],
      "source": [
        "backend = Aer.get_backend('statevector_simulator') # Tell Qiskit how to simulate our circuit\n",
        "qc.measure_all()\n",
        "qc.draw()"
      ]
    },
    {
      "cell_type": "markdown",
      "metadata": {
        "id": "b4rEIdqipF8R"
      },
      "source": [
        "If you execute the code shown below several times you should observe a similar behaviour as for qubits $ |\\psi_{C} \\rangle$ and $ |\\psi_{D} \\rangle$ of the previous section."
      ]
    },
    {
      "cell_type": "code",
      "execution_count": null,
      "metadata": {
        "id": "jQE2b8JbpF8R"
      },
      "outputs": [],
      "source": [
        "results = execute(qc,backend).result().get_counts()\n",
        "plot_histogram(results)\n",
        "\n"
      ]
    },
    {
      "cell_type": "markdown",
      "metadata": {
        "id": "VlIRVg4GpF8R"
      },
      "source": [
        "Now we will initialise our qubit again to a superposition state and measure it **3 consecutive times**:"
      ]
    },
    {
      "cell_type": "code",
      "execution_count": null,
      "metadata": {
        "id": "oipJ3SxHpF8R"
      },
      "outputs": [],
      "source": [
        "qc = QuantumCircuit(1)  # Create a quantum circuit with one qubit\n",
        "#### your code goes here\n",
        "\n",
        "\n",
        "\n",
        "\n",
        "# Let's display the output state vector\n",
        "result = execute(qc,backend).result() # Do the simulation, returning the result\n",
        "out_state = result.get_statevector()\n",
        "print(out_state) # Display the output state vector"
      ]
    },
    {
      "cell_type": "markdown",
      "metadata": {
        "id": "ZAH6ClMqpF8R"
      },
      "source": [
        "To measure the qubit three consecutive times execute the cell below three times (you should see three measurements in a row):"
      ]
    },
    {
      "cell_type": "code",
      "execution_count": null,
      "metadata": {
        "id": "iSlb4l36pF8R"
      },
      "outputs": [],
      "source": [
        "backend = Aer.get_backend('statevector_simulator') # Tell Qiskit how to simulate our circuit\n",
        "qc.measure_all()\n",
        "qc.draw()"
      ]
    },
    {
      "cell_type": "markdown",
      "metadata": {
        "id": "ziiOuOhvpF8R"
      },
      "source": [
        "&#128211;If you run the code below several times, you will observe that sometimes the output is `000` and others `111`.\n",
        "\n",
        "Why if the first measurement result is `0`(`1`) the other two measurement results are also `0`(`1`)? (1 point)"
      ]
    },
    {
      "cell_type": "markdown",
      "metadata": {
        "id": "Xv5Zp2hRpF8R"
      },
      "source": [
        "**Your answer:**"
      ]
    },
    {
      "cell_type": "code",
      "execution_count": null,
      "metadata": {
        "id": "IlVHZnRcpF8R"
      },
      "outputs": [],
      "source": [
        "results = execute(qc,backend).result().get_counts()\n",
        "plot_histogram(results)\n"
      ]
    },
    {
      "cell_type": "markdown",
      "metadata": {
        "id": "lJyfXjKSpF8R"
      },
      "source": [
        "<h3 style=\"font-size: 20px\"> 2. Calculate the measurement probabilities of multiple qubit states. </h3>\n",
        "\n"
      ]
    },
    {
      "cell_type": "markdown",
      "metadata": {
        "id": "_Gu4IUSRpF8R"
      },
      "source": [
        "In this second part we will continue looking at the measurement but for multiple qubit states. \n",
        "\n",
        "&#128211;Calculate by hand the measurement probabilities for the following quantum states ( remember that $p(|x\\rangle) = | \\langle x| \\psi \\rangle|^2$) (1,25 points)\n",
        "\n",
        "$$\n",
        "\\begin{aligned}\n",
        "1. |\\psi_{A} \\rangle & = |00\\rangle \\\\\n",
        "2. |\\psi_{B} \\rangle & = |11\\rangle \\\\\n",
        "3. |\\psi_{C} \\rangle & = \\tfrac{1}{\\sqrt{2}}|00\\rangle + \\tfrac{1}{\\sqrt{2}}|11\\rangle \\\\\n",
        "4. |\\psi_{D} \\rangle & = \\tfrac{1}{\\sqrt{2}}|10\\rangle + \\tfrac{1}{\\sqrt{2}}|11\\rangle \\\\\n",
        "5. |\\psi_{E} \\rangle & = \\tfrac{2}{\\sqrt{8}}|000\\rangle + \\tfrac{2}{\\sqrt{8}}|011\\rangle \n",
        "\\end{aligned}\n",
        "$$\n",
        "\n",
        "\n"
      ]
    },
    {
      "cell_type": "markdown",
      "metadata": {
        "id": "l8YlVS-kpF8R"
      },
      "source": [
        "**Your answer:**"
      ]
    },
    {
      "cell_type": "markdown",
      "metadata": {
        "id": "HBH64lM_pF8R"
      },
      "source": [
        "<h4 style=\"font-size: 17px\">&#128211;2.1. Create the qubit state $|\\psi_{C} \\rangle$ using the circuit method.</h4>\n",
        "\n",
        "As you may have realised the qubit state $|\\psi_{C} \\rangle$ is one of the so-called Bell pairs. Write the corresponding circuit to create it. (0,5 points)"
      ]
    },
    {
      "cell_type": "code",
      "execution_count": null,
      "metadata": {
        "id": "UdnCqm-9pF8S"
      },
      "outputs": [],
      "source": [
        "qc = QuantumCircuit(2)\n",
        "#### your code goes here\n",
        "\n",
        "\n",
        "\n",
        "\n",
        "qc.draw()\n",
        "\n",
        "\n"
      ]
    },
    {
      "cell_type": "markdown",
      "metadata": {
        "id": "JlJMyXJUpF8S"
      },
      "source": [
        "As we did before we can use the Qiskit's statevector simulator to view the resulting state of our qubit. "
      ]
    },
    {
      "cell_type": "code",
      "execution_count": null,
      "metadata": {
        "id": "cZFldaD-pF8S"
      },
      "outputs": [],
      "source": [
        "backend = Aer.get_backend('statevector_simulator') # Tell Qiskit how to simulate our circuit\n",
        "# Let's display the output state vector\n",
        "result = execute(qc,backend).result() # Do the simulation, returning the result\n",
        "out_state = result.get_statevector()\n",
        "print(out_state) # Display the output state vector"
      ]
    },
    {
      "cell_type": "markdown",
      "metadata": {
        "id": "x4DaXofkpF8S"
      },
      "source": [
        "And get the counts for the `00` and `11` results using `.get_counts()`:\n",
        "\n",
        "Note that as you are not measuring the qubits you should view the same probabilities as you have calculated by hand."
      ]
    },
    {
      "cell_type": "code",
      "execution_count": null,
      "metadata": {
        "id": "HbSWHi36pF8S"
      },
      "outputs": [],
      "source": [
        "results = execute(qc,backend).result().get_counts()\n",
        "plot_histogram(results)\n"
      ]
    },
    {
      "cell_type": "markdown",
      "metadata": {
        "id": "tgvj8veCpF8S"
      },
      "source": [
        "&#128211;If we measure q1 and the result is `1`. What will be the result of measuring q0 (after measuring q1)? (0,5 points)\n",
        "\n",
        "&#128211;If we now repeat the same measurement experiment for $|\\psi_{D} \\rangle = \\tfrac{1}{\\sqrt{2}}|10\\rangle + \\tfrac{1}{\\sqrt{2}}|11\\rangle$. What will be the result of measuring q0 if we have previouly measure q1 and have got a `1`? (0,5 points)\n",
        "\n",
        "&#128211;Is any of those states  $|\\psi_{C} \\rangle$ and  $|\\psi_{D} \\rangle$ an entangled state? Prove that by trying to write them as two separate qubit states. (0,5 points)"
      ]
    },
    {
      "cell_type": "markdown",
      "metadata": {
        "id": "0bRZsLokpF8S"
      },
      "source": [
        "**Your answer:**"
      ]
    },
    {
      "cell_type": "markdown",
      "metadata": {
        "id": "2_6JIATtpF8S"
      },
      "source": [
        "<h2 style=\"font-size:24px;\">Part 2: Creating equivalent quantum circuits</h2>\n",
        "\n",
        "<br>\n",
        "<div style=\"background: #E8E7EB; border-radius: 5px;\n",
        "-moz-border-radius: 5px;\">\n",
        "  <p style=\"background: #800080;\n",
        "            border-radius: 5px 5px 0px 0px;\n",
        "            padding: 10px 0px 10px 10px;\n",
        "            font-size:18px;\n",
        "            color:white;\n",
        "            \"><b>Goal</b></p>\n",
        "    <p style=\" padding: 0px 0px 10px 10px;\n",
        "              font-size:16px;\">Create quantum gates from other quantum gates and calculate the output state.</p>\n",
        "</div>\n",
        "\n"
      ]
    },
    {
      "cell_type": "markdown",
      "metadata": {
        "id": "qOi8B3_7pF8S"
      },
      "source": [
        "<h3 style=\"font-size: 20px\">&#128211; 1.Checking gate equivalences. </h3>\n",
        "\n"
      ]
    },
    {
      "cell_type": "markdown",
      "metadata": {
        "id": "o9QuBaCOpF8S"
      },
      "source": [
        "We know that the Hadamard transforms the states $|0\\rangle$ and $|1\\rangle$ to the states $|+\\rangle$ and $|-\\rangle$ respectively. We also know that the effect of the $Z$ gate on the states $|+\\rangle$ and $|-\\rangle$ is the same as that for $X$ on the state $|0\\rangle$ and $|1\\rangle$. From this reasoning, we find that\n",
        "\n",
        "$$\n",
        "H X H = Z,\\\\\\\\\n",
        "H Z H = X.\n",
        "$$\n",
        "\n",
        "&#128211;Prove these expressions by multiplying their corresponding matrices. (0,5 points)\n",
        "    \n",
        "    \n",
        "**Your answer:**\n",
        "    \n",
        "\n",
        "&#128211; Calculate the following expressions: (0,5 points)\n",
        "\n",
        "$$\n",
        "H X H |1\\rangle = \\\\\\\\\n",
        "H Z H |1\\rangle =\n",
        "$$\n",
        "\n",
        "\n",
        "\n"
      ]
    },
    {
      "cell_type": "markdown",
      "metadata": {
        "id": "1P1yLk2qpF8S"
      },
      "source": [
        "**Your answer:**"
      ]
    },
    {
      "cell_type": "markdown",
      "metadata": {
        "id": "kKepE4-LpF8S"
      },
      "source": [
        "<h4 style=\"font-size: 17px\">&#128211;1.1. Create the HXH and HZH quantum circuits.</h4>\n",
        "\n"
      ]
    },
    {
      "cell_type": "markdown",
      "metadata": {
        "id": "kPNipEexpF8S"
      },
      "source": [
        "\n",
        "\n",
        "Let's create the quantum circuits HXH and HZH and check that indeed they are equivalent to a Z and a X, respectively. Initialize the qubit to state $|1\\rangle$. (0,5 points)"
      ]
    },
    {
      "cell_type": "code",
      "execution_count": null,
      "metadata": {
        "id": "aLp6w_WypF8S"
      },
      "outputs": [],
      "source": [
        "qc = QuantumCircuit(1)\n",
        "#### your code goes here\n",
        "\n",
        "\n",
        "\n",
        "\n",
        "qc.draw()\n",
        "\n",
        "\n"
      ]
    },
    {
      "cell_type": "code",
      "execution_count": null,
      "metadata": {
        "id": "crQQXctspF8T"
      },
      "outputs": [],
      "source": [
        "backend = Aer.get_backend('statevector_simulator') # Tell Qiskit how to simulate our circuit\n",
        "# Let's display the output state vector\n",
        "result = execute(qc,backend).result() # Do the simulation, returning the result\n",
        "out_state = result.get_statevector()\n",
        "print(out_state) # Display the output state vector"
      ]
    },
    {
      "cell_type": "markdown",
      "metadata": {
        "id": "_UmcfQempF8T"
      },
      "source": [
        "<h4 style=\"font-size: 17px\">&#128211;1.2. Making a CZ from a CNOT.</h4>\n",
        "\n"
      ]
    },
    {
      "cell_type": "markdown",
      "metadata": {
        "id": "PuqWXeNSpF8T"
      },
      "source": [
        "\n",
        "&#128211;Similarly to a CNOT or Controlled-X there is a gate called Controlled-Z (also known as CZ or CPHASE) that performs a Z gate on the target qubit if the control qubit is $|1\\rangle$. \n",
        "Write the quantum circuit that performs a CZ gate on two qubits. Both qubits (q0 and q1) should be initialized to state $|1\\rangle$. (0,25 points)   "
      ]
    },
    {
      "cell_type": "code",
      "execution_count": null,
      "metadata": {
        "id": "MjeJuvP_pF8T"
      },
      "outputs": [],
      "source": [
        "qc = QuantumCircuit(2)\n",
        "\n",
        "#### your code goes here\n",
        "\n",
        "\n",
        "\n",
        "qc.draw()\n",
        "\n",
        "\n"
      ]
    },
    {
      "cell_type": "markdown",
      "metadata": {
        "id": "q1y5a5o9pF8T"
      },
      "source": [
        "\n",
        "Let's visualize the resulting quantum state.   "
      ]
    },
    {
      "cell_type": "code",
      "execution_count": null,
      "metadata": {
        "id": "ZebEuJpJpF8T"
      },
      "outputs": [],
      "source": [
        "backend = Aer.get_backend('statevector_simulator') # Tell Qiskit how to simulate our circuit\n",
        "# Let's display the output state vector\n",
        "result = execute(qc,backend).result() # Do the simulation, returning the result\n",
        "out_state = result.get_statevector()\n",
        "print(out_state) # Display the output state vector"
      ]
    },
    {
      "cell_type": "markdown",
      "metadata": {
        "id": "CGRgYL0GpF8T"
      },
      "source": [
        "\n",
        "&#128211;Create now a Controlled-Z gate using a CNOT gate and the gate equivalences we just saw in section 1.1. (1 point)"
      ]
    },
    {
      "cell_type": "code",
      "execution_count": null,
      "metadata": {
        "id": "bM3VjoFBpF8T"
      },
      "outputs": [],
      "source": [
        "qc = QuantumCircuit(2)\n",
        "\n",
        "#### your code goes here\n",
        "\n",
        "\n",
        "\n",
        "\n",
        "\n",
        "\n",
        "qc.draw()\n",
        "\n",
        "\n"
      ]
    },
    {
      "cell_type": "markdown",
      "metadata": {
        "id": "zG7ICd-LpF8T"
      },
      "source": [
        "\n",
        "Let's visualize the resulting quantum state:   "
      ]
    },
    {
      "cell_type": "code",
      "execution_count": null,
      "metadata": {
        "id": "4gYgKC6QpF8T"
      },
      "outputs": [],
      "source": [
        "backend = Aer.get_backend('statevector_simulator') # Tell Qiskit how to simulate our circuit\n",
        "# Let's display the output state vector\n",
        "result = execute(qc,backend).result() # Do the simulation, returning the result\n",
        "out_state = result.get_statevector()\n",
        "print(out_state) # Display the output state vector"
      ]
    },
    {
      "cell_type": "markdown",
      "metadata": {
        "id": "sVVBvnGSpF8T"
      },
      "source": [
        "<h2 style=\"font-size:24px;\">Part 3: Creating and analysing more complex quantum circuits</h2>\n",
        "\n",
        "<br>\n",
        "<div style=\"background: #E8E7EB; border-radius: 5px;\n",
        "-moz-border-radius: 5px;\">\n",
        "  <p style=\"background: #800080;\n",
        "            border-radius: 5px 5px 0px 0px;\n",
        "            padding: 10px 0px 10px 10px;\n",
        "            font-size:18px;\n",
        "            color:white;\n",
        "            \"><b>Goal</b></p>\n",
        "    <p style=\" padding: 0px 0px 10px 10px;\n",
        "              font-size:16px;\">Calculate the output state of a given quantum circuit and build a quantum plain adder.</p>\n",
        "</div>\n",
        "\n",
        "\n",
        "\n",
        "\n"
      ]
    },
    {
      "cell_type": "markdown",
      "metadata": {
        "id": "DD-3DMHgpF8T"
      },
      "source": [
        "<h3 style=\"font-size: 20px\">&#128211; 1.Calculating the output state of a quantum circuit. </h3>\n",
        "\n"
      ]
    },
    {
      "cell_type": "markdown",
      "metadata": {
        "id": "y5JmNrFTpF8T"
      },
      "source": [
        "In this exercise, we'll put all pieces together and we will calculate by hand and using the QisKit simulator the output state of a quantum circuit consisting of several qubits and gates.\n",
        "\n",
        "&#128211;Given the following circuit, calculate by hand the output state $|q_2q_1q_0\\rangle$. Note that the circle with a + symbol inside is equivalent to a X gate. (2 points)\n",
        "\n",
        "**Tip:** The output state can be calculated by doing the matrix-vector multiplication ($|\\psi_{out}\\rangle$ =U$|\\psi_{in}\\rangle$) or by directly applying the gate transformations to the qubits (e.g. H$|0\\rangle$ = $|+\\rangle$ )\n",
        "\n",
        "![image.png](data:image/png;base64,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)\n"
      ]
    },
    {
      "cell_type": "markdown",
      "metadata": {
        "id": "4uP683VQpF8T"
      },
      "source": [
        "**Your answer:**"
      ]
    },
    {
      "cell_type": "markdown",
      "metadata": {
        "id": "zKeKyeCipF8T"
      },
      "source": [
        "&#128211; Write the code for the quantum circuit above and get the output state by using the state vector simulator of QisKit. (1 point)"
      ]
    },
    {
      "cell_type": "code",
      "execution_count": null,
      "metadata": {
        "id": "VFDKSTNdpF8T"
      },
      "outputs": [],
      "source": [
        "qc = QuantumCircuit(3)\n",
        "\n",
        "#### your code goes here\n",
        "\n",
        "\n",
        "\n",
        "\n",
        "qc.draw()\n",
        "\n",
        "\n"
      ]
    },
    {
      "cell_type": "code",
      "execution_count": null,
      "metadata": {
        "id": "owK17cj6pF8U"
      },
      "outputs": [],
      "source": [
        "backend = Aer.get_backend('statevector_simulator') # Tell Qiskit how to simulate our circuit\n",
        "# Let's display the output state vector\n",
        "result = execute(qc,backend).result() # Do the simulation, returning the result\n",
        "out_state = result.get_statevector()\n",
        "print(out_state) # Display the output state vector"
      ]
    },
    {
      "cell_type": "markdown",
      "metadata": {
        "id": "qRjPNslipF8U"
      },
      "source": [
        "<h3 style=\"font-size: 20px\">&#128211; 2.Creating a quantum plain adder </h3>\n",
        "\n"
      ]
    },
    {
      "cell_type": "markdown",
      "metadata": {
        "id": "K74T0_gCpF8U"
      },
      "source": [
        "In Lab 1, we made our own half adder. In this exercise, we will create a quantum circuit which implements the classical addition of two-bit numbers. The quantum circuit can be implemented as a network of “Sum” and “Carry” blocks. These two blocks can be built using CNOT and Toffoli gates. We provide the truth tables of the CNOT and the Toffoli gates below:\n",
        "\n",
        "![image.png](data:image/png;base64,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)\n",
        "\n"
      ]
    },
    {
      "cell_type": "markdown",
      "metadata": {
        "id": "SNV4CTdopF8U"
      },
      "source": [
        "<h4 style=\"font-size: 17px\">&#128211;2.1. The \"Sum\" circuit.</h4>\n",
        "\n"
      ]
    },
    {
      "cell_type": "markdown",
      "metadata": {
        "id": "WudRugWmpF8U"
      },
      "source": [
        "\n",
        " &#128211; Use CNOT gates to implement the “Sum” block which sums two bits A0 and B0 (XOR addition) and stores the result in a third bit S0. In this case, we will initialize A0 to $|0\\rangle$ and B0 to $|1\\rangle$. Display the output quantum state by using the state vector simulator of QisKit. Display also the measurement result when measuring q2 (output S0). (1 point)\n",
        "    \n",
        "![image.png](data:image/png;base64,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)"
      ]
    },
    {
      "cell_type": "code",
      "execution_count": null,
      "metadata": {
        "id": "jVlY9kkGpF8U"
      },
      "outputs": [],
      "source": [
        "# this is where your program for the SUM circuit goes\n",
        "qc = QuantumCircuit(3,1) \n",
        "\n",
        "             \n",
        "             \n",
        "#initialization of qubits   \n",
        "\n",
        "\n",
        "# barrier between input state and gate operation \n",
        "qc.barrier()\n",
        "    \n",
        "             \n",
        "#gates that perfrom the addition          \n",
        "\n",
        "    \n",
        "\n",
        "display(qc.draw())    \n",
        "  \n",
        "backend = Aer.get_backend('statevector_simulator') # Tell Qiskit how to simulate our circuit\n",
        "# Let's display the output state vector\n",
        "result = execute(qc,backend).result() # Do the simulation, returning the result\n",
        "out_state = result.get_statevector()\n",
        "print(out_state) # Display the output state vector\n",
        "\n",
        " "
      ]
    },
    {
      "cell_type": "code",
      "execution_count": null,
      "metadata": {
        "id": "WZGdMXN-pF8U"
      },
      "outputs": [],
      "source": [
        "# Measuring q2 and displaying the result\n",
        "\n",
        "\n",
        "# We'll run the program on a simulator\n",
        "backend = Aer.get_backend('qasm_simulator')\n",
        "# Since the output will be deterministic, we can use just a single shot to get it\n",
        "job = execute(qc, backend, shots=1, memory=True)\n",
        "output = job.result().get_memory()[0]\n",
        "print(output)"
      ]
    },
    {
      "cell_type": "markdown",
      "metadata": {
        "id": "yvdgI0d7pF8U"
      },
      "source": [
        "<h4 style=\"font-size: 17px\">&#128211;2.2. The \"Carry\" circuit.</h4>\n",
        "\n"
      ]
    },
    {
      "cell_type": "markdown",
      "metadata": {
        "id": "dElBhVz4pF8U"
      },
      "source": [
        "\n",
        " &#128211; The “Carry” block uses 3 inputs which are: a carry-bit C0 from the previous stage and 2 operator bits, A0 and B0. The output is stored into a fourth bit: a carry-bit C1 which can then be used on the next stage. The circuit is given in the following diagram.\n",
        "    \n",
        "![image.png](data:image/png;base64,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)"
      ]
    },
    {
      "cell_type": "markdown",
      "metadata": {
        "id": "Sy5Rb7tXpF8U"
      },
      "source": [
        "\n",
        " &#128211; Use a CNOT and Toffoli gates to implement the carry block. In this case, initialize qubits C0, A0, B0 and C1 to the values $|0\\rangle$, $|1\\rangle$, $|1\\rangle$, $|0\\rangle$, respectively. (1 point)\n",
        "\n",
        "Display the output quantum state by using the state vector simulator of QisKit. Display also the measurement result when measuring q3 (output C1).\n"
      ]
    },
    {
      "cell_type": "code",
      "execution_count": null,
      "metadata": {
        "id": "QkoKgppdpF8U"
      },
      "outputs": [],
      "source": [
        "# this is where your program for the CARRY circuit goes\n",
        "  \n",
        "qc = QuantumCircuit(4,1) \n",
        "\n",
        "    \n",
        "#initialization of qubits   \n",
        "\n",
        "\n",
        "# barrier between input state and gate operation \n",
        "qc.barrier()\n",
        "    \n",
        "    \n",
        "# gates that perform the Carry \n",
        "\n",
        "\n",
        "display(qc.draw())    \n",
        "\n",
        "  \n",
        "backend = Aer.get_backend('statevector_simulator') # Tell Qiskit how to simulate our circuit\n",
        "# Let's display the output state vector\n",
        "result = execute(qc,backend).result() # Do the simulation, returning the result\n",
        "out_state = result.get_statevector()\n",
        "print(out_state) # Display the output state vector    \n",
        "    \n",
        "    "
      ]
    },
    {
      "cell_type": "code",
      "execution_count": null,
      "metadata": {
        "id": "jxhQVEo5pF8U"
      },
      "outputs": [],
      "source": [
        "# Measuring q3 and displaying the result\n",
        "\n",
        "\n",
        "qc.draw()\n",
        "\n",
        "# We'll run the program on a simulator\n",
        "backend = Aer.get_backend('qasm_simulator')\n",
        "# Since the output will be deterministic, we can use just a single shot to get it\n",
        "job = execute(qc, backend, shots=1, memory=True)\n",
        "output = job.result().get_memory()[0]\n",
        "print(output)"
      ]
    },
    {
      "cell_type": "markdown",
      "metadata": {
        "id": "yYDdI9iBpF8V"
      },
      "source": [
        "\n",
        " &#128211; Copy the previous circuit to create a new circuit “rcarry”. Modify the new circuit as following:\n",
        "    \n",
        "- Initialize the qubits C0,A0,B0,C1 to the state $|0\\rangle$, $|1\\rangle$, $|0\\rangle$, $|1\\rangle$, respectively.\n",
        "    \n",
        "- Reverse the order of the gates.\n",
        "\n",
        "Execute the circuit “rcarry” and observe its output state. What does the “rcarry” circuit\n",
        "implement? (1,5 points)\n"
      ]
    },
    {
      "cell_type": "code",
      "execution_count": null,
      "metadata": {
        "id": "jdNx5I0YpF8V"
      },
      "outputs": [],
      "source": [
        "# this is where your program for the RCARRY circuit goes\n",
        "  \n",
        "qc = QuantumCircuit(4) \n",
        "\n",
        "    \n",
        "#initialization of qubits   \n",
        "\n",
        "\n",
        "# barrier between input state and gate operation \n",
        "qc.barrier()\n",
        "    \n",
        "    \n",
        "# gates that perform the RCarry \n",
        "\n",
        "\n",
        "\n",
        "\n",
        "display(qc.draw())    \n",
        "\n",
        "  \n",
        "backend = Aer.get_backend('statevector_simulator') # Tell Qiskit how to simulate our circuit\n",
        "# Let's display the output state vector\n",
        "result = execute(qc,backend).result() # Do the simulation, returning the result\n",
        "out_state = result.get_statevector()\n",
        "print(out_state) # Display the output state vector    \n",
        "    "
      ]
    },
    {
      "cell_type": "markdown",
      "metadata": {
        "id": "O7zNpmmYpF8V"
      },
      "source": [
        "<h4 style=\"font-size: 17px\">&#128211;2.3. Plain 2-bits adder circuit.</h4>\n",
        "\n"
      ]
    },
    {
      "cell_type": "markdown",
      "metadata": {
        "id": "KcEhrLJtpF8V"
      },
      "source": [
        "\n",
        " &#128211; Now we will implement a quantum plain adder for addding two 2-bit numbers. To this purpose, we will use the two blocks implemented in sections 2.1 and 2.2 based on the following generic 4-bits adder diagram shown in the next figure. The circuit starts with a gate sequence that initializes the bits of the adder’s operators: A ($a_1a_0$) and B ($b_1b_0$). In this case, we initialize A to the binary value “10” and B to “01”. The “sum” and “carry” blocks should be implemented as many times as required. (2,5 points)\n",
        "\n",
        "Display the output quantum state by using the state vector simulator of QisKit. Display also the measurement result of the qubits that correspond to the addition output.\n",
        " \n",
        "\n",
        "\n",
        "    \n",
        "\n",
        "Notes:\n",
        "    \n",
        "- Measure the corresponding qubits at the end of the circuit to see the result of the addition.\n",
        "    \n",
        "- Note that both the carry/sum and the reverse carry (black part on the left of the block) are used in the plain adder. \n",
        "    \n",
        "- Finally, note that the CNOT gate between the bottom Carry and Sum blocks is required.\n",
        "\n"
      ]
    },
    {
      "cell_type": "markdown",
      "metadata": {
        "id": "ZP5AkLo7pF8V"
      },
      "source": [
        "![image.png](data:image/png;base64,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)"
      ]
    },
    {
      "cell_type": "code",
      "execution_count": null,
      "metadata": {
        "id": "EBYNnKXLpF8V"
      },
      "outputs": [],
      "source": [
        "## Your code goes here\n",
        "\n",
        "# This is where your program for the plain 2-bits adder circuit goes\n",
        "  \n",
        "qc = QuantumCircuit(7,2) \n",
        "qc.reset(range(7))\n",
        "\n",
        "## Initialise the operands\n",
        "\n",
        "\n",
        "\n",
        "\n",
        "qc.barrier()\n",
        "\n",
        "## carry, CNOT, Sum and rcarry blocks\n",
        "\n",
        "\n",
        "\n",
        "\n",
        "\n",
        "\n",
        "\n",
        "\n",
        "\n",
        "display(qc.draw())    \n",
        "  \n",
        "\n",
        "\n",
        "backend = Aer.get_backend('statevector_simulator') # Tell Qiskit how to simulate our circuit\n",
        "# Let's display the output state vector\n",
        "result = execute(qc,backend).result() # Do the simulation, returning the result\n",
        "out_state = result.get_statevector()\n",
        "print(out_state) # Display the output state vector \n",
        "\n"
      ]
    },
    {
      "cell_type": "code",
      "execution_count": null,
      "metadata": {
        "id": "Ih-7zXQfpF8V"
      },
      "outputs": [],
      "source": [
        "# Measuring qubits and displaying the result of the addition\n",
        "\n",
        "\n",
        "qc.draw()\n",
        "\n",
        "# We'll run the program on a simulator\n",
        "backend = Aer.get_backend('qasm_simulator')\n",
        "# Since the output will be deterministic, we can use just a single shot to get it\n",
        "job = execute(qc, backend, shots=1, memory=True)\n",
        "output = job.result().get_memory()[0]\n",
        "print(output)"
      ]
    },
    {
      "cell_type": "markdown",
      "metadata": {
        "id": "rWD9KDGIpF8V"
      },
      "source": [
        "\n",
        " &#128211; Why is a CNOT required between the last CARRY block and the first SUM block? And why is a reverse carry block needed? (1 point)\n",
        "\n",
        "\n"
      ]
    }
  ],
  "metadata": {
    "kernelspec": {
      "display_name": "Python 3",
      "language": "python",
      "name": "python3"
    },
    "language_info": {
      "codemirror_mode": {
        "name": "ipython",
        "version": 3
      },
      "file_extension": ".py",
      "mimetype": "text/x-python",
      "name": "python",
      "nbconvert_exporter": "python",
      "pygments_lexer": "ipython3",
      "version": "3.9.10"
    },
    "colab": {
      "provenance": []
    }
  },
  "nbformat": 4,
  "nbformat_minor": 0
}