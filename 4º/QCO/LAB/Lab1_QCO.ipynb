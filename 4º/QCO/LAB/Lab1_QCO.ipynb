{
  "cells": [
    {
      "cell_type": "markdown",
      "metadata": {
        "id": "DnyaBcJ5HOS_"
      },
      "source": [
        "# QCO Laboratory practice 1 (DISCA, Universitat Politècnica de València)"
      ]
    },
    {
      "cell_type": "markdown",
      "metadata": {
        "id": "6OuzSwVRHOTA"
      },
      "source": [
        "<h3 style=\"font-size: 20px\"> Important notes: </h3>\n",
        "\n",
        "- This .pynb file is suited for execution in a Google Colab (https://colab.research.google.com) environment. Just upload it and open it from a regular Colab session.\n",
        "\n",
        "- If you have any question about this lab, please send an email to Juan Carlos Perez (jcperez@disca.upv.es)\n",
        "\n",
        "- The answers of Lab 1 have to be sent by email to Juan Carlos Perez (jcperez@disca.upv.es) in case you cannot attend the lab session (justify, please) or you do not manage to finish all the exercises during the lab session. **Note that the deadline for sending the answers of Lab 1 is March 21.**\n",
        "\n",
        "- Please name the file with your answers as “Lab1_student_name.pdf” and do not forget to also add your name in the first page of the document."
      ]
    },
    {
      "cell_type": "code",
      "source": [
        "# ALWAYS RUN THIS CELL AFTER YOU LOAD (OR RELOAD) THE NOTEBOOK\n",
        "\n",
        "# Generic cell for correct operation of QCO materials in Google Colab (jcperez@disca.upv.es):\n",
        "!pip install qiskit[visualization]\n",
        "import qiskit\n",
        "%matplotlib inline\n",
        "qiskit.__version__\n",
        "\n",
        "# Not always necessary (jcperez@disca.upv.es):\n",
        "!pip install git+https://github.com/qiskit-community/qiskit-textbook.git#subdirectory=qiskit-textbook-src\n",
        "\n",
        "# To fix a bug/version incompatibility in that file (jcperez@disca.upv.es):\n",
        "!sed -ie 's/denominator/denominator()/g' /usr/local/lib/python3.8/dist-packages/qiskit/visualization/array.py\n",
        "\n",
        "# To set graphical circuit drawing by default in qiskit (jcperez@disca.upv.es):\n",
        "!mkdir ${HOME}/.qiskit\n",
        "!printf \"[default]\\ncircuit_drawer = mpl\\n\" > ${HOME}/.qiskit/settings.conf"
      ],
      "metadata": {
        "id": "dAa9wrPXrHdX"
      },
      "execution_count": null,
      "outputs": []
    },
    {
      "cell_type": "markdown",
      "metadata": {
        "id": "ZfDP2fQvHOTA"
      },
      "source": [
        "<h2 style=\"font-size:24px;\">Part 1: Python basics</h2>\n",
        "\n",
        "<br>\n",
        "Python is a programming language where you don't need to compile. You can just run it line by line (which is how we can use it in a notebook). So if you are quite new to programming, Python is a great place to start. The current version is Python 3, which is what we'll be using here.\n",
        "\n",
        "One way to code in Python is to use a Jupyter notebook. This is probably the best way to combine programming, text and images. In a notebook, everything is laid out in cells. Text cells and code cells are the most common. If you are viewing this section as a Jupyter notebook, the text you are now reading is in a text cell. A code cell can be found just below.\n",
        "\n",
        "To run the contents of a code cell, you can click on it and press Shift + Enter. Or if there is a little arrow thing on the left, you can click on that."
      ]
    },
    {
      "cell_type": "code",
      "execution_count": null,
      "metadata": {
        "id": "yRO2Srs9HOTB"
      },
      "outputs": [],
      "source": [
        "1 + 1"
      ]
    },
    {
      "cell_type": "markdown",
      "metadata": {
        "id": "bHUmkskUHOTB"
      },
      "source": [
        "If you are viewing this section as a Jupyter notebook, execute each of the code cells as you read through."
      ]
    },
    {
      "cell_type": "code",
      "execution_count": null,
      "metadata": {
        "id": "wVCWAN9bHOTC"
      },
      "outputs": [],
      "source": [
        "a = 1\n",
        "b = 0.5\n",
        "a + b"
      ]
    },
    {
      "cell_type": "markdown",
      "metadata": {
        "id": "W4xNuLtcHOTC"
      },
      "source": [
        "Above we created two variables, which we called `a` and `b`, and gave them values. Then we added them. Simple arithmetic like this is pretty straightforward in Python."
      ]
    },
    {
      "cell_type": "markdown",
      "metadata": {
        "id": "W71fyYCfHOTC"
      },
      "source": [
        "Variables in Python come in many forms. Below are some examples."
      ]
    },
    {
      "cell_type": "code",
      "execution_count": null,
      "metadata": {
        "id": "9VEh5d4kHOTC"
      },
      "outputs": [],
      "source": [
        "an_integer = 42 # Just an integer\n",
        "a_float = 0.1 # A non-integer number, up to a fixed precision\n",
        "a_boolean = True # A value that can be True or False\n",
        "a_string = '''just enclose text between two 's, or two \"s, or do what we did for this string''' # Text\n",
        "none_of_the_above = None # The absence of any actual value or variable type"
      ]
    },
    {
      "cell_type": "markdown",
      "metadata": {
        "id": "WAeHD2GUHOTC"
      },
      "source": [
        "As well as numbers, another data structure we can use is the *list*."
      ]
    },
    {
      "cell_type": "code",
      "execution_count": null,
      "metadata": {
        "id": "2YfhtqdZHOTC"
      },
      "outputs": [],
      "source": [
        "a_list = [0,1,2,3]"
      ]
    },
    {
      "cell_type": "markdown",
      "metadata": {
        "id": "V5_0_A0dHOTC"
      },
      "source": [
        "Lists in Python can contain any mixture of variable types."
      ]
    },
    {
      "cell_type": "code",
      "execution_count": null,
      "metadata": {
        "id": "v9lRylT_HOTC"
      },
      "outputs": [],
      "source": [
        "a_list = [ 42, 0.5, True, [0,1], None, 'Banana' ]"
      ]
    },
    {
      "cell_type": "markdown",
      "metadata": {
        "id": "b0_i-laqHOTC"
      },
      "source": [
        "Lists are indexed from `0` in Python (unlike languages such as Fortran). So here's how you access the `42` at the beginning of the above list."
      ]
    },
    {
      "cell_type": "code",
      "execution_count": null,
      "metadata": {
        "id": "Fk2q0BgGHOTC"
      },
      "outputs": [],
      "source": [
        "a_list[0]"
      ]
    },
    {
      "cell_type": "markdown",
      "metadata": {
        "id": "sGhMXCZRHOTC"
      },
      "source": [
        "A similar data structure is the *tuple*."
      ]
    },
    {
      "cell_type": "code",
      "execution_count": null,
      "metadata": {
        "id": "yziP-uVLHOTC"
      },
      "outputs": [],
      "source": [
        "a_tuple = ( 42, 0.5, True, [0,1], None, 'Banana' )\n",
        "a_tuple[0]"
      ]
    },
    {
      "cell_type": "markdown",
      "metadata": {
        "id": "W--MbI73HOTD"
      },
      "source": [
        "A major difference between the list and the tuple is that list elements can be changed"
      ]
    },
    {
      "cell_type": "code",
      "execution_count": null,
      "metadata": {
        "id": "Z77mpWi8HOTD"
      },
      "outputs": [],
      "source": [
        "a_list[5] = 'apple'\n",
        "\n",
        "print(a_list)"
      ]
    },
    {
      "cell_type": "markdown",
      "metadata": {
        "id": "_1Fz94VMHOTD"
      },
      "source": [
        "whereas tuple elements cannot"
      ]
    },
    {
      "cell_type": "code",
      "execution_count": null,
      "metadata": {
        "id": "EFpZz4-RHOTD"
      },
      "outputs": [],
      "source": [
        "a_tuple[5] = 'apple'"
      ]
    },
    {
      "cell_type": "markdown",
      "metadata": {
        "id": "N3STJI-rHOTD"
      },
      "source": [
        "Also, we can add an element to the end of a list, which we cannot do with tuples."
      ]
    },
    {
      "cell_type": "code",
      "execution_count": null,
      "metadata": {
        "id": "eWR81jv5HOTD"
      },
      "outputs": [],
      "source": [
        "a_list.append( 3.14 )\n",
        "\n",
        "print(a_list)"
      ]
    },
    {
      "cell_type": "markdown",
      "metadata": {
        "id": "TKXHto8QHOTD"
      },
      "source": [
        "Another useful data structure is the *dictionary*. This stores a set of *values*, each labeled by a unique *key*.\n",
        "\n",
        "Values can be any data type. Keys can be anything sufficiently simple (integer, float, Boolean, string). It cannot be a list, but it _can_ be a tuple."
      ]
    },
    {
      "cell_type": "code",
      "execution_count": null,
      "metadata": {
        "id": "NhxCqa7BHOTD"
      },
      "outputs": [],
      "source": [
        "a_dict = { 1:'This is the value, for the key 1', 'This is the key for a value 1':1, False:':)', (0,1):256 }"
      ]
    },
    {
      "cell_type": "markdown",
      "metadata": {
        "id": "0Mp7Gow1HOTD"
      },
      "source": [
        "The values are accessed using the keys"
      ]
    },
    {
      "cell_type": "code",
      "execution_count": null,
      "metadata": {
        "id": "hIWd3oplHOTD"
      },
      "outputs": [],
      "source": [
        "a_dict['This is the key for a value 1']"
      ]
    },
    {
      "cell_type": "markdown",
      "metadata": {
        "id": "lTLZZAVsHOTD"
      },
      "source": [
        "New key/value pairs can be added by just supplying the new value for the new key"
      ]
    },
    {
      "cell_type": "code",
      "execution_count": null,
      "metadata": {
        "id": "TY8CIh3KHOTD"
      },
      "outputs": [],
      "source": [
        "a_dict['new key'] = 'new_value'"
      ]
    },
    {
      "cell_type": "markdown",
      "metadata": {
        "id": "7YuOzY4uHOTE"
      },
      "source": [
        "To loop over a range of numbers, the syntax is"
      ]
    },
    {
      "cell_type": "code",
      "execution_count": null,
      "metadata": {
        "id": "8AtRYl7cHOTE"
      },
      "outputs": [],
      "source": [
        "for j in range(5):\n",
        "    print(j)"
      ]
    },
    {
      "cell_type": "markdown",
      "metadata": {
        "id": "Y6oYhBtRHOTE"
      },
      "source": [
        "Note that it starts at 0 (by default), and ends at n-1 for `range(n)`."
      ]
    },
    {
      "cell_type": "markdown",
      "metadata": {
        "id": "t0UieV8MHOTE"
      },
      "source": [
        "You can also loop over any 'iterable' object, such as lists"
      ]
    },
    {
      "cell_type": "code",
      "execution_count": null,
      "metadata": {
        "id": "EXKbcegTHOTE"
      },
      "outputs": [],
      "source": [
        "for j in a_list:\n",
        "    print(j)"
      ]
    },
    {
      "cell_type": "markdown",
      "metadata": {
        "id": "xcrTPRkQHOTE"
      },
      "source": [
        "or dictionaries"
      ]
    },
    {
      "cell_type": "code",
      "execution_count": null,
      "metadata": {
        "id": "WdqRm8A5HOTE"
      },
      "outputs": [],
      "source": [
        "for key in a_dict:\n",
        "    value = a_dict[key]\n",
        "    print('key =',key)\n",
        "    print('value =',value)\n",
        "    print()"
      ]
    },
    {
      "cell_type": "markdown",
      "metadata": {
        "id": "Zegtvfr0HOTE"
      },
      "source": [
        "Conditional statements are done with `if`, `elif` and `else` with the following syntax."
      ]
    },
    {
      "cell_type": "code",
      "execution_count": null,
      "metadata": {
        "id": "Do6bM7uAHOTE"
      },
      "outputs": [],
      "source": [
        "if 'strawberry' in a_list:\n",
        "    print('We have a strawberry!')\n",
        "elif a_list[5]=='apple':\n",
        "    print('We have an apple!')\n",
        "else:\n",
        "    print('Not much fruit here!')"
      ]
    },
    {
      "cell_type": "markdown",
      "metadata": {
        "id": "Cjq6tCKMHOTE"
      },
      "source": [
        "Importing packages is done with a line such as"
      ]
    },
    {
      "cell_type": "code",
      "execution_count": null,
      "metadata": {
        "id": "R6iLPGY9HOTE"
      },
      "outputs": [],
      "source": [
        "import numpy"
      ]
    },
    {
      "cell_type": "markdown",
      "metadata": {
        "id": "rHxhodugHOTE"
      },
      "source": [
        "The `numpy` package is important for doing maths"
      ]
    },
    {
      "cell_type": "code",
      "execution_count": null,
      "metadata": {
        "id": "TN8TY0IpHOTE"
      },
      "outputs": [],
      "source": [
        "numpy.sin( numpy.pi/2 )"
      ]
    },
    {
      "cell_type": "markdown",
      "metadata": {
        "id": "0Jd7Xg1FHOTE"
      },
      "source": [
        "We have to write `numpy.` in front of every numpy command so that it knows how to find that command defined in `numpy`. To save writing, it is common to use"
      ]
    },
    {
      "cell_type": "code",
      "execution_count": null,
      "metadata": {
        "id": "a8spRSE-HOTE"
      },
      "outputs": [],
      "source": [
        "import numpy as np\n",
        "\n",
        "np.sin( np.pi/2 )"
      ]
    },
    {
      "cell_type": "markdown",
      "metadata": {
        "id": "bSyewyVIHOTE"
      },
      "source": [
        "Then you only need the shortened name. Most people use `np`, but you can choose what you like.\n",
        "\n",
        "You can also pull everything straight out of `numpy` with"
      ]
    },
    {
      "cell_type": "code",
      "execution_count": null,
      "metadata": {
        "id": "MPGbdJ3THOTE"
      },
      "outputs": [],
      "source": [
        "from numpy import *"
      ]
    },
    {
      "cell_type": "markdown",
      "metadata": {
        "id": "926WgyvcHOTE"
      },
      "source": [
        "Then you can use the commands directly. But this can cause packages to mess with each other, so use with caution."
      ]
    },
    {
      "cell_type": "code",
      "execution_count": null,
      "metadata": {
        "id": "5OUI-a3sHOTF"
      },
      "outputs": [],
      "source": [
        "sin( pi/2 )"
      ]
    },
    {
      "cell_type": "markdown",
      "metadata": {
        "id": "V0tNlMZdHOTF"
      },
      "source": [
        "If you want to do trigonometry, linear algebra, etc, you can use `numpy`. For plotting, use `matplotlib`. For graph theory, use `networkx`. For quantum computing, use `qiskit`. For whatever you want, there will probably be a package to help you do it."
      ]
    },
    {
      "cell_type": "markdown",
      "metadata": {
        "id": "W5MYJgstHOTF"
      },
      "source": [
        "A good thing to know about in any language is how to make a function.\n",
        "\n",
        "Here's a function, whose name was chosen to be `do_some_maths`, whose inputs are named `Input1` and `Input2` and whose output is named `the_answer`."
      ]
    },
    {
      "cell_type": "code",
      "execution_count": null,
      "metadata": {
        "id": "hjGea9wLHOTF"
      },
      "outputs": [],
      "source": [
        "def do_some_maths ( Input1, Input2 ):\n",
        "    the_answer = Input1 + Input2\n",
        "    return the_answer"
      ]
    },
    {
      "cell_type": "markdown",
      "metadata": {
        "id": "fkzFW_EAHOTF"
      },
      "source": [
        "It's used as follows"
      ]
    },
    {
      "cell_type": "code",
      "execution_count": null,
      "metadata": {
        "id": "nLSUxiqrHOTF"
      },
      "outputs": [],
      "source": [
        "x = do_some_maths(1,72)\n",
        "print(x)"
      ]
    },
    {
      "cell_type": "markdown",
      "metadata": {
        "id": "TjGPswVFHOTF"
      },
      "source": [
        "If you give a function an object, and the function calls a method of that object to alter its state, the effect will persist. So if that's all you want to do, you don't need to `return` anything. For example, let's do it with the `append` method of a list."
      ]
    },
    {
      "cell_type": "code",
      "execution_count": null,
      "metadata": {
        "id": "wzM-jjCTHOTF"
      },
      "outputs": [],
      "source": [
        "def add_sausages ( input_list ):\n",
        "    if 'sausages' not in input_list:\n",
        "        input_list.append('sausages')"
      ]
    },
    {
      "cell_type": "code",
      "execution_count": null,
      "metadata": {
        "id": "iov-5SV3HOTF"
      },
      "outputs": [],
      "source": [
        "print('List before the function')\n",
        "print(a_list)\n",
        "\n",
        "add_sausages(a_list) # function called without an output\n",
        "\n",
        "print('\\nList after the function')\n",
        "print(a_list)"
      ]
    },
    {
      "cell_type": "markdown",
      "metadata": {
        "id": "sJXBZJj4HOTF"
      },
      "source": [
        "Randomness can be generated using the `random` package."
      ]
    },
    {
      "cell_type": "code",
      "execution_count": null,
      "metadata": {
        "id": "BsUKyQqsHOTF"
      },
      "outputs": [],
      "source": [
        "import random"
      ]
    },
    {
      "cell_type": "code",
      "execution_count": null,
      "metadata": {
        "id": "dFnFi6r9HOTF"
      },
      "outputs": [],
      "source": [
        "for j in range(5):\n",
        "    print('* Results from sample',j+1)\n",
        "    print('\\n    Random number from 0 to 1:', random.random() )\n",
        "    print(\"\\n    Random choice from our list:\", random.choice( a_list ) )\n",
        "    print('\\n')"
      ]
    },
    {
      "cell_type": "markdown",
      "metadata": {
        "id": "nsR4BG1mHOTF"
      },
      "source": [
        "These are the basics. Now all you need is a search engine, and the intuition to know who is worth listening to on Stack Exchange. Then you can do anything with Python. Your code might not be the most 'Pythonic', but only Pythonistas really care about that."
      ]
    },
    {
      "cell_type": "markdown",
      "metadata": {
        "id": "oIBwo0TkHOTF"
      },
      "source": [
        "\n",
        "\n",
        "-----------------------------------------\n"
      ]
    },
    {
      "cell_type": "markdown",
      "metadata": {
        "id": "CAidFbImHOTF"
      },
      "source": [
        "<h2 style=\"font-size:24px;\">Part 2: Programming a quantum computer (This is the actual lab work)</h2>\n",
        "\n",
        "<br>\n"
      ]
    },
    {
      "cell_type": "markdown",
      "metadata": {
        "id": "_nKGnWwSHOTF"
      },
      "source": [
        "Programming a quantum computer is now something that anyone can do in the comfort of their own home.\n",
        "\n",
        "But what to create? What is a quantum program anyway? In fact, what is a quantum computer?\n",
        "\n",
        "\n",
        "These questions can be answered by making comparisons to standard digital computers. Unfortunately, most people don’t actually understand how digital computers work either. In this article, we’ll look at the basics principles behind these devices. To help us transition over to quantum computing later on, we’ll do it using the same tools as we'll use for quantum."
      ]
    },
    {
      "cell_type": "markdown",
      "metadata": {
        "id": "PajKBHCOHOTF"
      },
      "source": [
        "<h2> Contents </h2>\n",
        "\n",
        "1. [Splitting information into bits](#bits)    \n",
        "2. [Computation as a Diagram](#diagram)    \n",
        "3. [Your First Quantum Circuit](#first-circuit)    \n",
        "4. [Example: Adder Circuit](#adder)       \n",
        "  4.1 [Encoding an Input](#encoding)    \n",
        "  4.2 [Remembering how to Add](#remembering-add)    \n",
        "  4.3 [Adding with Qiskit](#adding-qiskit)     "
      ]
    },
    {
      "cell_type": "markdown",
      "metadata": {
        "id": "qGPH0TOAHOTG"
      },
      "source": [
        "Below is some Python code we'll need to run if we want to use the code in this page:"
      ]
    },
    {
      "cell_type": "code",
      "execution_count": null,
      "metadata": {
        "id": "vBqzgbhSHOTG"
      },
      "outputs": [],
      "source": [
        "from qiskit import QuantumCircuit, assemble, Aer\n",
        "from qiskit.visualization import plot_histogram"
      ]
    },
    {
      "cell_type": "markdown",
      "metadata": {
        "id": "M4h1y9qzHOTG"
      },
      "source": [
        "<h2> 1. Splitting information into bits <a id=\"bits\"></a> </h2>"
      ]
    },
    {
      "cell_type": "markdown",
      "metadata": {
        "id": "0JL-HEvmHOTG"
      },
      "source": [
        "The first thing we need to know about is the idea of bits. These are designed to be the world’s simplest alphabet. With only two characters, 0 and 1, we can represent any piece of information.\n",
        "\n",
        "One example is numbers. You are probably used to representing a number through a string of the ten digits 0, 1, 2, 3, 4, 5, 6, 7, 8, and 9. In this string of digits, each digit represents how many times the number contains a certain power of ten. For example, when we write 9213, we mean\n",
        "\n",
        "\n",
        "\n",
        "$$ 9000 + 200 + 10 + 3 $$\n",
        "\n",
        "\n",
        "\n",
        "or, expressed in a way that emphasizes the powers of ten\n",
        "\n",
        "\n",
        "\n",
        "$$ (9\\times10^3) + (2\\times10^2) + (1\\times10^1) + (3\\times10^0) $$\n",
        "\n",
        "\n",
        "\n",
        "Though we usually use this system based on the number 10, we can just as easily use one based on any other number. The binary number system, for example, is based on the number two. This means using the two characters 0 and 1 to express numbers as multiples of powers of two. For example, 9213 becomes 10001111111101, since\n",
        "\n",
        "\n",
        "\n",
        "$$ 9213  = (1 \\times 2^{13}) + (0 \\times 2^{12}) + (0 \\times 2^{11})+ (0 \\times 2^{10}) +(1 \\times 2^9) + (1 \\times 2^8) + (1 \\times 2^7) \\\\\\\\ \\,\\,\\,   + (1 \\times 2^6) + (1 \\times 2^5) + (1 \\times 2^4) + (1 \\times 2^3) + (1 \\times 2^2) + (0 \\times 2^1) + (1 \\times 2^0) $$\n",
        "\n",
        "\n",
        "\n",
        "In this we are expressing numbers as multiples of 2, 4, 8, 16, 32, etc. instead of 10, 100, 1000, etc.\n",
        "<a id=\"binary_widget\"></a>"
      ]
    },
    {
      "cell_type": "code",
      "execution_count": null,
      "metadata": {
        "id": "qBqSTGYgHOTG"
      },
      "outputs": [],
      "source": [
        "from qiskit_textbook.widgets import binary_widget\n",
        "binary_widget(nbits=5)"
      ]
    },
    {
      "cell_type": "markdown",
      "metadata": {
        "id": "JvFzNOamHOTG"
      },
      "source": [
        "These strings of bits, known as binary strings, can be used to represent more than just numbers. For example, there is a way to represent any text using bits. For any letter, number, or punctuation mark you want to use, you can find a corresponding string of at most eight bits using [this table](https://www.ibm.com/support/knowledgecenter/en/ssw_aix_72/com.ibm.aix.networkcomm/conversion_table.htm). Though these are quite arbitrary, this is a widely agreed-upon standard. In fact, it's what was used to transmit this article to you through the internet.\n",
        "\n",
        "This is how all information is represented in computers. Whether numbers, letters, images, or sound, it all exists in the form of binary strings.\n",
        "\n",
        "Like our standard digital computers, quantum computers are based on this same basic idea. The main difference is that they use *qubits*, an extension of the bit to quantum mechanics. In the rest of this textbook, we will explore what qubits are, what they can do, and how they do it. In this section, however, we are not talking about quantum at all. So, we just use qubits as if they were bits."
      ]
    },
    {
      "cell_type": "markdown",
      "metadata": {
        "id": "tYNWu000HOTG"
      },
      "source": [
        "<h3>Quick Exercises\n",
        "</h3>1. Think of a number and try to write it down in binary.\n",
        "2. If you have $n$ bits, how many different states can they be in?"
      ]
    },
    {
      "cell_type": "markdown",
      "metadata": {
        "id": "jjePTAu4HOTG"
      },
      "source": [
        "<h2> 2. Computation as a diagram <a id=\"diagram\"></a> </h2>\n",
        "\n",
        "Whether we are using qubits or bits, we need to manipulate them in order to turn the inputs we have into the outputs we need. For the simplest programs with very few bits, it is useful to represent this process in a diagram known as a *circuit diagram*. These have inputs on the left, outputs on the right, and operations represented by arcane symbols in between. These operations are called 'gates', mostly for historical reasons.\n",
        "\n",
        "Here's an example of what a circuit looks like for standard, bit-based computers. You aren't expected to understand what it does. It should simply give you an idea of what these circuits look like.\n",
        "\n",
        "![image1](https://qiskit.org/textbook/ch-states/images/classical_circuit.png)\n",
        "\n",
        "For quantum computers, we use the same basic idea but have different conventions for how to represent inputs, outputs, and the symbols used for operations. Here is the quantum circuit that represents the same process as above.\n",
        "\n",
        "![image2](https://qiskit.org/textbook/ch-states/images/quantum_circuit.png)\n",
        "\n",
        "In the rest of this section, we will explain how to build circuits. At the end, you'll know how to create the circuit above, what it does, and why it is useful."
      ]
    },
    {
      "cell_type": "markdown",
      "metadata": {
        "id": "ioYrAQLWHOTG"
      },
      "source": [
        "<h2> 3. Your first quantum circuit <a id=\"first-circuit\"></a> </h2>"
      ]
    },
    {
      "cell_type": "markdown",
      "metadata": {
        "id": "UDhG-3HoHOTG"
      },
      "source": [
        "In a circuit, we typically need to do three jobs: First, encode the input, then do some actual computation, and finally extract an output. For your first quantum circuit, we'll focus on the last of these jobs. We start by creating a circuit with eight qubits and eight outputs."
      ]
    },
    {
      "cell_type": "code",
      "execution_count": null,
      "metadata": {
        "id": "kERIJQueHOTG"
      },
      "outputs": [],
      "source": [
        "qc_output = QuantumCircuit(8)"
      ]
    },
    {
      "cell_type": "markdown",
      "metadata": {
        "id": "cwdAwPIhHOTG"
      },
      "source": [
        "This circuit, which we have called `qc_output`, is created by Qiskit using `QuantumCircuit`. The `QuantumCircuit` takes the number of qubits in the quantum circuit as an argument. \n",
        "\n",
        "The extraction of outputs in a quantum circuit is done using an operation called `measure_all()`. Each measurement tells a specific qubit to give an output to a specific output bit. The command `qc_output.measure_all()` adds a measurement to each qubit in the circuit `qc_output`, and also adds some classical bits to write the output to."
      ]
    },
    {
      "cell_type": "code",
      "execution_count": null,
      "metadata": {
        "id": "Bu-A3GcrHOTG"
      },
      "outputs": [],
      "source": [
        "qc_output.measure_all()"
      ]
    },
    {
      "cell_type": "markdown",
      "metadata": {
        "id": "Gob5cZCmHOTG"
      },
      "source": [
        "Now that our circuit has something in it, let's take a look at it."
      ]
    },
    {
      "cell_type": "code",
      "execution_count": null,
      "metadata": {
        "id": "6N6vkhN1HOTG"
      },
      "outputs": [],
      "source": [
        "qc_output.draw(initial_state=True) "
      ]
    },
    {
      "cell_type": "markdown",
      "metadata": {
        "id": "dggMvp6AHOTG"
      },
      "source": [
        "Qubits are always initialized to give the output ```0```. Since we don't do anything to our qubits in the circuit above, this is exactly the result we'll get when we measure them. We can see this by running the circuit many times and plotting the results in a histogram. We will find that the result is always ```00000000```: a ```0``` from each qubit."
      ]
    },
    {
      "cell_type": "code",
      "execution_count": null,
      "metadata": {
        "id": "WVpkToZzHOTG"
      },
      "outputs": [],
      "source": [
        "sim = Aer.get_backend('aer_simulator') \n",
        "result = sim.run(qc_output).result()\n",
        "counts = result.get_counts()\n",
        "plot_histogram(counts)"
      ]
    },
    {
      "cell_type": "markdown",
      "metadata": {
        "id": "pJVnhiv2HOTG"
      },
      "source": [
        "The reason for running many times and showing the result as a histogram is because quantum computers may have some randomness in their results. In this case, since we aren’t doing anything quantum, we get just the ```00000000``` result with certainty.\n",
        "\n",
        "Note that this result comes from a quantum simulator, which is a standard computer calculating what an ideal quantum computer would do. Simulations are only possible for small numbers of qubits (~30 qubits), but they are nevertheless a very useful tool when designing your first quantum circuits. To run on a real device you simply need to replace ```Aer.get_backend('aer_simulator')``` with the backend object of the device you want to use. "
      ]
    },
    {
      "cell_type": "markdown",
      "metadata": {
        "id": "CGnB3US_HOTH"
      },
      "source": [
        "<h2> 4. Example: Creating an Adder Circuit <a id=\"adder\"></a> </h2> \n",
        "<h3> 4.1 Encoding an input <a id=\"encoding\"></a> </h3>\n",
        "\n",
        "Now let's look at how to encode a different binary string as an input. For this, we need what is known as a NOT gate. This is the most basic operation that you can do in a computer. It simply flips the bit value: ```0``` becomes ```1``` and ```1``` becomes ```0```. For qubits, it is an operation called ```x``` that does the job of the NOT.\n",
        "\n",
        "Below we create a new circuit dedicated to the job of encoding and call it `qc_encode`. For now, we only specify the number of qubits."
      ]
    },
    {
      "cell_type": "code",
      "execution_count": null,
      "metadata": {
        "id": "eirFTF7wHOTH"
      },
      "outputs": [],
      "source": [
        "qc_encode = QuantumCircuit(8)\n",
        "qc_encode.x(7)\n",
        "qc_encode.draw()"
      ]
    },
    {
      "cell_type": "markdown",
      "metadata": {
        "id": "tGDgTdNaHOTH"
      },
      "source": [
        "Extracting results can be done using the circuit we have from before: `qc_output`."
      ]
    },
    {
      "cell_type": "code",
      "execution_count": null,
      "metadata": {
        "id": "TZ7WGKYSHOTH"
      },
      "outputs": [],
      "source": [
        "qc_encode.measure_all()\n",
        "qc_encode.draw()"
      ]
    },
    {
      "cell_type": "markdown",
      "metadata": {
        "id": "j71jmuwuHOTH"
      },
      "source": [
        "Now we can run the combined circuit and look at the results."
      ]
    },
    {
      "cell_type": "code",
      "execution_count": null,
      "metadata": {
        "id": "8pwbPgvVHOTH"
      },
      "outputs": [],
      "source": [
        "sim = Aer.get_backend('aer_simulator') \n",
        "result = sim.run(qc_encode).result()\n",
        "counts = result.get_counts()\n",
        "plot_histogram(counts)"
      ]
    },
    {
      "cell_type": "markdown",
      "metadata": {
        "id": "3nO7HPNtHOTH"
      },
      "source": [
        "Now our computer outputs the string ```10000000``` instead.\n",
        "\n",
        "The bit we flipped, which comes from qubit 7, lives on the far left of the string. This is because Qiskit numbers the bits in a string from right to left. Some prefer to number their bits the other way around, but Qiskit's system certainly has its advantages when we are using the bits to represent numbers. Specifically, it means that qubit 7 is telling us about how many $2^7$s we have in our number. So by flipping this bit, we’ve now written the number 128 in our simple 8-bit computer.\n",
        "\n",
        "Now try out writing another number for yourself. You could do your age, for example. Just use a search engine to find out what the number looks like in binary (if it includes a ‘0b’, just ignore it), and then add some 0s to the left side if you are younger than 128."
      ]
    },
    {
      "cell_type": "code",
      "execution_count": null,
      "metadata": {
        "id": "1qX7uz7MHOTH"
      },
      "outputs": [],
      "source": [
        "qc_encode = QuantumCircuit(8)\n",
        "qc_encode.x(1)\n",
        "qc_encode.x(5)\n",
        "\n",
        "qc_encode.draw()"
      ]
    },
    {
      "cell_type": "markdown",
      "metadata": {
        "id": "eZMOfUZgHOTH"
      },
      "source": [
        "Now we know how to encode information in a computer. The next step is to process it: To take an input that we have encoded, and turn it into an output that we need."
      ]
    },
    {
      "cell_type": "markdown",
      "metadata": {
        "id": "BwhhNW-RHOTH"
      },
      "source": [
        "<h3> 4.2 Remembering how to add <a id=\"remembering-add\"></a> </h3>"
      ]
    },
    {
      "cell_type": "markdown",
      "metadata": {
        "id": "QRz9Z1SrHOTH"
      },
      "source": [
        "To look at turning inputs into outputs, we need a problem to solve. Let’s do some basic maths. In primary school, you will have learned how to take large mathematical problems and break them down into manageable pieces. For example, how would you go about solving the following?\n",
        "\n",
        "```\n",
        "   9213\n",
        "+  1854\n",
        "=  ????\n",
        "```\n",
        "\n",
        "One way is to do it digit by digit, from right to left. So we start with 3+4\n",
        "```\n",
        "   9213\n",
        "+  1854\n",
        "=  ???7\n",
        "```\n",
        "\n",
        "And then 1+5\n",
        "```\n",
        "   9213\n",
        "+  1854\n",
        "=  ??67\n",
        "```\n",
        "\n",
        "Then we have 2+8=10. Since this is a two digit answer, we need to carry the one over to the next column.\n",
        "\n",
        "```\n",
        "   9213\n",
        "+  1854\n",
        "=  ?067\n",
        "   ¹ \n",
        "```\n",
        "\n",
        "Finally we have 9+1+1=11, and get our answer\n",
        "\n",
        "```\n",
        "   9213\n",
        "+  1854\n",
        "= 11067\n",
        "   ¹ \n",
        "```\n",
        "\n",
        "This may just be simple addition, but it demonstrates the principles behind all algorithms. Whether the algorithm is designed to solve mathematical problems or process text or images, we always break big tasks down into small and simple steps.\n",
        "\n",
        "To run on a computer, algorithms need to be compiled down to the smallest and simplest steps possible. To see what these look like, let’s do the above addition problem again but in binary.\n",
        "\n",
        "\n",
        "```\n",
        "   10001111111101\n",
        "+  00011100111110\n",
        "                                    \n",
        "=  ??????????????\n",
        "```\n",
        "\n",
        "Note that the second number has a bunch of extra 0s on the left. This just serves to make the two strings the same length.\n",
        "\n",
        "Our first task is to do the 1+0 for the column on the right. In binary, as in any number system, the answer is 1. We get the same result for the 0+1 of the second column.\n",
        "\n",
        "```\n",
        "   10001111111101\n",
        "+  00011100111110\n",
        "\n",
        "=  ????????????11 \n",
        "```\n",
        "\n",
        "Next, we have 1+1. As you’ll surely be aware, 1+1=2. In binary, the number 2 is written ```10```, and so requires two bits. This means that we need to carry the 1, just as we would for the number 10 in decimal.\n",
        "\n",
        "```\n",
        "   10001111111101\n",
        "+  00011100111110\n",
        "=  ???????????011 \n",
        "             ¹ \n",
        "```\n",
        "\n",
        "The next column now requires us to calculate ```1+1+1```. This means adding three numbers together, so things are getting complicated for our computer. But we can still compile it down to simpler operations, and do it in a way that only ever requires us to add two bits together. For this, we can start with just the first two 1s.\n",
        "\n",
        "```\n",
        "   1\n",
        "+  1\n",
        "= 10\n",
        "```\n",
        "\n",
        "Now we need to add this ```10``` to the final ```1``` , which can be done using our usual method of going through the columns.\n",
        "\n",
        "```\n",
        "  10\n",
        "+ 01\n",
        "= 11\n",
        "```\n",
        "\n",
        "The final answer is ```11``` (also known as 3).\n",
        "\n",
        "Now we can get back to the rest of the problem. With the answer of  ```11```, we have another carry bit.\n",
        "\n",
        "```\n",
        "   10001111111101\n",
        "+  00011100111110\n",
        "=  ??????????1011\n",
        "            ¹¹\n",
        "```\n",
        "\n",
        "So now we have another 1+1+1 to do. But we already know how to do that, so it’s not a big deal.\n",
        "\n",
        "In fact, everything left so far is something we already know how to do. This is because, if you break everything down into adding just two bits, there are only four possible things you’ll ever need to calculate. Here are the four basic sums (we’ll write all the answers with two bits to be consistent).\n",
        "\n",
        "```\n",
        "0+0 = 00 (in decimal, this is 0+0=0)\n",
        "0+1 = 01 (in decimal, this is 0+1=1)\n",
        "1+0 = 01 (in decimal, this is 1+0=1)\n",
        "1+1 = 10 (in decimal, this is 1+1=2)\n",
        "```\n",
        "\n",
        "This is called a *half adder*. If our computer can implement this, and if it can chain many of them together, it can add anything."
      ]
    },
    {
      "cell_type": "markdown",
      "metadata": {
        "id": "sTeQRRtGHOTH"
      },
      "source": [
        "<h3> 4.3 Adding with Qiskit <a id=\"adding-qiskit\"></a> </h3>"
      ]
    },
    {
      "cell_type": "markdown",
      "metadata": {
        "id": "vvQajGPxHOTH"
      },
      "source": [
        "Let's make our own half adder using Qiskit. This will include a part of the circuit that encodes the input, a part that executes the algorithm, and a part that extracts the result. The first part will need to be changed whenever we want to use a new input, but the rest will always remain the same."
      ]
    },
    {
      "cell_type": "markdown",
      "metadata": {
        "id": "-oYnLLtrHOTH"
      },
      "source": [
        "![half adder implemented on a quantum circuit](https://qiskit.org/textbook/ch-states/images/half-adder.svg)\n"
      ]
    },
    {
      "cell_type": "markdown",
      "metadata": {
        "id": "-Cq3zBnfHOTH"
      },
      "source": [
        "The two bits we want to add are encoded in the qubits 0 and 1. The above example encodes a ```1``` in both these qubits, and so it seeks to find the solution of ```1+1```. The result will be a string of two bits, which we will read out from the qubits 2 and 3 and store in classical bits 0 and 1, respectively. All that remains is to fill in the actual program, which lives in the blank space in the middle.\n",
        "\n",
        "The dashed lines in the image are just to distinguish the different parts of the circuit (although they can have more interesting uses too). They are made by using the `barrier` command.\n",
        "\n",
        "The basic operations of computing are known as logic gates. We’ve already used the NOT gate, but this is not enough to make our half adder. We could only use it to manually write out the answers. Since we want the computer to do the actual computing for us, we’ll need some more powerful gates.\n",
        "\n",
        "To see what we need, let’s take another look at what our half adder needs to do.\n",
        "\n",
        "```\n",
        "0+0 = 00\n",
        "0+1 = 01\n",
        "1+0 = 01\n",
        "1+1 = 10\n",
        "```\n",
        "\n",
        "The rightmost bit in all four of these answers is completely determined by whether the two bits we are adding are the same or different. So for ```0+0``` and ```1+1```, where the two bits are equal, the rightmost bit of the answer comes out ```0```. For ```0+1``` and ```1+0```, where we are adding different bit values, the rightmost bit is ```1```.\n",
        "\n",
        "To get this part of our solution correct, we need something that can figure out whether two bits are different or not. Traditionally, in the study of digital computation, this is called an XOR gate.\n",
        "\n",
        "| Input 1 | Input 2 | XOR Output |\n",
        "|:-------:|:-------:|:------:|\n",
        "| 0       | 0       | 0      |\n",
        "| 0       | 1       | 1      |\n",
        "| 1       | 0       | 1      |\n",
        "| 1       | 1       | 0      |\n",
        "\n",
        "In quantum computers, the job of the XOR gate is done by the controlled-NOT gate. Since that's quite a long name, we usually just call it the CNOT. In Qiskit its name is ```cx```, which is even shorter. In circuit diagrams, it is drawn as in the image below."
      ]
    },
    {
      "cell_type": "code",
      "execution_count": null,
      "metadata": {
        "id": "dOUM9erPHOTH"
      },
      "outputs": [],
      "source": [
        "qc_cnot = QuantumCircuit(2)\n",
        "qc_cnot.cx(0,1)\n",
        "qc_cnot.draw()"
      ]
    },
    {
      "cell_type": "markdown",
      "metadata": {
        "id": "wWxJOZNGHOTH"
      },
      "source": [
        "This is applied to a pair of qubits. One acts as the control qubit (this is the one with the little dot). The other acts as the *target qubit* (with the big circle that has a ```+``` inside it).\n",
        "\n",
        "There are multiple ways to explain the effect of the CNOT. One is to say that it looks at its two input bits to see whether they are the same or different. Next, it overwrites the target qubit with the answer. The target becomes ```0``` if they are the same, and ```1``` if they are different.\n",
        "\n",
        "<img src=\"https://qiskit.org/textbook/ch-states/images/cnot_xor.svg\">\n",
        "\n",
        "Another way of explaining the CNOT is to say that it does a NOT on the target if the control is ```1```, and does nothing otherwise. This explanation is just as valid as the previous one (in fact, it’s the one that gives the gate its name).\n",
        "\n",
        "Try the CNOT out for yourself by trying each of the possible inputs. For example, here's a circuit that tests the CNOT with the input ```01```."
      ]
    },
    {
      "cell_type": "code",
      "execution_count": null,
      "metadata": {
        "id": "ny2yqqr0HOTI"
      },
      "outputs": [],
      "source": [
        "qc = QuantumCircuit(2,2)\n",
        "qc.x(0)\n",
        "qc.cx(0,1)\n",
        "qc.measure(0,0)\n",
        "qc.measure(1,1)\n",
        "qc.draw()"
      ]
    },
    {
      "cell_type": "markdown",
      "metadata": {
        "id": "_tqJPr9fHOTI"
      },
      "source": [
        "If you execute this circuit, you’ll find that the output is ```11```. We can think of this happening because of either of the following reasons.\n",
        "\n",
        "- The CNOT calculates whether the input values are different and finds that they are, which means that it wants to output ```1```. It does this by writing over the state of qubit 1 (which, remember, is on the left of the bit string), turning ```01``` into ```11```.\n",
        "\n",
        "- The CNOT sees that qubit 0 is in state ```1```, and so applies a NOT to qubit 1. This flips the ```0``` of qubit 1 into a ```1```, and so turns ```01``` into ```11```.\n",
        "\n",
        "Here is a table showing all the possible inputs and corresponding outputs of the CNOT gate:\n",
        "\n",
        "| Input (q1 q0) | Output (q1 q0) |\n",
        "|:-------------:|:--------------:|\n",
        "| 00            | 00             |\n",
        "| 01            | 11             |\n",
        "| 10            | 10             |\n",
        "| 11            | 01             |\n",
        "\n",
        "For our half adder, we don’t want to overwrite one of our inputs. Instead, we want to write the result on a different pair of qubits. For this, we can use two CNOTs."
      ]
    },
    {
      "cell_type": "code",
      "execution_count": null,
      "metadata": {
        "id": "ZYsh8X0qHOTI"
      },
      "outputs": [],
      "source": [
        "qc_ha = QuantumCircuit(4,2)\n",
        "# encode inputs in qubits 0 and 1\n",
        "qc_ha.x(0) # For a=0, remove this line. For a=1, leave it.\n",
        "qc_ha.x(1) # For b=0, remove this line. For b=1, leave it.\n",
        "qc_ha.barrier()\n",
        "# use cnots to write the XOR of the inputs on qubit 2\n",
        "qc_ha.cx(0,2)\n",
        "qc_ha.cx(1,2)\n",
        "qc_ha.barrier()\n",
        "# extract outputs\n",
        "qc_ha.measure(2,0) # extract XOR value\n",
        "qc_ha.measure(3,1)\n",
        "\n",
        "qc_ha.draw()"
      ]
    },
    {
      "cell_type": "markdown",
      "metadata": {
        "id": "zUVCzt30HOTI"
      },
      "source": [
        "We are now halfway to a fully working half adder. We just have the other bit of the output left to do: the one that will live on qubit 3.\n",
        "\n",
        "If you look again at the four possible sums, you’ll notice that there is only one case for which this is ```1``` instead of ```0```: ```1+1```=```10```. It happens only when both the bits we are adding are ```1```.\n",
        "\n",
        "To calculate this part of the output, we could just get our computer to look at whether both of the inputs are ```1```. If they are — and only if they are — we need to do a NOT gate on qubit 3. That will flip it to the required value of ```1``` for this case only, giving us the output we need.\n",
        "\n",
        "For this, we need a new gate: like a CNOT but controlled on two qubits instead of just one. This will perform a NOT on the target qubit only when both controls are in state ```1```. This new gate is called the *Toffoli*. For those of you who are familiar with Boolean logic gates, it is basically an AND gate.\n",
        "\n",
        "In Qiskit, the Toffoli is represented with the `ccx` command."
      ]
    },
    {
      "cell_type": "code",
      "execution_count": null,
      "metadata": {
        "id": "fpb8XLQyHOTI"
      },
      "outputs": [],
      "source": [
        "qc_ha = QuantumCircuit(4,2)\n",
        "# encode inputs in qubits 0 and 1\n",
        "qc_ha.x(0) # For a=0, remove the this line. For a=1, leave it.\n",
        "qc_ha.x(1) # For b=0, remove the this line. For b=1, leave it.\n",
        "qc_ha.barrier()\n",
        "# use cnots to write the XOR of the inputs on qubit 2\n",
        "qc_ha.cx(0,2)\n",
        "qc_ha.cx(1,2)\n",
        "# use ccx to write the AND of the inputs on qubit 3\n",
        "qc_ha.ccx(0,1,3)\n",
        "qc_ha.barrier()\n",
        "# extract outputs\n",
        "qc_ha.measure(2,0) # extract XOR value\n",
        "qc_ha.measure(3,1) # extract AND value\n",
        "\n",
        "qc_ha.draw()"
      ]
    },
    {
      "cell_type": "markdown",
      "metadata": {
        "id": "q5I0-xgxHOTI"
      },
      "source": [
        "In this example, we are calculating ```1+1```, because the two input bits are both ```1```. Let's see what we get."
      ]
    },
    {
      "cell_type": "code",
      "execution_count": null,
      "metadata": {
        "id": "dh1Hu5P4HOTI"
      },
      "outputs": [],
      "source": [
        "qobj = assemble(qc_ha)\n",
        "counts = sim.run(qobj).result().get_counts()\n",
        "plot_histogram(counts)"
      ]
    },
    {
      "cell_type": "markdown",
      "metadata": {
        "id": "ZkIyCcZlHOTI"
      },
      "source": [
        "The result is ```10```, which is the binary representation of the number 2. We have built a computer that can solve the famous mathematical problem of 1+1!\n",
        "\n",
        "Now you can try it out with the other three possible inputs, and show that our algorithm gives the right results for those too.\n",
        "\n",
        "The half adder contains everything you need for addition. With the NOT, CNOT, and Toffoli gates, we can create programs that add any set of numbers of any size.\n",
        "\n",
        "These three gates are enough to do everything else in computing too. In fact, we can even do without the CNOT. Additionally, the NOT gate is only really needed to create bits with value ```1```. The Toffoli gate is essentially the atom of mathematics. It is the simplest element, from which every other problem-solving technique can be compiled.\n",
        "\n",
        "As we'll see, in quantum computing we split the atom."
      ]
    },
    {
      "cell_type": "code",
      "execution_count": null,
      "metadata": {
        "id": "k81hjGgrHOTI"
      },
      "outputs": [],
      "source": [
        "import qiskit.tools.jupyter\n",
        "%qiskit_version_table"
      ]
    }
  ],
  "metadata": {
    "kernelspec": {
      "display_name": "Python 3 (ipykernel)",
      "language": "python",
      "name": "python3"
    },
    "language_info": {
      "codemirror_mode": {
        "name": "ipython",
        "version": 3
      },
      "file_extension": ".py",
      "mimetype": "text/x-python",
      "name": "python",
      "nbconvert_exporter": "python",
      "pygments_lexer": "ipython3",
      "version": "3.8.12"
    },
    "colab": {
      "provenance": []
    }
  },
  "nbformat": 4,
  "nbformat_minor": 0
}