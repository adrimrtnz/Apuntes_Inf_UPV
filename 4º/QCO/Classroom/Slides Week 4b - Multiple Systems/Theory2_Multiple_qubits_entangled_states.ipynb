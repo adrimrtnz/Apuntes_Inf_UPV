{
  "cells": [
    {
      "cell_type": "code",
      "source": [
        "# ALWAYS RUN THIS CELL AFTER YOU LOAD (OR RELOAD) THE NOTEBOOK\n",
        "\n",
        "# Generic cell for correct operation of QCO materials in Google Colab (jcperez@disca.upv.es):\n",
        "!pip -qqq install qiskit[visualization]\n",
        "import qiskit\n",
        "%matplotlib inline\n",
        "qiskit.__version__\n",
        "\n",
        "# Not always necessary (jcperez@disca.upv.es):\n",
        "!pip -qqq install git+https://github.com/qiskit-community/qiskit-textbook.git#subdirectory=qiskit-textbook-src\n",
        "\n",
        "# To fix a bug/version incompatibility in that file (jcperez@disca.upv.es):\n",
        "!sed -ie 's/denominator >/denominator() >/g' /usr/local/lib/python3.8/dist-packages/qiskit/visualization/array.py\n",
        "\n",
        "# To set graphical circuit drawing by default in qiskit (jcperez@disca.upv.es):\n",
        "!mkdir ${HOME}/.qiskit 2>/dev/null\n",
        "!printf \"[default]\\ncircuit_drawer = mpl\\n\" > ${HOME}/.qiskit/settings.conf"
      ],
      "metadata": {
        "id": "dAa9wrPXrHdX"
      },
      "execution_count": null,
      "outputs": []
    },
    {
      "cell_type": "markdown",
      "source": [
        "# Theory 2. Multiple Qubits & Entangled States"
      ],
      "metadata": {
        "tags": [
          "remove_cell"
        ],
        "id": "Vo3vh6Fq9yMn"
      }
    },
    {
      "cell_type": "markdown",
      "source": [
        "Single qubits are interesting, but individually they offer no computational advantage. We will now look at how we represent multiple qubits, and how these qubits can interact with each other. We have seen how we can represent the state of a qubit using a 2D-vector, now we will see how we can represent the state of multiple qubits."
      ],
      "metadata": {
        "id": "o1Iaz8vU9yMp"
      }
    },
    {
      "cell_type": "markdown",
      "source": [
        "## Contents\n",
        "1. [Representing Multi-Qubit States](#represent)    \n",
        "    1.1 [Exercises](#ex1)\n",
        "2. [Single Qubit Gates on Multi-Qubit Statevectors](#single-qubit-gates)    \n",
        "    2.1 [Exercises](#ex2)\n",
        "3. [Multi-Qubit Gates](#multi-qubit-gates)    \n",
        "    3.1 [The CNOT-gate](#cnot)  \n",
        "    3.2 [Entangled States](#entangled)  \n",
        "    3.3 [Visualizing Entangled States](#visual)    \n",
        "    3.4 [Exercises](#ex3)\n",
        "\n",
        "\n",
        "## 1. Representing Multi-Qubit States <a id=\"represent\"></a>\n",
        "\n",
        "We saw that a single bit has two possible states, and a qubit state has two complex amplitudes. Similarly, two bits have four possible states:\n",
        "\n",
        "`00` `01` `10` `11`\n",
        "\n",
        "And to describe the state of two qubits requires four complex amplitudes. We store these amplitudes in a 4D-vector like so:\n",
        "\n",
        "$$ |a\\rangle = a_{00}|00\\rangle + a_{01}|01\\rangle + a_{10}|10\\rangle + a_{11}|11\\rangle = \\begin{bmatrix} a_{00} \\\\ a_{01} \\\\ a_{10} \\\\ a_{11} \\end{bmatrix} $$\n",
        "\n",
        "The rules of measurement still work in the same way:\n",
        "\n",
        "$$ p(|00\\rangle) = |\\langle 00 | a \\rangle |^2 = |a_{00}|^2$$\n",
        "\n",
        "And the same implications hold, such as the normalisation condition:\n",
        "\n",
        "$$ |a_{00}|^2 + |a_{01}|^2 + |a_{10}|^2 + |a_{11}|^2 = 1$$\n",
        "\n",
        "If we have two separated qubits, we can describe their collective state using the kronecker product:\n",
        "\n",
        "$$ |a\\rangle = \\begin{bmatrix} a_0 \\\\ a_1 \\end{bmatrix}, \\quad |b\\rangle = \\begin{bmatrix} b_0 \\\\ b_1 \\end{bmatrix} $$\n",
        "\n",
        "$$ \n",
        "|ba\\rangle = |b\\rangle \\otimes |a\\rangle = \\begin{bmatrix} b_0 \\times \\begin{bmatrix} a_0 \\\\ a_1 \\end{bmatrix} \\\\ b_1 \\times \\begin{bmatrix} a_0 \\\\ a_1 \\end{bmatrix} \\end{bmatrix} = \\begin{bmatrix} b_0 a_0 \\\\ b_0 a_1 \\\\ b_1 a_0 \\\\ b_1 a_1 \\end{bmatrix}\n",
        "$$\n",
        "\n",
        "And following the same rules, we can use the kronecker product to describe the collective state of any number of qubits. Here is an example with three qubits:\n",
        "\n",
        "$$ \n",
        "|cba\\rangle = \\begin{bmatrix} c_0 b_0 a_0 \\\\ c_0 b_0 a_1 \\\\ c_0 b_1 a_0 \\\\ c_0 b_1 a_1 \\\\\n",
        "                              c_1 b_0 a_0 \\\\ c_1 b_0 a_1 \\\\ c_1 b_1 a_0 \\\\ c_1 b_1 a_1 \\\\\n",
        "              \\end{bmatrix}\n",
        "$$\n",
        "\n",
        "If we have $n$ qubits, we will need to keep track of $2^n$ complex amplitudes. As we can see, these vectors grow exponentially with the number of qubits. This is the reason quantum computers with large numbers of qubits are so difficult to simulate. A modern laptop can easily simulate a general quantum state of around 20 qubits, but simulating 100 qubits is too difficult for the largest supercomputers.\n",
        "\n",
        "Let's look at an example circuit:"
      ],
      "metadata": {
        "id": "ZdHR_7tD9yMp"
      }
    },
    {
      "cell_type": "code",
      "execution_count": null,
      "source": [
        "from qiskit import QuantumCircuit, Aer, assemble\n",
        "import numpy as np\n",
        "from qiskit.visualization import plot_histogram, plot_bloch_multivector"
      ],
      "outputs": [],
      "metadata": {
        "tags": [
          "thebelab-init"
        ],
        "id": "umPBPZhY9yMq"
      }
    },
    {
      "cell_type": "code",
      "execution_count": null,
      "source": [
        "qc = QuantumCircuit(3)\n",
        "# Apply H-gate to each qubit:\n",
        "for qubit in range(3):\n",
        "    qc.h(qubit)\n",
        "# See the circuit:\n",
        "qc.draw()"
      ],
      "outputs": [],
      "metadata": {
        "id": "aXJYmkIX9yMr"
      }
    },
    {
      "cell_type": "markdown",
      "source": [
        "Each qubit is in the state $|+\\rangle$, so we should see the vector:\n",
        "\n",
        "$$ \n",
        "|{+++}\\rangle = \\frac{1}{\\sqrt{8}}\\begin{bmatrix} 1 \\\\ 1 \\\\ 1 \\\\ 1 \\\\\n",
        "                              1 \\\\ 1 \\\\ 1 \\\\ 1 \\\\\n",
        "              \\end{bmatrix}\n",
        "$$\n",
        "\n",
        "<font color='brown' size=+0>\n",
        "EXERCISE: Develop the kronecker product of the three $|{+}\\rangle$ qubits expressed as vectors to obtain this result\n",
        "</font>"
      ],
      "metadata": {
        "id": "AI6bqDEN9yMr"
      }
    },
    {
      "cell_type": "code",
      "execution_count": null,
      "source": [
        "# Let's see the result\n",
        "svsim = Aer.get_backend('aer_simulator')\n",
        "qc.save_statevector()\n",
        "qobj = assemble(qc)\n",
        "final_state = svsim.run(qobj).result().get_statevector()\n",
        "\n",
        "# In Jupyter Notebooks we can display this nicely using Latex.\n",
        "# If not using Jupyter Notebooks you may need to remove the \n",
        "# array_to_latex function and use print(final_state) instead.\n",
        "from qiskit.visualization import array_to_latex\n",
        "array_to_latex(final_state, prefix=\"\\\\text{Statevector} = \")\n",
        "#array_to_latex(np.reshape(final_state,(-1,1)), prefix=\"\\\\text{Statevector} = \")"
      ],
      "outputs": [],
      "metadata": {
        "id": "7zZPQ09d9yMr"
      }
    },
    {
      "cell_type": "markdown",
      "source": [
        "And we have our expected result."
      ],
      "metadata": {
        "id": "0qLMwmG69yMs"
      }
    },
    {
      "cell_type": "markdown",
      "source": [
        "<font color='brown' size=+0>\n",
        "EXERCISES:\n",
        "\n",
        "1.\tWrite down the kronecker product of the qubits:    \n",
        "    a)\t$|0\\rangle|1\\rangle$    \n",
        "    b)\t$|0\\rangle|+\\rangle$    \n",
        "    c)\t$|+\\rangle|1\\rangle$    \n",
        "    d)\t$|-\\rangle|+\\rangle$    \n",
        "2.\tWrite the state:\n",
        "    $|\\psi\\rangle = \\tfrac{1}{\\sqrt{2}}|00\\rangle + \\tfrac{i}{\\sqrt{2}}|01\\rangle $ as two separate qubits.\n",
        "</font>\n",
        "\n",
        "## 2. Single Qubit Gates on Multi-Qubit Statevectors <a id=\"single-qubit-gates\"></a>\n",
        "\n",
        "We have seen that an X-gate is represented by the matrix:\n",
        "\n",
        "$$\n",
        "X = \\begin{bmatrix} 0 & 1 \\\\ 1 & 0 \\end{bmatrix}\n",
        "$$\n",
        "\n",
        "And that it acts on the state $|0\\rangle$ as so:\n",
        "\n",
        "$$\n",
        "X|0\\rangle = \\begin{bmatrix} 0 & 1 \\\\ 1 & 0 \\end{bmatrix}\\begin{bmatrix} 1 \\\\ 0 \\end{bmatrix} = \\begin{bmatrix} 0 \\\\ 1\\end{bmatrix}\n",
        "$$\n",
        "\n",
        "but it may not be clear how an X-gate would act on a qubit in a multi-qubit vector. Fortunately, the rule is quite simple; just as we used the kronecker product to calculate multi-qubit statevectors, we use the tensor product to calculate matrices that act on these statevectors. For example, in the circuit below:"
      ],
      "metadata": {
        "id": "Tr77d1429yMs"
      }
    },
    {
      "cell_type": "code",
      "execution_count": null,
      "source": [
        "qc = QuantumCircuit(2)\n",
        "qc.h(0)\n",
        "qc.x(1)\n",
        "qc.draw()"
      ],
      "outputs": [],
      "metadata": {
        "id": "BG377oLJ9yMs"
      }
    },
    {
      "cell_type": "markdown",
      "source": [
        "we can represent the simultaneous operations (H & X) using their kronecker product:\n",
        "\n",
        "$$\n",
        "X|q_1\\rangle \\otimes H|q_0\\rangle = (X\\otimes H)|q_1 q_0\\rangle\n",
        "$$\n",
        "\n",
        "The operation looks like this:\n",
        "\n",
        "$$\n",
        "X\\otimes H = \\begin{bmatrix} 0 & 1 \\\\ 1 & 0 \\end{bmatrix} \\otimes \\tfrac{1}{\\sqrt{2}}\\begin{bmatrix} 1 & 1 \\\\ 1 & -1 \\end{bmatrix}\n",
        "$$\n",
        "\n",
        "$$\n",
        "= \\frac{1}{\\sqrt{2}}\n",
        "\\begin{bmatrix} 0 \\times \\begin{bmatrix} 1 & 1 \\\\ 1 & -1 \\end{bmatrix}\n",
        "              & 1 \\times \\begin{bmatrix} 1 & 1 \\\\ 1 & -1 \\end{bmatrix}\n",
        "                \\\\ \n",
        "                1 \\times \\begin{bmatrix} 1 & 1 \\\\ 1 & -1 \\end{bmatrix}\n",
        "              & 0 \\times \\begin{bmatrix} 1 & 1 \\\\ 1 & -1 \\end{bmatrix}\n",
        "\\end{bmatrix} \n",
        "$$\n",
        "\n",
        "$$\n",
        "= \\frac{1}{\\sqrt{2}}\n",
        "\\begin{bmatrix} 0 & 0 & 1 & 1 \\\\\n",
        "                0 & 0 & 1 & -1 \\\\\n",
        "                1 & 1 & 0 & 0 \\\\\n",
        "                1 & -1 & 0 & 0 \\\\\n",
        "\\end{bmatrix}\n",
        "$$\n",
        "\n",
        "Which we can then apply to our 4D statevector $|q_1 q_0\\rangle$. This can become quite messy, you will often see the clearer notation:\n",
        "\n",
        "$$\n",
        "X\\otimes H = \n",
        "\\begin{bmatrix} 0 & H \\\\\n",
        "               H & 0\\\\\n",
        "\\end{bmatrix}\n",
        "$$\n",
        "\n",
        "Instead of calculating this by hand, we can use Qiskit’s `aer_simulator` to calculate this for us. The Aer simulator multiplies all the gates in our circuit together to compile a single unitary matrix that performs the whole quantum circuit:"
      ],
      "metadata": {
        "id": "_sLFg3qB9yMs"
      }
    },
    {
      "cell_type": "code",
      "execution_count": null,
      "source": [
        "usim = Aer.get_backend('aer_simulator')\n",
        "qc.save_unitary()\n",
        "qobj = assemble(qc)\n",
        "unitary = usim.run(qobj).result().get_unitary()"
      ],
      "outputs": [],
      "metadata": {
        "id": "TPSSEIC19yMs"
      }
    },
    {
      "cell_type": "markdown",
      "source": [
        "and view the results:"
      ],
      "metadata": {
        "id": "QMWd1tXb9yMt"
      }
    },
    {
      "cell_type": "code",
      "execution_count": null,
      "source": [
        "# In Jupyter Notebooks we can display this nicely using Latex.\n",
        "# If not using Jupyter Notebooks you may need to remove the \n",
        "# array_to_latex function and use print(unitary) instead.\n",
        "from qiskit.visualization import array_to_latex\n",
        "array_to_latex(unitary, prefix=\"\\\\text{Circuit = }\\n\")"
      ],
      "outputs": [],
      "metadata": {
        "id": "eebGchZU9yMt"
      }
    },
    {
      "cell_type": "markdown",
      "source": [
        "If we want to apply a gate to only one qubit at a time (such as in the circuit below), we describe this using kronecker product with the identity matrix, e.g.:\n",
        "\n",
        "$$ X \\otimes I $$"
      ],
      "metadata": {
        "id": "aTEJdNde9yMt"
      }
    },
    {
      "cell_type": "code",
      "execution_count": null,
      "source": [
        "qc = QuantumCircuit(2)\n",
        "qc.x(1)\n",
        "qc.draw()"
      ],
      "outputs": [],
      "metadata": {
        "id": "6MWDQ1_A9yMt"
      }
    },
    {
      "cell_type": "code",
      "execution_count": null,
      "source": [
        "# Simulate the unitary\n",
        "usim = Aer.get_backend('aer_simulator')\n",
        "qc.save_unitary()\n",
        "qobj = assemble(qc)\n",
        "unitary = usim.run(qobj).result().get_unitary()\n",
        "# Display the results:\n",
        "array_to_latex(unitary, prefix=\"\\\\text{Circuit = } \")"
      ],
      "outputs": [],
      "metadata": {
        "id": "F0B_UXv09yMt"
      }
    },
    {
      "cell_type": "markdown",
      "source": [
        "We can see Qiskit has performed the kronecker product:\n",
        "$$\n",
        "X \\otimes I =\n",
        "\\begin{bmatrix} 0 & I \\\\\n",
        "               I & 0\\\\\n",
        "\\end{bmatrix} = \n",
        "\\begin{bmatrix} 0 & 0 & 1 & 0 \\\\\n",
        "                0 & 0 & 0 & 1 \\\\\n",
        "                1 & 0 & 0 & 0 \\\\\n",
        "                0 & 1 & 0 & 0 \\\\\n",
        "\\end{bmatrix}\n",
        "$$\n",
        "\n",
        "<font color='brown' size=+0>\n",
        "EXERCISES:\n",
        "\n",
        "1. Calculate the single qubit unitary ($U$) created by the sequence of gates: $U = XZH$. Use Qiskit's Aer simulator to check your results.\n",
        "2. Try changing the gates in the circuit above. Calculate their kronecker product, and then check your answer using the Aer simulator.\n",
        "</font>\n",
        "\n",
        "**Note:** Different books, softwares and websites order their qubits differently. This means the kronecker product of the same circuit can look very different. Try to bear this in mind when consulting other sources. \n"
      ],
      "metadata": {
        "id": "Pek71ddU9yMt"
      }
    },
    {
      "cell_type": "markdown",
      "source": [
        "## 3. Multi-Qubit Gates <a id=\"multi-qubit-gates\"></a>\n",
        "\n",
        "Now we know how to represent the state of multiple qubits, we are now ready to learn how qubits interact with each other. An important two-qubit gate is the CNOT-gate.\n",
        "\n",
        "### 3.1 The CNOT-Gate <a id=\"cnot\"></a>\n",
        "\n",
        "You have come across this gate before in the labs. This gate is a conditional gate that performs an X-gate on the second qubit (target), if the state of the first qubit (control) is $|1\\rangle$. The gate is drawn on a circuit like this, with `q0` as the control and `q1` as the target:"
      ],
      "metadata": {
        "id": "5RcmkXOI9yMt"
      }
    },
    {
      "cell_type": "code",
      "execution_count": null,
      "source": [
        "qc = QuantumCircuit(2)\n",
        "# Apply CNOT\n",
        "qc.cx(0,1)\n",
        "# See the circuit:\n",
        "qc.draw()"
      ],
      "outputs": [],
      "metadata": {
        "id": "NxyHltXF9yMt"
      }
    },
    {
      "cell_type": "markdown",
      "source": [
        "When our qubits are not in superposition of $|0\\rangle$ or $|1\\rangle$ (behaving as classical bits), this gate is very simple and intuitive to understand. We can use the classical truth table:\n",
        "\n",
        "| Input (t,c) | Output (t,c) |\n",
        "|:-----------:|:------------:|\n",
        "| 00          | 00           |\n",
        "| 01          | 11           |\n",
        "| 10          | 10           |\n",
        "| 11          | 01           |\n",
        "\n",
        "And acting on our 4D-statevector, it has one of the two matrices:\n",
        "\n",
        "$$\n",
        "\\text{CNOT} = \\begin{bmatrix} 1 & 0 & 0 & 0 \\\\\n",
        "                              0 & 0 & 0 & 1 \\\\\n",
        "                              0 & 0 & 1 & 0 \\\\\n",
        "                              0 & 1 & 0 & 0 \\\\\n",
        "              \\end{bmatrix}, \\quad\n",
        "\\text{CNOT} = \\begin{bmatrix} 1 & 0 & 0 & 0 \\\\\n",
        "                              0 & 1 & 0 & 0 \\\\\n",
        "                              0 & 0 & 0 & 1 \\\\\n",
        "                              0 & 0 & 1 & 0 \\\\\n",
        "              \\end{bmatrix}\n",
        "$$\n",
        "\n",
        "depending on which qubit is the control and which is the target. Different books, simulators and papers order their qubits differently. In our case, the left matrix corresponds to the CNOT in the circuit above. This matrix swaps the amplitudes of $|01\\rangle$ and $|11\\rangle$ in our statevector:\n",
        "\n",
        "$$ \n",
        "|a\\rangle = \\begin{bmatrix} a_{00} \\\\ a_{01} \\\\ a_{10} \\\\ a_{11} \\end{bmatrix}, \\quad \\text{CNOT}|a\\rangle = \\begin{bmatrix} a_{00} \\\\ a_{11} \\\\ a_{10} \\\\ a_{01} \\end{bmatrix} \\begin{matrix} \\\\ \\leftarrow \\\\ \\\\ \\leftarrow \\end{matrix}\n",
        "$$\n",
        "\n",
        "We have seen how this acts on classical states, but let’s now see how it acts on a qubit in superposition. We will put one qubit in the state $|+\\rangle$:"
      ],
      "metadata": {
        "id": "ynBDAQMG9yMt"
      }
    },
    {
      "cell_type": "code",
      "execution_count": null,
      "source": [
        "qc = QuantumCircuit(2)\n",
        "# Apply H-gate to the first:\n",
        "qc.h(0)\n",
        "qc.draw()"
      ],
      "outputs": [],
      "metadata": {
        "id": "3z6jVShN9yMu"
      }
    },
    {
      "cell_type": "code",
      "execution_count": null,
      "source": [
        "# Let's see the result:\n",
        "svsim = Aer.get_backend('aer_simulator')\n",
        "qc.save_statevector()\n",
        "qobj = assemble(qc)\n",
        "final_state = svsim.run(qobj).result().get_statevector()\n",
        "# Print the statevector neatly:\n",
        "array_to_latex(final_state, prefix=\"\\\\text{Statevector = }\")\n",
        "#array_to_latex(np.reshape(final_state, (-1,1)), prefix=\"\\\\text{Statevector = }\")"
      ],
      "outputs": [],
      "metadata": {
        "id": "Gs3XD1s39yMu"
      }
    },
    {
      "cell_type": "markdown",
      "source": [
        "As expected, this produces the state $|0\\rangle \\otimes |{+}\\rangle = |0{+}\\rangle$:\n",
        "\n",
        "$$\n",
        "|0{+}\\rangle = \\tfrac{1}{\\sqrt{2}}(|00\\rangle + |01\\rangle)\n",
        "$$\n",
        "\n",
        "And let’s see what happens when we apply the CNOT gate:"
      ],
      "metadata": {
        "id": "eX6-yzGT9yMu"
      }
    },
    {
      "cell_type": "code",
      "execution_count": null,
      "source": [
        "qc = QuantumCircuit(2)\n",
        "# Apply H-gate to the first:\n",
        "qc.h(0)\n",
        "# Apply a CNOT:\n",
        "qc.cx(0,1)\n",
        "qc.draw()"
      ],
      "outputs": [],
      "metadata": {
        "id": "6ZZH9tJw9yMu"
      }
    },
    {
      "cell_type": "code",
      "execution_count": null,
      "source": [
        "# Let's get the result:\n",
        "qc.save_statevector()\n",
        "qobj = assemble(qc)\n",
        "result = svsim.run(qobj).result()\n",
        "# Print the statevector neatly:\n",
        "final_state = result.get_statevector()\n",
        "array_to_latex(final_state, prefix=\"\\\\text{Statevector = }\")\n",
        "#array_to_latex(np.reshape(final_state, (-1,1)), prefix=\"\\\\text{Statevector = }\")"
      ],
      "outputs": [],
      "metadata": {
        "id": "G6IJRat99yMu"
      }
    },
    {
      "cell_type": "markdown",
      "source": [
        "We see we have the state:\n",
        "\n",
        "$$\n",
        "\\text{CNOT}|0{+}\\rangle = \\tfrac{1}{\\sqrt{2}}(|00\\rangle + |11\\rangle)\n",
        "$$ \n",
        "\n",
        "This state is very interesting to us, because it is _entangled._ This leads us neatly on to the next section."
      ],
      "metadata": {
        "id": "No743GE09yMu"
      }
    },
    {
      "cell_type": "markdown",
      "source": [
        "### 3.2 Entangled States <a id=\"entangled\"></a>\n",
        "\n",
        "We saw in the previous section we could create the state:\n",
        "\n",
        "$$\n",
        "\\tfrac{1}{\\sqrt{2}}(|00\\rangle + |11\\rangle)\n",
        "$$ \n",
        "\n",
        "This is known as a _Bell_ state. We can see that this state has 50% probability of being measured in the state $|00\\rangle$, and 50% chance of being measured in the state $|11\\rangle$. Most interestingly, it has a **0%** chance of being measured in the states $|01\\rangle$ or $|10\\rangle$. We can see this in Qiskit:"
      ],
      "metadata": {
        "id": "AzSf9-aV9yMu"
      }
    },
    {
      "cell_type": "code",
      "execution_count": null,
      "source": [
        "plot_histogram(result.get_counts())"
      ],
      "outputs": [],
      "metadata": {
        "id": "2pnXN-Xj9yMu"
      }
    },
    {
      "cell_type": "markdown",
      "source": [
        "This combined state cannot be written as two separate qubit states, which has interesting implications. Although our qubits are in superposition, measuring one will tell us the state of the other and collapse its superposition. For example, if we measured the top qubit and got the state $|1\\rangle$, the collective state of our qubits changes like so:\n",
        "\n",
        "$$\n",
        "\\tfrac{1}{\\sqrt{2}}(|00\\rangle + |11\\rangle) \\quad \\xrightarrow[]{\\text{measure}} \\quad |11\\rangle\n",
        "$$\n",
        "\n",
        "Even if we separated these qubits light-years away, measuring one qubit collapses the superposition and appears to have an immediate effect on the other. This is the [‘spooky action at a distance’](https://en.wikipedia.org/wiki/Quantum_nonlocality) that upset so many physicists in the early 20th century.\n",
        "\n",
        "It’s important to note that the measurement result is random, and the measurement statistics of one qubit are **not** affected by any operation on the other qubit. Because of this, there is **no way** to use shared quantum states to communicate. This is known as the no-communication theorem.[1]"
      ],
      "metadata": {
        "id": "aKlY2MQX9yMu"
      }
    },
    {
      "cell_type": "markdown",
      "source": [
        "<font color='brown' size=+0>\n",
        "EXERCISES:\n",
        "</p> 1. Create a quantum circuit that produces the Bell state: $\\tfrac{1}{\\sqrt{2}}(|01\\rangle + |10\\rangle)$.\n",
        "   Use the statevector simulator to verify your result.\n",
        "</p> 2. The circuit you created in question 1 transforms the state $|00\\rangle$ to $\\tfrac{1}{\\sqrt{2}}(|01\\rangle + |10\\rangle)$, calculate the unitary of this circuit using Qiskit's simulator. Verify this unitary does in fact perform the correct transformation.\n",
        "</font>"
      ],
      "metadata": {
        "id": "WP8H5QXf9yMv"
      }
    },
    {
      "cell_type": "markdown",
      "source": [
        "## 4. References\n",
        "\n",
        "[1] Asher Peres, Daniel R. Terno, _Quantum Information and Relativity Theory,_ 2004, https://arxiv.org/abs/quant-ph/0212023"
      ],
      "metadata": {
        "id": "-8Er7-9v9yMv"
      }
    },
    {
      "cell_type": "code",
      "execution_count": null,
      "source": [
        "import qiskit.tools.jupyter\n",
        "%qiskit_version_table"
      ],
      "outputs": [],
      "metadata": {
        "id": "huvJlWL59yMv"
      }
    }
  ],
  "metadata": {
    "kernelspec": {
      "display_name": "Python 3",
      "language": "python",
      "name": "python3"
    },
    "language_info": {
      "codemirror_mode": {
        "name": "ipython",
        "version": 3
      },
      "file_extension": ".py",
      "mimetype": "text/x-python",
      "name": "python",
      "nbconvert_exporter": "python",
      "pygments_lexer": "ipython3",
      "version": "3.7.7"
    },
    "colab": {
      "provenance": []
    }
  },
  "nbformat": 4,
  "nbformat_minor": 0
}