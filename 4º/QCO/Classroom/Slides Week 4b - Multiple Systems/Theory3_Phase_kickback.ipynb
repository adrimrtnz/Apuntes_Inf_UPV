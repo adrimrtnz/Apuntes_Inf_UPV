{
  "cells": [
    {
      "cell_type": "markdown",
      "metadata": {
        "tags": [
          "remove_cell"
        ],
        "id": "Slf3pMDP6_Qn"
      },
      "source": [
        "# Theory 3 - Phase Kickback\n",
        "\n"
      ]
    },
    {
      "cell_type": "code",
      "source": [
        "# ALWAYS RUN THIS CELL AFTER YOU LOAD (OR RELOAD) THE NOTEBOOK\n",
        "\n",
        "# Generic cell for correct operation of QCO materials in Google Colab (jcperez@disca.upv.es):\n",
        "!pip -qqq install qiskit[visualization]\n",
        "import qiskit\n",
        "%matplotlib inline\n",
        "qiskit.__version__\n",
        "\n",
        "# Not always necessary (jcperez@disca.upv.es):\n",
        "!pip -qqq install git+https://github.com/qiskit-community/qiskit-textbook.git#subdirectory=qiskit-textbook-src\n",
        "\n",
        "# To fix a bug/version incompatibility in that file (jcperez@disca.upv.es):\n",
        "!sed -ie 's/denominator >/denominator() >/g' /usr/local/lib/python3.8/dist-packages/qiskit/visualization/array.py\n",
        "\n",
        "# To set graphical circuit drawing by default in qiskit (jcperez@disca.upv.es):\n",
        "!mkdir ${HOME}/.qiskit 2>/dev/null\n",
        "!printf \"[default]\\ncircuit_drawer = mpl\\n\" > ${HOME}/.qiskit/settings.conf"
      ],
      "metadata": {
        "id": "dAa9wrPXrHdX"
      },
      "execution_count": null,
      "outputs": []
    },
    {
      "cell_type": "markdown",
      "metadata": {
        "tags": [
          "contents"
        ],
        "id": "y9ynhxxd6_Qp"
      },
      "source": [
        "## Contents\n",
        "\n",
        "1. [Exploring the CNOT-Gate](#exploring-cnot)\n",
        "2. [Phase Kickback](#kickback)     \n",
        "    2.1 [Explaining the CNOT Circuit Identity](#explaining-identity)     \n",
        "    2.2 [Kickback with the T-gate](#kickback-t-gate)    "
      ]
    },
    {
      "cell_type": "markdown",
      "metadata": {
        "id": "C3tDE5C96_Qp"
      },
      "source": [
        "## 1. Exploring the CNOT-Gate <a id=\"exploring-cnot\"></a>\n",
        "\n",
        "In the previous section, we saw some very basic results with the CNOT gate. Here we will explore some more interesting results. \n",
        "\n",
        "We saw that we could entangle the two qubits by placing the control qubit in the state $|+\\rangle$:\n",
        "\n",
        "$$\n",
        "\\text{CNOT}|0{+}\\rangle = \\tfrac{1}{\\sqrt{2}}(|00\\rangle + |11\\rangle)\n",
        "$$\n",
        "\n",
        "But what happens if we put the second qubit in superposition? "
      ]
    },
    {
      "cell_type": "code",
      "execution_count": null,
      "metadata": {
        "tags": [
          "thebelab-init"
        ],
        "id": "uyHjKV9F6_Qq"
      },
      "outputs": [],
      "source": [
        "from qiskit import QuantumCircuit, Aer, assemble\n",
        "from math import pi\n",
        "import numpy as np\n",
        "from qiskit.visualization import plot_bloch_multivector, plot_histogram, array_to_latex"
      ]
    },
    {
      "cell_type": "code",
      "execution_count": null,
      "metadata": {
        "id": "c4elNvZP6_Qq"
      },
      "outputs": [],
      "source": [
        "qc = QuantumCircuit(2)\n",
        "qc.h(0)\n",
        "qc.h(1)\n",
        "qc.cx(0,1)\n",
        "qc.draw()"
      ]
    },
    {
      "cell_type": "markdown",
      "metadata": {
        "id": "YS7Im39b6_Qr"
      },
      "source": [
        "In the circuit above, we have the CNOT acting on the state:\n",
        "\n",
        "$$ |{+}{+}\\rangle = \\tfrac{1}{2}(|00\\rangle + |01\\rangle + |10\\rangle + |11\\rangle) $$\n",
        "\n",
        "Since the CNOT swaps the amplitudes of $|01\\rangle$ and $|11\\rangle$, we see no change:"
      ]
    },
    {
      "cell_type": "code",
      "execution_count": null,
      "metadata": {
        "id": "ushWp1SP6_Qr"
      },
      "outputs": [],
      "source": [
        "qc = QuantumCircuit(2)\n",
        "qc.h(0)\n",
        "qc.h(1)\n",
        "qc.cx(0,1)\n",
        "display(qc.draw())  # `display` is a command for Jupyter notebooks\n",
        "                    # similar to `print`, but for rich content\n",
        "\n",
        "# Let's see the result\n",
        "svsim = Aer.get_backend('aer_simulator')\n",
        "qc.save_statevector()\n",
        "qobj = assemble(qc)\n",
        "final_state = svsim.run(qobj).result().get_statevector()\n",
        "display(array_to_latex(final_state, prefix=\"\\\\text{Statevector} = \"))"
      ]
    },
    {
      "cell_type": "markdown",
      "metadata": {
        "id": "bJvcWiWr6_Qr"
      },
      "source": [
        "Let’s put the target qubit in the state $|-\\rangle$, so it has a negative phase:"
      ]
    },
    {
      "cell_type": "code",
      "execution_count": null,
      "metadata": {
        "id": "2OZyHtl76_Qs"
      },
      "outputs": [],
      "source": [
        "qc = QuantumCircuit(2)\n",
        "qc.h(0)\n",
        "qc.x(1)\n",
        "qc.h(1)\n",
        "qc.draw()"
      ]
    },
    {
      "cell_type": "markdown",
      "metadata": {
        "id": "A47h_5k36_Qs"
      },
      "source": [
        "This creates the state:\n",
        "\n",
        "$$ |{-}{+}\\rangle = \\tfrac{1}{2}(|00\\rangle + |01\\rangle - |10\\rangle - |11\\rangle) $$"
      ]
    },
    {
      "cell_type": "markdown",
      "source": [
        "<font color='brown' size=+0>\n",
        "EXERCISE: Develop this result from the sate vectors of $|{-}\\rangle$$ and $$|{+}\\rangle$"
      ],
      "metadata": {
        "id": "25P2FwMl7KBA"
      }
    },
    {
      "cell_type": "code",
      "execution_count": null,
      "metadata": {
        "id": "rutlQzFC6_Qs"
      },
      "outputs": [],
      "source": [
        "qc = QuantumCircuit(2)\n",
        "qc.h(0)\n",
        "qc.x(1)\n",
        "qc.h(1)\n",
        "display(qc.draw())\n",
        "# See the result\n",
        "qc1 = qc.copy()\n",
        "qc1.save_statevector()\n",
        "final_state = svsim.run(qc1).result().get_statevector()\n",
        "display(array_to_latex(final_state, prefix=\"\\\\text{Statevector} = \"))"
      ]
    },
    {
      "cell_type": "markdown",
      "metadata": {
        "id": "0ccP-vnJ6_Qs"
      },
      "source": [
        "If the CNOT acts on this state, we will swap the amplitudes of $|01\\rangle$ and $|11\\rangle$, resulting in the state:\n",
        "\n",
        "$$\n",
        "\\begin{aligned}\n",
        "\\text{CNOT}|{-}{+}\\rangle & = \\tfrac{1}{2}(|00\\rangle - |01\\rangle - |10\\rangle + |11\\rangle) \\\\\n",
        "                           & = |{-}{-}\\rangle\n",
        "\\end{aligned}\n",
        "$$\n",
        "\n",
        "\n",
        "This is interesting, because it affects the state of the _control_ qubit while leaving the state of the _target_ qubit unchanged. \n"
      ]
    },
    {
      "cell_type": "code",
      "execution_count": null,
      "metadata": {
        "id": "y2NeTKHu6_Qt"
      },
      "outputs": [],
      "source": [
        "qc.cx(0,1)\n",
        "display(qc.draw())\n",
        "\n",
        "qc.save_statevector()\n",
        "qobj = assemble(qc)\n",
        "final_state = svsim.run(qobj).result().get_statevector(qc)\n",
        "display(array_to_latex(final_state, prefix=\"\\\\text{Statevector} = \"))"
      ]
    },
    {
      "cell_type": "markdown",
      "metadata": {
        "id": "M9NdDzmB6_Qt"
      },
      "source": [
        "If you remember the H-gate transforms $|{+}\\rangle \\rightarrow |0\\rangle$ and $|{-}\\rangle \\rightarrow |1\\rangle$, we can see that wrapping a CNOT in H-gates has the equivalent behaviour of a CNOT acting in the opposite direction: \n",
        "\n",
        "![image.png](data:image/png;base64,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)\n",
        "\n",
        "We can verify this using Qiskit's Aer simulator:"
      ]
    },
    {
      "cell_type": "code",
      "execution_count": null,
      "metadata": {
        "id": "Hcgy8eq66_Qt"
      },
      "outputs": [],
      "source": [
        "qc = QuantumCircuit(2)\n",
        "qc.h(0)\n",
        "qc.h(1)\n",
        "qc.cx(0,1)\n",
        "qc.h(0)\n",
        "qc.h(1)\n",
        "display(qc.draw()) \n",
        "\n",
        "qc.save_unitary()\n",
        "usim = Aer.get_backend('aer_simulator')\n",
        "qobj = assemble(qc)\n",
        "unitary = usim.run(qobj).result().get_unitary()\n",
        "array_to_latex(unitary, prefix=\"\\\\text{Circuit = }\\n\")"
      ]
    },
    {
      "cell_type": "code",
      "execution_count": null,
      "metadata": {
        "id": "gONjkBsH6_Qt"
      },
      "outputs": [],
      "source": [
        "qc = QuantumCircuit(2)\n",
        "qc.cx(1,0)\n",
        "display(qc.draw())\n",
        "qc.save_unitary()\n",
        "\n",
        "qobj = assemble(qc)\n",
        "unitary = usim.run(qobj).result().get_unitary()\n",
        "array_to_latex(unitary, prefix=\"\\\\text{Circuit = }\\n\")"
      ]
    },
    {
      "cell_type": "markdown",
      "metadata": {
        "id": "4xKyNgZ16_Qu"
      },
      "source": [
        "This identity is an example of _phase kickback."
      ]
    },
    {
      "cell_type": "code",
      "execution_count": null,
      "metadata": {
        "id": "lURYprhm6_Qw"
      },
      "outputs": [],
      "source": [
        "import qiskit.tools.jupyter\n",
        "%qiskit_version_table"
      ]
    }
  ],
  "metadata": {
    "kernelspec": {
      "display_name": "Python 3",
      "language": "python",
      "name": "python3"
    },
    "language_info": {
      "codemirror_mode": {
        "name": "ipython",
        "version": 3
      },
      "file_extension": ".py",
      "mimetype": "text/x-python",
      "name": "python",
      "nbconvert_exporter": "python",
      "pygments_lexer": "ipython3",
      "version": "3.8.6"
    },
    "colab": {
      "provenance": []
    }
  },
  "nbformat": 4,
  "nbformat_minor": 0
}