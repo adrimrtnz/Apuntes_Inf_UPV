{
  "cells": [
    {
      "cell_type": "markdown",
      "metadata": {
        "tags": [
          "remove_cell"
        ],
        "id": "1hc50CTy3vgG"
      },
      "source": [
        "# Theory 4 - Oracles"
      ]
    },
    {
      "cell_type": "markdown",
      "metadata": {
        "id": "Ns97WfjO3vgI"
      },
      "source": [
        "## 1. Consulting an Oracle <a id='oracle'></a>\n",
        "\n",
        "Many quantum algorithms are based around the analysis of some function $f(x)$. Often these algorithms simply assume the existence of some 'black box' implementation of this function, which we can give an input $x$ and receive the corresponding output $f(x)$. This is referred to as an *oracle*.\n",
        "\n",
        "The advantage of thinking of the oracle in this abstract way allows us to concentrate on the quantum techniques we use to analyze the function, rather than the function itself. \n",
        "\n",
        "In order to understand how an oracle works within a quantum algorithm, we need to be specific about how they are defined. One of the  main forms that oracles take is that of *Boolean oracles*. These are described by the following unitary matrix,\n",
        "\n",
        "$$\n",
        "U_f \\left|x , \\bar 0 \\right\\rangle = \\left|x, f(x)\\right\\rangle.\n",
        "$$\n",
        "\n",
        "Here $\\left|x , \\bar 0 \\right\\rangle = \\left|x \\right\\rangle \\otimes \\left|\\bar 0 \\right\\rangle$ is used to represent a multi-qubit state consisting of two registers. The first register is in state $\\left|x\\right\\rangle$, where $x$ is a binary representation of the input to our function. The number of qubits in this register is the number of bits required to represent the inputs.\n",
        "\n",
        "The reason for repeating the input at the output is because a quantum circuit must always comply with the *reversibility* property. A unitary of the form $U = \\sum_x \\left| f(x) \\right\\rangle \\left\\langle x \\right|$ is only possible if every unique input $x$ results in a unique output $f(x)$ (i.e. knowing $f(x)$ should always allow us to know $x$), which is not true in general. Digital circuits do not have to adhere to this restriction. Think of an AND gate. Can you know the values of the two input bits by looking only at the (1 bit) output? If the two input bits are copied to the output side, then knowing the inputs from the (3 bit) output is direct: the circuit is reversible.\n",
        "\n",
        "In the right side of the equation $U_f \\left|x , \\bar 0 \\right\\rangle = \\left|x, f(x)\\right\\rangle$, the job of the second register is to similarly encode the output. Specifically, the state of this register after applying $U_f$ will be a binary representation of the output $\\left|f(x)\\right\\rangle$, and this register will consist of as many qubits as are required for this (one, for a boolean oracle). The initial state $\\left|\\bar 0 \\right\\rangle$ for this register represents the state for which all qubits are $\\left|0 \\right\\rangle$. For other initial states, applying $U_f$ will lead to different results. The specific results that arise will depend on how we define the unitary $U_f$.\n",
        "\n",
        "Another form of oracle is the *phase oracle*, which is defined as follows,\n",
        "\n",
        "$$\n",
        "P_f \\left|x \\right\\rangle = (-1)^{f(x)} \\left|x \\right\\rangle,\n",
        "$$\n",
        "\n",
        "where the output $f(x)$ is typically a single bit value $0$ or $1$.\n",
        "\n",
        "Though it seems much different in form from the Boolean oracle, it is very much another expression of the same basic idea. In fact, it can be realized using the same 'phase kickback' mechanism as described in a previous section.\n",
        "\n",
        "To see this, consider the Boolean oracle $U_f$ that would correspond to the same function. This can be implemented as something that is essentially a generalized form of the controlled-NOT. It is controlled on the input register, such that it leaves the output bit in state $\\left|0 \\right\\rangle$ for $f(x)=0$, and applies an $X$ to flip it to $\\left|1 \\right\\rangle$ if $f(x)=1$. If the initial state of the output register were $\\left|- \\right\\rangle$ rather than $\\left|0 \\right\\rangle$, the effect of $U_f$ would then be to induce exactly the phase of $(-1)^{f(x)}$ required.\n",
        "\n",
        "$$\n",
        "U_f \\left( \\left|x \\right\\rangle \\otimes \\left| - \\right\\rangle \\right) = (P_f \\otimes I) \\left( \\left|x \\right\\rangle \\otimes \\left| - \\right\\rangle \\right)\n",
        "$$\n",
        "\n",
        "We will see this later more graphically in the explanation of the Deustch-Jozsa algorithm.\n",
        "\n",
        "Since the $\\left|- \\right\\rangle$ state of the output qubit is left unchanged by the whole process, it can safely be ignored. The end effect is therefore that the phase oracle is simply implemented by the corresponding Boolean oracle by changing the $\\left| 0 \\right\\rangle$ input by $\\left| - \\right\\rangle$."
      ]
    }
  ],
  "metadata": {
    "kernelspec": {
      "display_name": "Python 3",
      "language": "python",
      "name": "python3"
    },
    "language_info": {
      "codemirror_mode": {
        "name": "ipython",
        "version": 3
      },
      "file_extension": ".py",
      "mimetype": "text/x-python",
      "name": "python",
      "nbconvert_exporter": "python",
      "pygments_lexer": "ipython3",
      "version": "3.7.7"
    },
    "colab": {
      "provenance": [],
      "collapsed_sections": [
        "Ns97WfjO3vgI"
      ]
    }
  },
  "nbformat": 4,
  "nbformat_minor": 0
}